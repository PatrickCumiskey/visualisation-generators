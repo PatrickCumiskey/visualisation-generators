{
 "cells": [
  {
   "cell_type": "markdown",
   "metadata": {},
   "source": [
    "# Graph Generation\n",
    "\n",
    "This notebook generates a series of gephi graph files displaying different aspects of a literary text marked up using the Chronotopic Cartographies XML schema.\n",
    "\n",
    "**To generate the graphs:**\n",
    "- Put your **valid** XML file in the 'files/xml/' folder, in the folder containing this notebook. \n",
    "- Edit cell 3 so that the 'input_file' variable is the name of the file you want to process. \n",
    "- Run the cells in order - the output from cell 5 will give you warnings if your xml file isn't valid, and will tell you what lines the problems are on. Edit the XML file and re-run cells 4 and 5 until you don't get any further errors.\n",
    "- Run cell 6. Your graphs will be saved in 'files/graphs/' and can be opened in Gephi for layout."
   ]
  },
  {
   "cell_type": "code",
   "execution_count": 1,
   "metadata": {},
   "outputs": [],
   "source": [
    "import graph_generators"
   ]
  },
  {
   "cell_type": "code",
   "execution_count": 2,
   "metadata": {},
   "outputs": [],
   "source": [
    "# Edit the 'input_file' variable below to the name of your marked up XML file. \n",
    "# Make sure it's in the folder named in the 'xml_dir' variable - if you've downloaded this notebook from GitHub and are running it on your own machine, you shouldn't need to change this.\n",
    "\n",
    "input_file = 'war-of-the-worlds.xml'"
   ]
  },
  {
   "cell_type": "code",
   "execution_count": 3,
   "metadata": {},
   "outputs": [],
   "source": [
    "tester = graph_generators.CCXMLValidator(file=xml_dir + input_file)"
   ]
  },
  {
   "cell_type": "code",
   "execution_count": 4,
   "metadata": {},
   "outputs": [],
   "source": [
    "tester.check_xml()"
   ]
  },
  {
   "cell_type": "code",
   "execution_count": 5,
   "metadata": {},
   "outputs": [],
   "source": [
    "graph_generators.generate_all(file=input_file)"
   ]
  }
 ],
 "metadata": {
  "kernelspec": {
   "display_name": "Python 3",
   "language": "python",
   "name": "python3"
  },
  "language_info": {
   "codemirror_mode": {
    "name": "ipython",
    "version": 3
   },
   "file_extension": ".py",
   "mimetype": "text/x-python",
   "name": "python",
   "nbconvert_exporter": "python",
   "pygments_lexer": "ipython3",
   "version": "3.6.6"
  }
 },
 "nbformat": 4,
 "nbformat_minor": 4
}

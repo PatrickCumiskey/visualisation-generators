{
 "cells": [
  {
   "cell_type": "markdown",
   "metadata": {},
   "source": [
    "# Using the Spatial Schema\n",
    "\n",
    "The Chronotopic Cartographies spatial schema identifies three principal units of the literary text: *topoi*, or spatial frames; *toporefs*, or linguistic spatial references within a spatial frame; and *connections*, which are described or implied spatial connections between topoi.\n",
    "\n",
    "This notebook gives comprehensive instructions, with worked examples and excercises, on how to use these components to mark up a text using the schema. The subsequent notebooks show you how to use your marked-up text to create a relative spatial graph of your reading of it.\n",
    "\n",
    "### Prerequistes\n",
    "\n",
    "Whilst this notebook talks you through the full process for marking up a text, some experience of using XML is recommended. A good primer can be found here: https://www.ibm.com/developerworks/library/x-newxml/index.html. Wikipedia's [entry on markup languages](https://en.wikipedia.org/wiki/Markup_language) is also useful for an overview of what a markup language is and why they're useful for humanities scholarship.\n",
    "\n",
    "Whilst we won't be diving deep into Python, we will be using some simple commands to check our work as we go along. If you don't have any familiarity with programming with Python, the sections on *variables* and *types* on [this web page](https://automatetheboringstuff.com/2e/chapter1/) are worth a quick scan, but it's not essential.\n",
    "\n",
    "\n",
    "---\n",
    "## Topoi\n",
    "\n",
    "### Definition\n",
    "A topos defines a spatial frame in both terms of narrative and chronotope: i.e., it indicates a place in which a section of narrative is set, and characterises that setting in terms of Bakhtin's terminology. In order to keep track of settings, they are given a unique name (the 'framename' attribute), ideally derived from the text. However, as long as the name is consistent across settings (i.e., a setting within the text is always referred to in the ‘frame’ attribute with the same name) it is in effect arbitrary.  If a chapter break occurs with the successor set in the same frame a new identically-named frame will need to be opened, but no connection tag is needed.\n",
    "\n",
    "For example, in Coleridge's *Rime of the Ancyent Marinere*, the text moves between multiple identifiable settings: the Wedding at which the Mariner encounters the Guest; the Harbour from which the Mariner's ship departs; the Southern Ocean where the Mariner shoots the Albatross. Identifying these spaces and naming them allows us to track how much of the narrative is dedicated to each, their relative significance, and how they are connected.\n",
    "\n",
    "For the ‘type’ attribute, use the table of chronotopes in the schema document and choose which you think is most appropriate. These are taken from Bakhtin’s essay ‘Forms of Time and the Chronotope in the Novel’. In the example below, the Wedding is coded ‘encounter’, as this best describes the nature of how the Guest meets the Mariner, whilst the Harbour is coded a ‘threshold’ as it marks the point at which the Mariner leaves the safety of his home port and begins his journey.\n",
    "\n",
    "### Markup\n",
    "\n",
    "```xml\n",
    "<topos type=\"xx\" framename=\"yy\"> </topos>\n",
    "```\n",
    "\n",
    "#### Attributes\n",
    "\n",
    "**```framename:```** The name of the topos. This is arbitrary and at the coder's discretion, with two caveats: each topos in the text must have a unique framename; and if the text returns to a topos more than once, the corresponding text blocks must have the same framename attribute.\n",
    "\n",
    "**```type:```** The chronotopic archetype, as defined in the table below:\n",
    "\n",
    "Chronotope       | Definition \n",
    "---|---\n",
    "encounter | Can occur anywhere (but often on the road), unexpected diversion, sudden shift, any meeting\n",
    "road | Paths, travel, journey, options, coming and going, wandering\n",
    "castle | Confined, Imprisonment, static, discomfort, dark, visible traces of the past\n",
    "idyll | Familiarity, comfort, happiness, pleasure, peace, respite, self-contained, unified, stable, homely, known\n",
    "wilderness | the wild, openness, freedom, untouched, the earth, the natural world, unity\n",
    "anti-idyll | vast, abstract, egotistically sealed-off interior worlds, mechanical, the idyll destroyed, invaded/made alien\n",
    "threshold | The hall, the corridor, the staircase, the street, docks, stations, liminal, emotionally charged, intense, sublime, excess, contrasts \n",
    "parlour | Interior, room, defined, hosting guests, where the public and private merge, where dialogues happen, site of political and commercial intrigue\n",
    "provincial town | Community, locality, rustic, petty-bourgeois, specific locales, quaint little houses and rooms of the town, sleepy streets\n",
    "public square | Dynamic, crowd, forum, metropolitan, the internal externalized (the private/intimate becomes public), theatrical (place of the clown, the rogue, the fool)\n",
    "distorition | Elsewhere, miraculous, bewitched, dreamstates, (occurring on the vertical axis - ie. depth and height)\n",
    "metanarrative | For sections of text removed from the narrative and without a definable sense of space, could be internal (e.g. commentary, where the author inserts themselves, morals, etc) or external (e.g. glosses, framing statements, authorial/editorial notes, etc) to the narrative.\n",
    "\n",
    "\n",
    "### Example: From *Rime of the Ancyent Marinere*\n",
    "\n",
    "```xml\n",
    "\n",
    "<topos type=\"encounter\" framename=\"Wedding\">\n",
    "It is an ancient Mariner,\n",
    "And he stoppeth one of three.\n",
    "'By thy long beard and glittering eye,\n",
    "Now wherefore stopp'st thou me?\n",
    "\n",
    "The Bridegroom's doors are opened wide,\n",
    "And I am next of kin;\n",
    "The guests are met, the feast is set:\n",
    "May'st hear the merry din.'\n",
    "\n",
    "He holds him with his skinny hand,\n",
    "'There was a ship,' quoth he.\n",
    "'Hold off! unhand me, grey-beard loon!'\n",
    "Eftsoons his hand dropt he.\n",
    "\n",
    "He holds him with his glittering eye—\n",
    "The Wedding-Guest stood still,\n",
    "And listens like a three years' child:\n",
    "The Mariner hath his will.\n",
    "\n",
    "The Wedding-Guest sat on a stone:\n",
    "He cannot choose but hear;\n",
    "And thus spake on that ancient man,\n",
    "The bright-eyed Mariner.</topos>\n",
    "\n",
    "<topos type=\"threshold\" framename=\"Harbour\">'The ship was cheer'd, the harbour clear'd,\n",
    "Merrily did we drop\n",
    "Below the kirk, below the hill,\n",
    "Below the lighthouse top.\n",
    "\n",
    "The Sun came up upon the left,\n",
    "Out of the sea came he!\n",
    "And he shone bright, and on the right\n",
    "Went down into the sea.\n",
    "\n",
    "Higher and higher every day,\n",
    "Till over the mast at noon——'</topos>\n",
    "\n",
    "<topos type=\"encounter\" framename=\"Wedding\">The Wedding-Guest here beat his breast,\n",
    "For he heard the loud bassoon.\n",
    "\n",
    "The bride hath paced into the hall,\n",
    "Red as a rose is she;\n",
    "Nodding their heads before her goes\n",
    "The merry minstrelsy.\n",
    "\n",
    "The Wedding-Guest he beat his breast,\n",
    "Yet he cannot choose but hear;\n",
    "And thus spake on that ancient man,\n",
    "The bright-eyed Mariner.</topos>\n",
    "```"
   ]
  },
  {
   "cell_type": "markdown",
   "metadata": {},
   "source": [
    "## Exercise\n",
    "\n",
    "These instructions are contained in what's called an iPython notebook, which is a way of combining *code*, ie. instructions to the computer, written in the Python programming language, with text and images. A notebook is broken up into 'cells' of text (such as this one), and code, such as the one below.\n",
    "\n",
    "If you click on the cell below and then click on the 'play' button in the toolbar above, you'll see this in action:"
   ]
  },
  {
   "cell_type": "code",
   "execution_count": 1,
   "metadata": {},
   "outputs": [
    {
     "data": {
      "text/plain": [
       "2"
      ]
     },
     "execution_count": 1,
     "metadata": {},
     "output_type": "execute_result"
    }
   ],
   "source": [
    "1 + 1"
   ]
  },
  {
   "cell_type": "markdown",
   "metadata": {},
   "source": [
    "If everything worked as it should, you should see the result of the calculation printed below the cell.\n",
    "\n",
    "This allows practical exercises to be integrated with the schema documentation, so you can try using it and make sure you understand it before you go on to use it on a text of your own.\n",
    "\n",
    "Below is a short extract from William Wordsworth's comic ballad 'The Idiot Boy', which we'll use throughout this notebook as our example text. It describes the journey of Betty Foy, the mother of the Johnny (the boy of the title), as she looks for her son, who has got lost when tasked with fetching a doctor from the nearest town to tend to a sick neighbour.\n",
    "\n",
    "Over the course of this notebook we'll be progressively marking up the text until all of the topoi, the connections between them, and the toporefs within each are annotated. We'll then save the file and use it in the subsequent notebooks to generate an example series of graphs, lay it out in gephi, and then create a visualisation.\n",
    "\n",
    "### Adding the topoi\n",
    "\n",
    "The first thing to do is to add topoi tags to passage below. In our reading of the text, we identified at least five. The first has been added for you. At each point that in the poem that the spatial frame changes, we need to add new topoi tags to identify it.\n",
    "\n",
    "To do this, double click on this cell to enter 'edit' mode, and then copy the blank topos tag below to your clipboard (without the backticks -  \\`\\`\\`). Then after the first ```</topos>``` tag, paste it into the passage below. Give it a suitable name (from the passage, 'the bridge' would be appropriate), and a spatial type (probably 'road' again). \n",
    "\n",
    "```<topos framename=\"\" type=\"\">```\n",
    "\n",
    "Read through, and when you identify the next spatial shift (to our reading at the end of the third stanza), close the block by adding a closing ```</topos>``` tag.\n",
    "\n",
    "Keep going until the whole text is enclosed topoi blocks, ie. every space of the poem is identified and marked. When you're done, scroll down to the next cell to continue.\n",
    "\n",
    "\n",
    "\n",
    "```xml\n",
    "<document>\n",
    "<topos framename=\"moonlight lane\" type=\"road\">\n",
    "So, through the moonlight lane she goes,\n",
    "And far into the moonlight dale;\n",
    "And how she ran, and how she walked, \n",
    "And all that to herself she talked, \n",
    "Would surely be a tedious tale.\n",
    "\n",
    "In high and low, above, below,\n",
    "In great and small, in round and square, \n",
    "In tree and tower was Johnny seen,\n",
    "In bush and brake, in black and green, \n",
    "’Twas Johnny, Johnny, every where.</topos>\n",
    "\n",
    "She’s past the bridge that’s in the dale,\n",
    "And now the thought torments her sore, \n",
    "Johnny perhaps his horse forsook,\n",
    "To hunt the moon that's in the brook, \n",
    "And never will be heard of more.\n",
    "\n",
    "And now she’s high upon the down,\n",
    "Alone amid a prospect wide;\n",
    "There’s neither Johnny nor his horse,\n",
    "Among the fern or in the gorse;\n",
    "There’s neither doctor nor his guide.\n",
    "\n",
    "“Oh saints! what is become of him?\n",
    "“Perhaps he's climbed into an oak,\n",
    "“Where he will stay till he is dead;\n",
    "“Or sadly he has been misled,\n",
    "“And joined the wandering gypsey-folk.\n",
    "\n",
    "“Or him that wicked pony’s carried \n",
    "“To the dark cave, the goblins’ hall,\n",
    "“Or in the castle he’s pursuing,\n",
    "\"Among the ghosts, his own undoing;\n",
    "\"Or playing with the waterfall.\"\n",
    "\n",
    "At poor old Susan then she railed, \n",
    "While to the town she posts away;\n",
    "“If Susan had not been so ill,\n",
    "“Alas! I should have had him still, \n",
    "\"My Johnny, till my dying day.\"\n",
    "\n",
    "Poor Betty! in this sad distemper,\n",
    "The doctor’s self would hardly spare, \n",
    "Unworthy things she talked and wild, \n",
    "Even he, of cattle the most mild,\n",
    "The pony had his share.\n",
    "\n",
    "And now she’s got into the town,\n",
    "And to the doctor’s door she hies;\n",
    "’Tis silence all on every side;\n",
    "The town so long, the town so wide,\n",
    "Is silent as the skies.\n",
    "\n",
    "And now she’s at the doctor's door,\n",
    "She lifts the knocker, rap, rap, rap,\n",
    "The doctor at the casement shews,\n",
    "His glimmering eyes that peep and doze; \n",
    "And one hand rubs his old night-cap.\n",
    "</document>\n",
    "```"
   ]
  },
  {
   "cell_type": "markdown",
   "metadata": {},
   "source": [
    "### Validating your markup\n",
    "\n",
    "The next stage of the process is to test that your markup is correct and can be read by the computer to create the graphs and subsequent visualisations. To do this, your XML needs to be firstly 'well-formed' - that is, it does not contain any typos or errors which mean that it can't be read by the computer; and secondly that there aren't any errors in the way you've used the Chronotopic Cartographies schema.\n",
    "\n",
    "To do this, we're going to use some simple Python commands. You don't need to understand how these work, but you do need to be able to understand the messages that they produce, as they'll help you fix errors in your markup.\n",
    "\n",
    "Run the next cell for an example of how the process works:"
   ]
  },
  {
   "cell_type": "code",
   "execution_count": 2,
   "metadata": {},
   "outputs": [
    {
     "name": "stdout",
     "output_type": "stream",
     "text": [
      "XML is well-formed\n"
     ]
    }
   ],
   "source": [
    "faulty_xml = \"\"\"\n",
    "<document>\n",
    "<topos framename=\"moonlight lane\" type=\"road\">\n",
    "So, through the moonlight lane she goes,\n",
    "And far into the moonlight dale;\n",
    "And how she ran, and how she walked, \n",
    "And all that to herself she talked, \n",
    "Would surely be a tedious tale.</topos>\n",
    "</document>\n",
    "\"\"\"\n",
    "\n",
    "from io import StringIO\n",
    "from parsefile import check_xml_is_well_formed\n",
    "\n",
    "check_xml_is_well_formed(StringIO(faulty_xml))"
   ]
  },
  {
   "cell_type": "markdown",
   "metadata": {},
   "source": [
    "What's going on here? \n",
    "\n",
    "At the top of the cell is a *variable* which contains a short section of XML, taken from 'The Idiot Boy'. Underneath are some statements which import some Python functions into this library (you don't need to worry about what this means, but if you'd like to find out more you can read about it [here](https://stackabuse.com/creating-and-importing-modules-in-python/)). The last line then runs a *function* called ```check_xml_is_well_formed()```, which tests whether the XML is readable by the computer.\n",
    "\n",
    "If everything worked as it should, when you ran the cell it will have displayed an error letting you know that the XML contained in the faulty_xml variable is not *well-formed*. This means that there's an error somewhere in the XML which will prevent the computer from understanding it.\n",
    "\n",
    "Happily, the error message tells you where the function detected the issue, and what you need to do to fix it. The numbers after ```<unknown>``` give you the *line* and *column* in the text where the issue is - in this case line 9, column 2. (**tip:** to see line numbers in this notebook, click on 'View' in the menu bar and then select 'Show Line Numbers'.) The message after the numbers tells you the problem - in this case, a mismatched tag.\n",
    "\n",
    "This error means that there's a tag that hasn't been closed. If you look at the faulty_xml variable and count nine lines down and two characters in (ie. line 9, column 2), this is the place that the function detected the missing tag. It was expecting to find another closing tag before ```</document>```. \n",
    "\n",
    "To fix the error, add a closing ```</topos>``` tag at the end of line eight, and then re-run the cell. The error should now be fixed."
   ]
  },
  {
   "cell_type": "markdown",
   "metadata": {},
   "source": [
    "We now have *well formed* XML in our faulty_xml variable (though strictly speaking we should probably change its name now). However, there is still an issue that will prevent us from creating our finished visualisation. To check this, we're going to import another function into the notebook and run it.\n",
    "\n",
    "Run the cell below to do this."
   ]
  },
  {
   "cell_type": "code",
   "execution_count": 3,
   "metadata": {},
   "outputs": [
    {
     "name": "stdout",
     "output_type": "stream",
     "text": [
      "Errors:\n",
      "No errors found!\n",
      "Attribute typos:\n",
      "No attribute typos found!\n",
      "Source and Target mis-matches:\n",
      "No mismatches found!\n",
      "\n"
     ]
    }
   ],
   "source": [
    "from graph_generators import CCXMLValidator\n",
    "validator = CCXMLValidator(file=StringIO(faulty_xml))\n",
    "validator.check_xml()"
   ]
  },
  {
   "cell_type": "markdown",
   "metadata": {},
   "source": [
    "If everything worked as it should, the ```check_xml()``` function will have picked up a problem with the XML. Despite the fact that it's _well-formed_, you won't be able to make a visualisation from it becuase one of the nodes doesn't have a type attribute.\n",
    "\n",
    "To fix this, go back to the ```faulty_xml``` variable and edit it to add the type attribte to the 'moonlight lane' node, then run the two cells again. If you've fixed the problem, the message from ```check_xml()``` will tell you that there are no errors or typos."
   ]
  },
  {
   "cell_type": "markdown",
   "metadata": {},
   "source": [
    "#### Validating the excerpt from 'The Idiot Boy'\n",
    "\n",
    "With these two functions, ```check_xml_is_well_formed()``` and ```check_xml()```, you have everything you need to ensure you'll be able to create visualisations from your own marked-up texts. To try this, copy your version of the exerpt from 'The Idiot Boy' into the ```idiot_boy``` variable below (between the ```\"\"\"``` marks) and run the next three cells. If you get an errors, go back and check your markup, copy it into the ```idiot_boy``` variable, and run the cells again until you've cleared up any problems."
   ]
  },
  {
   "cell_type": "code",
   "execution_count": 4,
   "metadata": {},
   "outputs": [],
   "source": [
    "#idiot_boy = \"\"\"\n",
    "# Paste your excerpt here!\n",
    "#\"\"\""
   ]
  },
  {
   "cell_type": "code",
   "execution_count": 5,
   "metadata": {},
   "outputs": [],
   "source": [
    "#check_xml_is_well_formed(StringIO(idiot_boy))"
   ]
  },
  {
   "cell_type": "code",
   "execution_count": 6,
   "metadata": {},
   "outputs": [],
   "source": [
    "#validator = CCXMLValidator(file=StringIO(idiot_boy))\n",
    "#validator.check_xml()"
   ]
  },
  {
   "cell_type": "markdown",
   "metadata": {},
   "source": [
    "---\n",
    "## Connections\n",
    "\n",
    "Connections indicate how one topos is connected to another. Please include this tag whenever an explicit connection is made between two frames, or a toporef (named space) is associated with a frame. For example, in Rime, the Mariner’s ship is described as travelling south to the Southern Ocean, rounding Cape Horn, and then sailing northwards again into the Pacific. These physical connections are indicated in the poem by (for example), the points in which the ship is described as moving from one to another.\n",
    "\n",
    "### Markup\n",
    "\n",
    "```xml\n",
    "<connection source=\"xx\" target=\"yy\" relation=\"zz\"> </connection>\n",
    "```\n",
    "\n",
    "#### Attributes\n",
    "\n",
    "**```source:```** The framename of the source topos\n",
    "\n",
    "**```target:```** The framename of the target topos\n",
    "\n",
    "**```relation:```** The spatial relationship between the two frames, as defined in the table below:\n",
    "\n",
    "Relation | Description\n",
    "---|---\n",
    "direct | When two topoi are implied to be physically connected with one another; ie characters move from one to another (for example, two rooms within a single building)\n",
    "indirect | Two topoi not immediately reachable from one another, eg. points viewed from afar, etc.\n",
    "projection | When the narrative movement is conducted through imagination, memory, dreams.\n",
    "interrupt | When the narrative movement reverts to a previous state\n",
    "jump | When the narrative movement is disconnected, typically broken by interrupts, and usually a sign of a significant shift that has bypassed several frames.\n",
    "intratextual | Where the narrative refers externally or draws attention to its own textuality (for metanarrative frames only).\n",
    "paratextual | Where the narrative contains a sub-narrative that is linked but could be separated from it (for metanarrative frames only).\n",
    "metatextual | Where the narrative refers externally to another pre-existing work.\n",
    "\n",
    "Place the tag at the point in which a text indicates that a connection or shift has been made: this can include white space or other non-text markers if such a shift is sudden and otherwise unexplained, e.g. when a chapter break occurs. In the example below, the text indicates a physical movement from one space to another. \n",
    "\n",
    "### Example: A Direct Connection (from *Rime of the Ancyent Marinere*)\n",
    "\n",
    "```xml\n",
    "<topos framename=\"Southern Ocean\" type=\"wilderness\">\n",
    "It ate the food it ne'er had eat,\n",
    "And round and round it flew.\n",
    "The ice did split with a thunder-fit;</topos>\n",
    "<connection source=\"Southern Ocean\" target=\"Northwards\" relation=\"direct\">The helmsman steer'd us through!\n",
    "\n",
    "And a good south wind sprung up behind;</connection>\n",
    "<topos framename=\"Northwards\" type=\"wilderness\">\n",
    "The Albatross did follow,\n",
    "And every day, for food or play,\n",
    "Came to the mariners' hollo!\n",
    "\n",
    "In mist or cloud, on mast or shroud,\n",
    "It perch'd for vespers nine;\n",
    "Whiles all the night, through fog-smoke white,\n",
    "Glimmer'd the white moonshine.'\n",
    "```"
   ]
  },
  {
   "cell_type": "markdown",
   "metadata": {},
   "source": [
    "## Exercise\n",
    "\n",
    "Double click on this cell to make it editable, and copy your marked-up excerpt from the idiot boy between the backticks (\\`\\`\\`). This will make the text easier to edit as the markup will be hightlighted. Go through the text and add connection tags between each topos block, making sure you give each one a source, a target and a relation attribute. (In our reading, all of the connections between the topoi are 'direct').\n",
    "\n",
    "When you've finished, copy the text into the ```idiot_boy``` variable below and run all three cells to validate your markup."
   ]
  },
  {
   "cell_type": "code",
   "execution_count": 7,
   "metadata": {},
   "outputs": [],
   "source": [
    "idiot_boy = \"\"\"\n",
    "<document>\n",
    "<topos framename=\"moonlight lane\" type=\"road\">\n",
    "So, through the moonlight lane she goes,\n",
    "And far into the moonlight dale;\n",
    "And how she ran, and how she walked, \n",
    "And all that to herself she talked, \n",
    "Would surely be a tedious tale.\n",
    "\n",
    "In high and low, above, below,\n",
    "In great and small, in round and square, \n",
    "In tree and tower was Johnny seen,\n",
    "In bush and brake, in black and green, \n",
    "’Twas Johnny, Johnny, every where.</topos>\n",
    "\n",
    "<connection source=\"moonlight lane\" target=\"bridge in the dale\" relation=\"direct\"></connection>\n",
    "\n",
    "<topos framename=\"bridge in the dale\" type=\"road\">\n",
    "She’s past the bridge that’s in the dale,\n",
    "And now the thought torments her sore, \n",
    "Johnny perhaps his horse forsook,\n",
    "To hunt the moon that's in the brook, \n",
    "And never will be heard of more.</topos>\n",
    "\n",
    "<connection source=\"bridge in the dale\" target=\"high upon the down\" relation=\"direct\"></connection>\n",
    "\n",
    "<topos framename=\"high upon the down\" type=\"road\">\n",
    "And now she’s high upon the down,\n",
    "Alone amid a prospect wide;\n",
    "There’s neither Johnny nor his horse,\n",
    "Among the fern or in the gorse;\n",
    "There’s neither doctor nor his guide.\n",
    "</topos>\n",
    "\n",
    "<connection source=\"high upon the down\" target=\"to the town\" relation=\"direct\"></connection>\n",
    "<connection source=\"high upon the down\" target=\"climbed into an oak?\" relation=\"metatextual\"></connection>\n",
    "\n",
    "<topos framename=\"climbed into an oak?\" type=\"metanarrative\">\n",
    "“Oh saints! what is become of him?\n",
    "“Perhaps he's climbed into an oak,\n",
    "“Where he will stay till he is dead;</topos>\n",
    "<connection source=\"climbed into an oak?\" target=\"joined the wandering gypsey-folk?\" relation=\"jump\"></connection>\n",
    "<topos framename=\"joined the wandering gypsey-folk?\" type=\"metanarrative\">\n",
    "“Or sadly he has been misled,\n",
    "“And joined the wandering gypsey-folk.</topos>\n",
    "\n",
    "<connection source=\"joined the wandering gypsey-folk?\" target=\"to the dark cave?\" relation=\"jump\"></connection>\n",
    "\n",
    "<topos framename=\"to the dark cave?\" type=\"metanarrative\">\n",
    "“Or him that wicked pony’s carried \n",
    "“To the dark cave, the goblins’ hall,</topos>\n",
    "\n",
    "<connection source=\"to the dark cave?\" target=\"in the castle?\" relation=\"jump\"></connection>\n",
    "\n",
    "<topos framename=\"in the castle?\" type=\"metanarrative\">\n",
    "“Or in the castle he’s pursuing,\n",
    "\"Among the ghosts, his own undoing;</topos>\n",
    "\n",
    "<connection source=\"in the castle?\" target=\"the waterfall?\" relation=\"jump\"></connection>\n",
    "\n",
    "<topos framename=\"the waterfall?\" type=\"metanarrative\">\n",
    "\"Or playing with the waterfall.\"\n",
    "</topos>\n",
    "\n",
    "<connection source=\"the waterfall?\" target=\"to the town\" relation=\"jump\"></connection>\n",
    "\n",
    "<topos framename=\"to the town\" type=\"road\">\n",
    "At poor old Susan then she railed, \n",
    "While to the town she posts away;\n",
    "“If Susan had not been so ill,\n",
    "“Alas! I should have had him still, \n",
    "\"My Johnny, till my dying day.\"\n",
    "\n",
    "Poor Betty! in this sad distemper,\n",
    "The doctor’s self would hardly spare, \n",
    "Unworthy things she talked and wild, \n",
    "Even he, of cattle the most mild,\n",
    "The pony had his share.\n",
    "</topos>\n",
    "\n",
    "<connection source=\"to the town\" target=\"the town\" relation=\"direct\"></connection>\n",
    "\n",
    "<topos framename=\"the town\" type=\"provincial town\">\n",
    "And now she’s got into the town,\n",
    "And to the doctor’s door she hies;\n",
    "’Tis silence all on every side;\n",
    "The town so long, the town so wide,\n",
    "Is silent as the skies.\n",
    "</topos>\n",
    "\n",
    "<connection source=\"the town\" target=\"the doctor's door\" relation=\"direct\"></connection>\n",
    "\n",
    "<topos framename=\"the doctor's door\" type=\"threshold\">\n",
    "And now she’s at the doctor's door,\n",
    "She lifts the knocker, rap, rap, rap,\n",
    "The doctor at the casement shews,\n",
    "His glimmering eyes that peep and doze; \n",
    "And one hand rubs his old night-cap.\n",
    "</topos>\n",
    "</document>\n",
    "\"\"\""
   ]
  },
  {
   "cell_type": "code",
   "execution_count": 8,
   "metadata": {},
   "outputs": [
    {
     "name": "stdout",
     "output_type": "stream",
     "text": [
      "XML is well-formed\n"
     ]
    }
   ],
   "source": [
    "check_xml_is_well_formed(StringIO(idiot_boy))"
   ]
  },
  {
   "cell_type": "code",
   "execution_count": 9,
   "metadata": {},
   "outputs": [
    {
     "name": "stdout",
     "output_type": "stream",
     "text": [
      "Errors:\n",
      "No errors found!\n",
      "Attribute typos:\n",
      "No attribute typos found!\n",
      "Source and Target mis-matches:\n",
      "No mismatches found!\n",
      "\n"
     ]
    }
   ],
   "source": [
    "validator = CCXMLValidator(file=StringIO(idiot_boy))\n",
    "validator.check_xml()"
   ]
  },
  {
   "cell_type": "markdown",
   "metadata": {},
   "source": [
    "---\n",
    "# Your first visualisation\n",
    "\n",
    "Once you've validated your markup - ie. your XML is both well formed and there are no errors in your topoi or connections, you're now in a position to create one of our visualisation types: a topoi map. This is also a good way of checking to see if you're happy that your visualisation reflects your reading of the text.\n",
    "\n",
    "*Note: The Chronotopic Cartographies methodology is in this sense iterative and processual: whilst the finished visualisations are meaningful in themselves, the proess of making them reveals things about the spatiality of the text that may not initially have been evident.*"
   ]
  },
  {
   "cell_type": "code",
   "execution_count": 10,
   "metadata": {},
   "outputs": [],
   "source": [
    "from graph_generators import TopoiGraphGenerator"
   ]
  },
  {
   "cell_type": "code",
   "execution_count": 11,
   "metadata": {},
   "outputs": [],
   "source": [
    "generator = TopoiGraphGenerator(file=StringIO(idiot_boy), output_root=\"idiot_boy\")\n",
    "generator.generate()"
   ]
  },
  {
   "cell_type": "code",
   "execution_count": 12,
   "metadata": {},
   "outputs": [
    {
     "data": {
      "text/plain": [
       "'files/svg/idiot_boy-topoi.svg'"
      ]
     },
     "execution_count": 12,
     "metadata": {},
     "output_type": "execute_result"
    }
   ],
   "source": [
    "generator.write_svg(algorithm='kamada', size=0.5, scale_correction=550)"
   ]
  },
  {
   "cell_type": "code",
   "execution_count": 13,
   "metadata": {},
   "outputs": [
    {
     "data": {
      "image/svg+xml": [
       "<svg baseProfile=\"full\" height=\"1000.0\" version=\"1.1\" width=\"1000.0\" xmlns=\"http://www.w3.org/2000/svg\" xmlns:ev=\"http://www.w3.org/2001/xml-events\" xmlns:xlink=\"http://www.w3.org/1999/xlink\"><defs/><rect fill=\"#525252\" height=\"1000.0\" width=\"1000.0\" x=\"0\" y=\"0\"/><g><path d=\"M913.7874912763267,141.88625292246252 Q806.295822241208, 137.25500783485896 759.8775259116514,234.317060097281\" fill=\"none\" stroke=\"#c686e9\" stroke-width=\"3\"/><path d=\"M913.7874912763267,141.88625292246252 Q806.295822241208, 137.25500783485896 759.8775259116514,234.317060097281\" fill=\"none\" stroke=\"#525252\" stroke-width=\"1\"/><polygon fill=\"#c686e9\" points=\"768.2766657359459,218.96079124210212 767.8957618735013,214.6474500490622 771.821676853086,216.4742482243056\"/><path d=\"M759.8775259116514,234.317060097281 Q645.4925268426252, 217.10014669068931 584.7961069654373,315.5800190393999\" fill=\"none\" stroke=\"#c686e9\" stroke-width=\"3\"/><path d=\"M759.8775259116514,234.317060097281 Q645.4925268426252, 217.10014669068931 584.7961069654373,315.5800190393999\" fill=\"none\" stroke=\"#525252\" stroke-width=\"1\"/><polygon fill=\"#c686e9\" points=\"594.7383785351435,301.18200878703897 594.822741158309,296.85270365251534 598.5298480739581,299.09041639456836\"/><path d=\"M584.7961069654373,315.5800190393999 Q477.0833214490558, 406.3032420131637 518.633260883466,540.9099525498013\" fill=\"none\" stroke=\"#c686e9\" stroke-width=\"3\"/><path d=\"M584.7961069654373,315.5800190393999 Q477.0833214490558, 406.3032420131637 518.633260883466,540.9099525498013\" fill=\"none\" stroke=\"#525252\" stroke-width=\"1\"/><polygon fill=\"#c686e9\" points=\"514.2284059255074,523.9928084783487 511.0350491047237,521.0683474655885 515.164385044543,519.7650498418216\"/><path d=\"M584.7961069654373,315.5800190393999 Q455.1481263000293, 271.6348867949682 444.8175470173666,135.10337018608766\" fill=\"none\" stroke=\"#5fc613\" stroke-dasharray=\"2,8\" stroke-width=\"2\"/><polygon fill=\"#5fc613\" points=\"446.9341093769492,152.46430903027027 449.3519109287271,156.0565556331945 445.0320333380474,156.35430989688146\"/><path d=\"M444.8175470173666,135.10337018608766 Q342.9309874971925, 80.39147475429013 252.87661847042648,152.8881268163732\" fill=\"none\" stroke=\"#ff7f33\" stroke-dasharray=\"40,10\" stroke-width=\"2\"/><polygon fill=\"#ff7f33\" points=\"267.37438686631526,142.42354252544357 268.8988934073741,138.37065715742872 271.6465418241718,141.7173612342286\"/><path d=\"M252.87661847042648,152.8881268163732 Q143.8739959217389, 191.0070111240662 136.2125087236733,306.2425236829598\" fill=\"none\" stroke=\"#ff7f33\" stroke-dasharray=\"40,10\" stroke-width=\"2\"/><polygon fill=\"#ff7f33\" points=\"138.54580084768108,286.992385958178 136.591909729789,283.128151299229 140.91538066956915,283.3681492843802\"/><path d=\"M136.2125087236733,306.2425236829598 Q207.38056780185997, 397.22507994113505 151.4469435827363,498.32583255696375\" fill=\"none\" stroke=\"#ff7f33\" stroke-dasharray=\"40,10\" stroke-width=\"2\"/><polygon fill=\"#ff7f33\" points=\"159.27036793245003,482.2447018417624 159.23290545099857,477.9147368808783 163.00149634534637,480.04727590069456\"/><path d=\"M151.4469435827363,498.32583255696375 Q266.6550641070345, 507.4806430348502 303.3027541121985,617.0584328153071\" fill=\"none\" stroke=\"#ff7f33\" stroke-dasharray=\"40,10\" stroke-width=\"2\"/><polygon fill=\"#ff7f33\" points=\"296.90128145851014,600.7868063894249 293.685359570982,597.8871777212473 297.8044726029295,596.5519220041504\"/><path d=\"M303.3027541121985,617.0584328153071 Q436.1226128012989, 650.1250893884379 518.633260883466,540.9099525498013\" fill=\"none\" stroke=\"#ff7f33\" stroke-dasharray=\"40,10\" stroke-width=\"2\"/><polygon fill=\"#ff7f33\" points=\"507.45445801961296,554.3768454828893 506.9503186684336,558.6775249076537 503.47789070864417,556.0905877101028\"/><path d=\"M518.633260883466,540.9099525498013 Q624.213250379339, 588.2255374632836 621.9870386779131,703.9288715664161\" fill=\"none\" stroke=\"#c686e9\" stroke-width=\"3\"/><path d=\"M518.633260883466,540.9099525498013 Q624.213250379339, 588.2255374632836 621.9870386779131,703.9288715664161\" fill=\"none\" stroke=\"#525252\" stroke-width=\"1\"/><polygon fill=\"#c686e9\" points=\"621.4145049291839,686.4524862099338 619.3571237867187,682.6423441083018 623.6854942099933,682.7656708244759\"/><path d=\"M621.9870386779131,703.9288715664161 Q714.9387050085153, 758.1245207523987 701.4924639799927,864.8966298139123\" fill=\"none\" stroke=\"#c686e9\" stroke-width=\"3\"/><path d=\"M621.9870386779131,703.9288715664161 Q714.9387050085153, 758.1245207523987 701.4924639799927,864.8966298139123\" fill=\"none\" stroke=\"#525252\" stroke-width=\"1\"/><polygon fill=\"#c686e9\" points=\"702.7310513824618,847.4510836904145 701.0936944433565,843.4424602042333 705.383942686149,844.028779242996\"/></g><g><circle cx=\"913.7874912763267\" cy=\"141.88625292246252\" fill=\"#525252\" r=\"10.0\" stroke=\"none\"/><image height=\"20\" width=\"20\" x=\"903.7874912763267\" xlink:href=\"data:image/svg+xml;base64,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\" y=\"131.88625292246252\"/><circle cx=\"759.8775259116514\" cy=\"234.317060097281\" fill=\"#525252\" r=\"10.0\" stroke=\"none\"/><image height=\"20\" width=\"20\" x=\"749.8775259116514\" xlink:href=\"data:image/svg+xml;base64,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\" y=\"224.317060097281\"/><circle cx=\"584.7961069654373\" cy=\"315.5800190393999\" fill=\"#525252\" r=\"10.0\" stroke=\"none\"/><image height=\"20\" width=\"20\" x=\"574.7961069654373\" xlink:href=\"data:image/svg+xml;base64,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\" y=\"305.5800190393999\"/><circle cx=\"444.8175470173666\" cy=\"135.10337018608766\" fill=\"#525252\" r=\"10.0\" stroke=\"none\"/><image height=\"20\" width=\"20\" x=\"434.8175470173666\" xlink:href=\"data:image/svg+xml;base64,PHN2ZyB4bWxucz0iaHR0cDovL3d3dy53My5vcmcvMjAwMC9zdmciIHZpZXdCb3g9IjAgMCA3OS45IDgwLjE5Ij4KICA8ZGVmcz4KICAgIDxzdHlsZT4KICAgICAgLmNscy0xIHsKICAgICAgICBmaWxsOiAjNThjOGZhOwogICAgICB9CiAgICA8L3N0eWxlPgogIDwvZGVmcz4KICA8dGl0bGU+QXNzZXQgMzk8L3RpdGxlPgogIDxnIGlkPSJMYXllcl8yIiBkYXRhLW5hbWU9IkxheWVyIDIiPgogICAgPGcgaWQ9IkxheWVyXzEtMiIgZGF0YS1uYW1lPSJMYXllciAxIj4KICAgICAgPHBhdGggY2xhc3M9ImNscy0xIiBkPSJNMSw3Ny4wOUgzNC41YTYuMTQsNi4xNCwwLDAsMCw1LjMsMy4xLDYsNiwwLDAsMCw1LjMtMy4xSDc4LjlhLjk0Ljk0LDAsMCwwLDEtMVY2Ljc5YS45NC45NCwwLDAsMC0xLTFINzUuMXYtLjdhMSwxLDAsMCwwLS42LS45QzU1LjQtNSw0My4xLDMuNTksNDAsNi4wOWEyNywyNywwLDAsMC04LjYtNC43Yy01LjUtMS44LTE0LjQtMi43LTI2LDIuOGExLjE1LDEuMTUsMCwwLDAtLjYuOXYuN0gxYS45NC45NCwwLDAsMC0xLDF2NjkuM0ExLjA4LDEuMDgsMCwwLDAsMSw3Ny4wOVpNNzMuMiw1Ljc5djYyLjZjLTE2LjktNi45LTI4LjEtMS4xLTMyLjIsMS44LDAtMTksLjEtNTcuMSwwLTYyLjJDNDMsNi4wOSw1NC4yLTMsNzMuMiw1Ljc5Wk0zOSw3Ljg5Yy4xLDQuMSwwLDQwLjksMCw2Mi4yYTI1Ljg0LDI1Ljg0LDAsMCwwLTcuNS0zLjcsMzIsMzIsMCwwLDAtOS4xLTEuMyw0MC4xLDQwLjEsMCwwLDAtMTUuNiwzLjNWNi43OWgwdi0xQzI1LjktMy4xMSwzNy4yLDYuMTksMzksNy44OVpNMiw3Ljc5SDQuOHY2Mi4xYS44OS44OSwwLDAsMCwuNS44LDEuNjQsMS42NCwwLDAsMCwxLC4xYzExLjEtNC45LDE5LjUtNC4xLDI0LjYtMi41YTIyLjcyLDIyLjcyLDAsMCwxLDguNSw0LjZoMGMuMS4xLjIuMS4zLjJzLjIsMCwuMi4xaC4yYS4zNy4zNywwLDAsMCwuMy0uMS4yMi4yMiwwLDAsMCwuMi0uMi4xLjEsMCwwLDAsLjEtLjFoMGEyMy4xOSwyMy4xOSwwLDAsMSw4LjYtNC42YzUuMS0xLjYsMTMuNS0yLjQsMjQuNSwyLjVhLjk0Ljk0LDAsMCwwLC45LS4xLDEsMSwwLDAsMCwuNS0uOHYtNjJINzh2NjcuM0g0NC42YS44Ny44NywwLDAsMC0uOS42LDQuMTYsNC4xNiwwLDAsMS0zLjgsMi41LDQuMDYsNC4wNiwwLDAsMS0zLjgtMi41LDEsMSwwLDAsMC0uOS0uNkgyWiIvPgogICAgPC9nPgogIDwvZz4KPC9zdmc+Cg==\" y=\"125.10337018608766\"/><circle cx=\"252.87661847042648\" cy=\"152.8881268163732\" fill=\"#525252\" r=\"10.2\" stroke=\"none\"/><image height=\"20.4\" width=\"20.4\" x=\"242.6766184704265\" xlink:href=\"data:image/svg+xml;base64,PHN2ZyB4bWxucz0iaHR0cDovL3d3dy53My5vcmcvMjAwMC9zdmciIHZpZXdCb3g9IjAgMCA3OS45IDgwLjE5Ij4KICA8ZGVmcz4KICAgIDxzdHlsZT4KICAgICAgLmNscy0xIHsKICAgICAgICBmaWxsOiAjNThjOGZhOwogICAgICB9CiAgICA8L3N0eWxlPgogIDwvZGVmcz4KICA8dGl0bGU+QXNzZXQgMzk8L3RpdGxlPgogIDxnIGlkPSJMYXllcl8yIiBkYXRhLW5hbWU9IkxheWVyIDIiPgogICAgPGcgaWQ9IkxheWVyXzEtMiIgZGF0YS1uYW1lPSJMYXllciAxIj4KICAgICAgPHBhdGggY2xhc3M9ImNscy0xIiBkPSJNMSw3Ny4wOUgzNC41YTYuMTQsNi4xNCwwLDAsMCw1LjMsMy4xLDYsNiwwLDAsMCw1LjMtMy4xSDc4LjlhLjk0Ljk0LDAsMCwwLDEtMVY2Ljc5YS45NC45NCwwLDAsMC0xLTFINzUuMXYtLjdhMSwxLDAsMCwwLS42LS45QzU1LjQtNSw0My4xLDMuNTksNDAsNi4wOWEyNywyNywwLDAsMC04LjYtNC43Yy01LjUtMS44LTE0LjQtMi43LTI2LDIuOGExLjE1LDEuMTUsMCwwLDAtLjYuOXYuN0gxYS45NC45NCwwLDAsMC0xLDF2NjkuM0ExLjA4LDEuMDgsMCwwLDAsMSw3Ny4wOVpNNzMuMiw1Ljc5djYyLjZjLTE2LjktNi45LTI4LjEtMS4xLTMyLjIsMS44LDAtMTksLjEtNTcuMSwwLTYyLjJDNDMsNi4wOSw1NC4yLTMsNzMuMiw1Ljc5Wk0zOSw3Ljg5Yy4xLDQuMSwwLDQwLjksMCw2Mi4yYTI1Ljg0LDI1Ljg0LDAsMCwwLTcuNS0zLjcsMzIsMzIsMCwwLDAtOS4xLTEuMyw0MC4xLDQwLjEsMCwwLDAtMTUuNiwzLjNWNi43OWgwdi0xQzI1LjktMy4xMSwzNy4yLDYuMTksMzksNy44OVpNMiw3Ljc5SDQuOHY2Mi4xYS44OS44OSwwLDAsMCwuNS44LDEuNjQsMS42NCwwLDAsMCwxLC4xYzExLjEtNC45LDE5LjUtNC4xLDI0LjYtMi41YTIyLjcyLDIyLjcyLDAsMCwxLDguNSw0LjZoMGMuMS4xLjIuMS4zLjJzLjIsMCwuMi4xaC4yYS4zNy4zNywwLDAsMCwuMy0uMS4yMi4yMiwwLDAsMCwuMi0uMi4xLjEsMCwwLDAsLjEtLjFoMGEyMy4xOSwyMy4xOSwwLDAsMSw4LjYtNC42YzUuMS0xLjYsMTMuNS0yLjQsMjQuNSwyLjVhLjk0Ljk0LDAsMCwwLC45LS4xLDEsMSwwLDAsMCwuNS0uOHYtNjJINzh2NjcuM0g0NC42YS44Ny44NywwLDAsMC0uOS42LDQuMTYsNC4xNiwwLDAsMS0zLjgsMi41LDQuMDYsNC4wNiwwLDAsMS0zLjgtMi41LDEsMSwwLDAsMC0uOS0uNkgyWiIvPgogICAgPC9nPgogIDwvZz4KPC9zdmc+Cg==\" y=\"142.6881268163732\"/><circle cx=\"136.2125087236733\" cy=\"306.2425236829598\" fill=\"#525252\" r=\"10.95\" stroke=\"none\"/><image height=\"21.9\" width=\"21.9\" x=\"125.26250872367329\" xlink:href=\"data:image/svg+xml;base64,PHN2ZyB4bWxucz0iaHR0cDovL3d3dy53My5vcmcvMjAwMC9zdmciIHZpZXdCb3g9IjAgMCA3OS45IDgwLjE5Ij4KICA8ZGVmcz4KICAgIDxzdHlsZT4KICAgICAgLmNscy0xIHsKICAgICAgICBmaWxsOiAjNThjOGZhOwogICAgICB9CiAgICA8L3N0eWxlPgogIDwvZGVmcz4KICA8dGl0bGU+QXNzZXQgMzk8L3RpdGxlPgogIDxnIGlkPSJMYXllcl8yIiBkYXRhLW5hbWU9IkxheWVyIDIiPgogICAgPGcgaWQ9IkxheWVyXzEtMiIgZGF0YS1uYW1lPSJMYXllciAxIj4KICAgICAgPHBhdGggY2xhc3M9ImNscy0xIiBkPSJNMSw3Ny4wOUgzNC41YTYuMTQsNi4xNCwwLDAsMCw1LjMsMy4xLDYsNiwwLDAsMCw1LjMtMy4xSDc4LjlhLjk0Ljk0LDAsMCwwLDEtMVY2Ljc5YS45NC45NCwwLDAsMC0xLTFINzUuMXYtLjdhMSwxLDAsMCwwLS42LS45QzU1LjQtNSw0My4xLDMuNTksNDAsNi4wOWEyNywyNywwLDAsMC04LjYtNC43Yy01LjUtMS44LTE0LjQtMi43LTI2LDIuOGExLjE1LDEuMTUsMCwwLDAtLjYuOXYuN0gxYS45NC45NCwwLDAsMC0xLDF2NjkuM0ExLjA4LDEuMDgsMCwwLDAsMSw3Ny4wOVpNNzMuMiw1Ljc5djYyLjZjLTE2LjktNi45LTI4LjEtMS4xLTMyLjIsMS44LDAtMTksLjEtNTcuMSwwLTYyLjJDNDMsNi4wOSw1NC4yLTMsNzMuMiw1Ljc5Wk0zOSw3Ljg5Yy4xLDQuMSwwLDQwLjksMCw2Mi4yYTI1Ljg0LDI1Ljg0LDAsMCwwLTcuNS0zLjcsMzIsMzIsMCwwLDAtOS4xLTEuMyw0MC4xLDQwLjEsMCwwLDAtMTUuNiwzLjNWNi43OWgwdi0xQzI1LjktMy4xMSwzNy4yLDYuMTksMzksNy44OVpNMiw3Ljc5SDQuOHY2Mi4xYS44OS44OSwwLDAsMCwuNS44LDEuNjQsMS42NCwwLDAsMCwxLC4xYzExLjEtNC45LDE5LjUtNC4xLDI0LjYtMi41YTIyLjcyLDIyLjcyLDAsMCwxLDguNSw0LjZoMGMuMS4xLjIuMS4zLjJzLjIsMCwuMi4xaC4yYS4zNy4zNywwLDAsMCwuMy0uMS4yMi4yMiwwLDAsMCwuMi0uMi4xLjEsMCwwLDAsLjEtLjFoMGEyMy4xOSwyMy4xOSwwLDAsMSw4LjYtNC42YzUuMS0xLjYsMTMuNS0yLjQsMjQuNSwyLjVhLjk0Ljk0LDAsMCwwLC45LS4xLDEsMSwwLDAsMCwuNS0uOHYtNjJINzh2NjcuM0g0NC42YS44Ny44NywwLDAsMC0uOS42LDQuMTYsNC4xNiwwLDAsMS0zLjgsMi41LDQuMDYsNC4wNiwwLDAsMS0zLjgtMi41LDEsMSwwLDAsMC0uOS0uNkgyWiIvPgogICAgPC9nPgogIDwvZz4KPC9zdmc+Cg==\" y=\"295.2925236829598\"/><circle cx=\"151.4469435827363\" cy=\"498.32583255696375\" fill=\"#525252\" r=\"10.2\" stroke=\"none\"/><image height=\"20.4\" width=\"20.4\" x=\"141.24694358273632\" xlink:href=\"data:image/svg+xml;base64,PHN2ZyB4bWxucz0iaHR0cDovL3d3dy53My5vcmcvMjAwMC9zdmciIHZpZXdCb3g9IjAgMCA3OS45IDgwLjE5Ij4KICA8ZGVmcz4KICAgIDxzdHlsZT4KICAgICAgLmNscy0xIHsKICAgICAgICBmaWxsOiAjNThjOGZhOwogICAgICB9CiAgICA8L3N0eWxlPgogIDwvZGVmcz4KICA8dGl0bGU+QXNzZXQgMzk8L3RpdGxlPgogIDxnIGlkPSJMYXllcl8yIiBkYXRhLW5hbWU9IkxheWVyIDIiPgogICAgPGcgaWQ9IkxheWVyXzEtMiIgZGF0YS1uYW1lPSJMYXllciAxIj4KICAgICAgPHBhdGggY2xhc3M9ImNscy0xIiBkPSJNMSw3Ny4wOUgzNC41YTYuMTQsNi4xNCwwLDAsMCw1LjMsMy4xLDYsNiwwLDAsMCw1LjMtMy4xSDc4LjlhLjk0Ljk0LDAsMCwwLDEtMVY2Ljc5YS45NC45NCwwLDAsMC0xLTFINzUuMXYtLjdhMSwxLDAsMCwwLS42LS45QzU1LjQtNSw0My4xLDMuNTksNDAsNi4wOWEyNywyNywwLDAsMC04LjYtNC43Yy01LjUtMS44LTE0LjQtMi43LTI2LDIuOGExLjE1LDEuMTUsMCwwLDAtLjYuOXYuN0gxYS45NC45NCwwLDAsMC0xLDF2NjkuM0ExLjA4LDEuMDgsMCwwLDAsMSw3Ny4wOVpNNzMuMiw1Ljc5djYyLjZjLTE2LjktNi45LTI4LjEtMS4xLTMyLjIsMS44LDAtMTksLjEtNTcuMSwwLTYyLjJDNDMsNi4wOSw1NC4yLTMsNzMuMiw1Ljc5Wk0zOSw3Ljg5Yy4xLDQuMSwwLDQwLjksMCw2Mi4yYTI1Ljg0LDI1Ljg0LDAsMCwwLTcuNS0zLjcsMzIsMzIsMCwwLDAtOS4xLTEuMyw0MC4xLDQwLjEsMCwwLDAtMTUuNiwzLjNWNi43OWgwdi0xQzI1LjktMy4xMSwzNy4yLDYuMTksMzksNy44OVpNMiw3Ljc5SDQuOHY2Mi4xYS44OS44OSwwLDAsMCwuNS44LDEuNjQsMS42NCwwLDAsMCwxLC4xYzExLjEtNC45LDE5LjUtNC4xLDI0LjYtMi41YTIyLjcyLDIyLjcyLDAsMCwxLDguNSw0LjZoMGMuMS4xLjIuMS4zLjJzLjIsMCwuMi4xaC4yYS4zNy4zNywwLDAsMCwuMy0uMS4yMi4yMiwwLDAsMCwuMi0uMi4xLjEsMCwwLDAsLjEtLjFoMGEyMy4xOSwyMy4xOSwwLDAsMSw4LjYtNC42YzUuMS0xLjYsMTMuNS0yLjQsMjQuNSwyLjVhLjk0Ljk0LDAsMCwwLC45LS4xLDEsMSwwLDAsMCwuNS0uOHYtNjJINzh2NjcuM0g0NC42YS44Ny44NywwLDAsMC0uOS42LDQuMTYsNC4xNiwwLDAsMS0zLjgsMi41LDQuMDYsNC4wNiwwLDAsMS0zLjgtMi41LDEsMSwwLDAsMC0uOS0uNkgyWiIvPgogICAgPC9nPgogIDwvZz4KPC9zdmc+Cg==\" y=\"488.12583255696376\"/><circle cx=\"303.3027541121985\" cy=\"617.0584328153071\" fill=\"#525252\" r=\"10.0\" stroke=\"none\"/><image height=\"20\" width=\"20\" x=\"293.3027541121985\" xlink:href=\"data:image/svg+xml;base64,PHN2ZyB4bWxucz0iaHR0cDovL3d3dy53My5vcmcvMjAwMC9zdmciIHZpZXdCb3g9IjAgMCA3OS45IDgwLjE5Ij4KICA8ZGVmcz4KICAgIDxzdHlsZT4KICAgICAgLmNscy0xIHsKICAgICAgICBmaWxsOiAjNThjOGZhOwogICAgICB9CiAgICA8L3N0eWxlPgogIDwvZGVmcz4KICA8dGl0bGU+QXNzZXQgMzk8L3RpdGxlPgogIDxnIGlkPSJMYXllcl8yIiBkYXRhLW5hbWU9IkxheWVyIDIiPgogICAgPGcgaWQ9IkxheWVyXzEtMiIgZGF0YS1uYW1lPSJMYXllciAxIj4KICAgICAgPHBhdGggY2xhc3M9ImNscy0xIiBkPSJNMSw3Ny4wOUgzNC41YTYuMTQsNi4xNCwwLDAsMCw1LjMsMy4xLDYsNiwwLDAsMCw1LjMtMy4xSDc4LjlhLjk0Ljk0LDAsMCwwLDEtMVY2Ljc5YS45NC45NCwwLDAsMC0xLTFINzUuMXYtLjdhMSwxLDAsMCwwLS42LS45QzU1LjQtNSw0My4xLDMuNTksNDAsNi4wOWEyNywyNywwLDAsMC04LjYtNC43Yy01LjUtMS44LTE0LjQtMi43LTI2LDIuOGExLjE1LDEuMTUsMCwwLDAtLjYuOXYuN0gxYS45NC45NCwwLDAsMC0xLDF2NjkuM0ExLjA4LDEuMDgsMCwwLDAsMSw3Ny4wOVpNNzMuMiw1Ljc5djYyLjZjLTE2LjktNi45LTI4LjEtMS4xLTMyLjIsMS44LDAtMTksLjEtNTcuMSwwLTYyLjJDNDMsNi4wOSw1NC4yLTMsNzMuMiw1Ljc5Wk0zOSw3Ljg5Yy4xLDQuMSwwLDQwLjksMCw2Mi4yYTI1Ljg0LDI1Ljg0LDAsMCwwLTcuNS0zLjcsMzIsMzIsMCwwLDAtOS4xLTEuMyw0MC4xLDQwLjEsMCwwLDAtMTUuNiwzLjNWNi43OWgwdi0xQzI1LjktMy4xMSwzNy4yLDYuMTksMzksNy44OVpNMiw3Ljc5SDQuOHY2Mi4xYS44OS44OSwwLDAsMCwuNS44LDEuNjQsMS42NCwwLDAsMCwxLC4xYzExLjEtNC45LDE5LjUtNC4xLDI0LjYtMi41YTIyLjcyLDIyLjcyLDAsMCwxLDguNSw0LjZoMGMuMS4xLjIuMS4zLjJzLjIsMCwuMi4xaC4yYS4zNy4zNywwLDAsMCwuMy0uMS4yMi4yMiwwLDAsMCwuMi0uMi4xLjEsMCwwLDAsLjEtLjFoMGEyMy4xOSwyMy4xOSwwLDAsMSw4LjYtNC42YzUuMS0xLjYsMTMuNS0yLjQsMjQuNSwyLjVhLjk0Ljk0LDAsMCwwLC45LS4xLDEsMSwwLDAsMCwuNS0uOHYtNjJINzh2NjcuM0g0NC42YS44Ny44NywwLDAsMC0uOS42LDQuMTYsNC4xNiwwLDAsMS0zLjgsMi41LDQuMDYsNC4wNiwwLDAsMS0zLjgtMi41LDEsMSwwLDAsMC0uOS0uNkgyWiIvPgogICAgPC9nPgogIDwvZz4KPC9zdmc+Cg==\" y=\"607.0584328153071\"/><circle cx=\"518.633260883466\" cy=\"540.9099525498013\" fill=\"#525252\" r=\"10.0\" stroke=\"none\"/><image height=\"20\" width=\"20\" x=\"508.63326088346605\" xlink:href=\"data:image/svg+xml;base64,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\" y=\"530.9099525498013\"/><circle cx=\"621.9870386779131\" cy=\"703.9288715664161\" fill=\"#525252\" r=\"10.0\" stroke=\"none\"/><image height=\"20\" width=\"20\" x=\"611.9870386779131\" xlink:href=\"data:image/svg+xml;base64,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\" y=\"693.9288715664161\"/><circle cx=\"701.4924639799927\" cy=\"864.8966298139123\" fill=\"#525252\" r=\"10.0\" stroke=\"none\"/><image height=\"20\" width=\"20\" x=\"691.4924639799927\" xlink:href=\"data:image/svg+xml;base64,PD94bWwgdmVyc2lvbj0iMS4wIiBlbmNvZGluZz0idXRmLTgiPz4KPCEtLSBHZW5lcmF0b3I6IEFkb2JlIElsbHVzdHJhdG9yIDIyLjAuMSwgU1ZHIEV4cG9ydCBQbHVnLUluIC4gU1ZHIFZlcnNpb246IDYuMDAgQnVpbGQgMCkgIC0tPgo8c3ZnIHZlcnNpb249IjEuMSIgaWQ9IkxheWVyXzEiIHhtbG5zPSJodHRwOi8vd3d3LnczLm9yZy8yMDAwL3N2ZyIgeG1sbnM6eGxpbms9Imh0dHA6Ly93d3cudzMub3JnLzE5OTkveGxpbmsiIHg9IjBweCIgeT0iMHB4IgoJIHdpZHRoPSI4MHB4IiBoZWlnaHQ9Ijc5LjlweCIgdmlld0JveD0iMCAwIDgwIDc5LjkiIGVuYWJsZS1iYWNrZ3JvdW5kPSJuZXcgMCAwIDgwIDc5LjkiIHhtbDpzcGFjZT0icHJlc2VydmUiPgo8dGl0bGU+QXNzZXQgNDM8L3RpdGxlPgo8ZyBpZD0iTGF5ZXJfMl8xXyI+Cgk8ZyBpZD0iTGF5ZXJfMS0yIj4KCQk8Zz4KCQkJPHBhdGggZmlsbD0iIzU4QzhGQSIgZD0iTTc5LDc3LjlINjYuNFYxYzAuMDM0My0wLjUxOC0wLjM1NzktMC45NjU3LTAuODc1OS0xQzY1LjQ4MjgtMC4wMDI3LDY1LjQ0MTMtMC4wMDI3LDY1LjQsMGgtNTEKCQkJCWMtMC41MTgtMC4wMzQzLTAuOTY1NywwLjM1NzktMSwwLjg3NTlDMTMuMzk3MywwLjkxNzIsMTMuMzk3MywwLjk1ODcsMTMuNCwxdjc2LjlIMWMtMC41NTIzLDAtMSwwLjQ0NzctMSwxczAuNDQ3NywxLDEsMWg3OAoJCQkJYzAuNTUyMywwLDEtMC40NDc3LDEtMVM3OS41NTIzLDc3LjksNzksNzcuOXogTTE1LjQsMmg0OXY3NS45aC0zLjZ2LTcxYzAuMDM0My0wLjUxOC0wLjM1NzktMC45NjU3LTAuODc1OS0xCgkJCQljLTAuMDQxMy0wLjAwMjctMC4wODI4LTAuMDAyNy0wLjEyNDEsMEgyMGMtMC41MTgtMC4wMzQzLTAuOTY1NywwLjM1NzktMSwwLjg3NTlDMTguOTk3Myw2LjgxNzIsMTguOTk3Myw2Ljg1ODcsMTksNi45djcxaC0zLjYKCQkJCVYyeiBNNTguOCw3Ny45SDIxdi03MGgzNy44Vjc3Ljl6Ii8+CgkJCTxwYXRoIGZpbGw9IiM1OEM4RkEiIGQ9Ik0yNC40LDQ5LjdjMC41MTgsMC4wMzQzLDAuOTY1Ny0wLjM1NzksMS0wLjg3NTljMC4wMDI3LTAuMDQxMywwLjAwMjctMC4wODI4LDAtMC4xMjQxdi02LjUKCQkJCWMwLTAuNTUyMy0wLjQ0NzctMS0xLTFzLTEsMC40NDc3LTEsMXY2LjVDMjMuNCw0OS4yNTIzLDIzLjg0NzcsNDkuNywyNC40LDQ5Ljd6Ii8+CgkJPC9nPgoJPC9nPgo8L2c+Cjwvc3ZnPgo=\" y=\"854.8966298139123\"/><text fill=\"#dbdbdb\" font-family=\"'Helvetica Neue', sans-serif\" font-size=\"10\" text-anchor=\"middle\" x=\"913.7874912763267\" y=\"143.88625292246252\">moonlight lane</text><text fill=\"#dbdbdb\" font-family=\"'Helvetica Neue', sans-serif\" font-size=\"10\" text-anchor=\"middle\" x=\"759.8775259116514\" y=\"236.317060097281\">bridge in the dale</text><text fill=\"#dbdbdb\" font-family=\"'Helvetica Neue', sans-serif\" font-size=\"10\" text-anchor=\"middle\" x=\"584.7961069654373\" y=\"317.5800190393999\">high upon the down</text><text fill=\"#dbdbdb\" font-family=\"'Helvetica Neue', sans-serif\" font-size=\"10\" text-anchor=\"middle\" x=\"444.8175470173666\" y=\"137.10337018608766\">climbed into an oak?</text><text fill=\"#dbdbdb\" font-family=\"'Helvetica Neue', sans-serif\" font-size=\"10\" text-anchor=\"middle\" x=\"252.87661847042648\" y=\"154.92812681637318\">joined the wandering gypsey-folk?</text><text fill=\"#dbdbdb\" font-family=\"'Helvetica Neue', sans-serif\" font-size=\"10\" text-anchor=\"middle\" x=\"136.2125087236733\" y=\"308.4325236829598\">to the dark cave?</text><text fill=\"#dbdbdb\" font-family=\"'Helvetica Neue', sans-serif\" font-size=\"10\" text-anchor=\"middle\" x=\"151.4469435827363\" y=\"500.36583255696377\">in the castle?</text><text fill=\"#dbdbdb\" font-family=\"'Helvetica Neue', sans-serif\" font-size=\"10\" text-anchor=\"middle\" x=\"303.3027541121985\" y=\"619.0584328153071\">the waterfall?</text><text fill=\"#dbdbdb\" font-family=\"'Helvetica Neue', sans-serif\" font-size=\"10\" text-anchor=\"middle\" x=\"518.633260883466\" y=\"542.9099525498013\">to the town</text><text fill=\"#dbdbdb\" font-family=\"'Helvetica Neue', sans-serif\" font-size=\"10\" text-anchor=\"middle\" x=\"621.9870386779131\" y=\"705.9288715664161\">the town</text><text fill=\"#dbdbdb\" font-family=\"'Helvetica Neue', sans-serif\" font-size=\"10\" text-anchor=\"middle\" x=\"701.4924639799927\" y=\"866.8966298139123\">the doctor's door</text></g></svg>"
      ]
     },
     "metadata": {},
     "output_type": "display_data"
    }
   ],
   "source": [
    "from IPython.display import display_svg, SVG\n",
    "display_svg(SVG('files/svg/idiot_boy-topoi.svg'))"
   ]
  },
  {
   "cell_type": "markdown",
   "metadata": {},
   "source": [
    "---\n",
    "## Toporefs\n",
    "\n",
    "Toporefs indicate the named or otherwise defined places that form an ‘frame’ in the text and their role within it: i.e., whether they refer to places within a given topos; another topos outside of the current one; or are being used figuratively. They also indicate how names are connected to topoi frame.  \n",
    "\n",
    "### Markup\n",
    "\n",
    "```xml\n",
    "<toporef role=\"xx\" relation=\"yy\" source=\"**optional**\"></toporef>\n",
    "```\n",
    "\n",
    "#### Attributes\n",
    "\n",
    "**```role:```** The semantic role of the toporef in context, as defined in the table below:\n",
    "\n",
    "Role       | Definition \n",
    "---|---\n",
    "active | An active toporef is a place part of the current topos or spatial frame, though not strictly speaking a separate setting.\n",
    "passive | A passive toporef is one which names a place which is not part of the current topos, but which does constitute a setting in the text.\n",
    "metaphor | Coding a toporef as metaphorical indicates that it is being used figuratively: the place name is not a setting within the text, but is being used for other rhetorical purposes. \n",
    "alt | If a place has been referred to by multiple names, use the ‘alt’ value for the role attribute.\n",
    "act | An ‘act’ toporef indicates an act of initial naming.\n",
    "\n",
    "**```relation:```** The manner in which the toporefs relates to its containing topoi, as per the 'connection' relations defined above, though not all values make sense for use with toporefs. Possible values therefore include ```direct```, ```indirect```, ```projection``` and ```jump```.\n",
    "\n",
    "**```source:```** *Optional: for use with alt and act toporef roles*. In order to associate one toporef with another when they either named or referred to by other names, the source attribute is used to identify the cardinal (or source) toporef. For example:\n",
    "\n",
    "```xml\n",
    "Jim thought back to <toporef role=\"alt\" relation=\"projection\" source=\"The Admiral Benbow Inn\">the tavern</toporef> with a wistful sigh.\n",
    "```\n",
    "\n",
    "Here, the ```source``` attribute connects the toporef 'the tavern' to another, 'The Admiral Benbow Inn', with the ```role``` 'alt' identifying it as an alternative name for that toporef.\n",
    "\n",
    "### Examples\n",
    "\n",
    "#### 1: Active\n",
    "\n",
    "```xml\n",
    "This Hermit good lives in <toporef role=\"active\" relation=\"direct\">that wood</toporef> \n",
    "Which slopes down to the sea\n",
    "```\n",
    "\n",
    "#### 1: Passive\n",
    "\n",
    "```xml\n",
    "So I must have lain for hours, continually beaten to and fro upon the billows, now and again wetted with flying sprays, and never ceasing to expect death at the next plunge. Gradually weariness grew upon me; a numbness, an occasional stupor, fell upon my mind even in the midst of my terrors, until sleep at last supervened and in my sea-tossed coracle I lay and dreamed of home and the old <toporef role=\"passive\" relation=\"projection\">Admiral Benbow</toporef>. \n",
    "```\n",
    "\n",
    "#### Metaphor\n",
    "\n",
    "```xml\n",
    "And pat he comes like the catastrophe of the old\n",
    "comedy: my cue is villanous melancholy, with a\n",
    "sigh like Tom o' <toporef role=\"metaphor\">Bedlam</toporef>. O, these eclipses do\n",
    "portend these divisions! fa, sol, la, mi.\n",
    "```\n",
    "\n",
    "In this example, there is no implied connection between Bedlam and the other places named in *King Lear* (the source text), so the ‘type’ attribute is omitted.\n",
    "\n"
   ]
  },
  {
   "cell_type": "markdown",
   "metadata": {},
   "source": [
    "---\n",
    "## Excercise: Adding Toporefs\n",
    "\n",
    "The final stage of the markup process is to add the toporefs. As with adding the connections above, copy your marked up extract into this cell between the backticks. Add topographic references as you see fit.\n",
    "\n",
    "When you're happy with your markup, copy it into the ```idiot_boy``` variable below and run the cells to validate it and produce a visualisation.\n",
    "\n",
    "```xml\n",
    "\n",
    "```"
   ]
  },
  {
   "cell_type": "code",
   "execution_count": 21,
   "metadata": {},
   "outputs": [],
   "source": [
    "idiot_boy = \"\"\"\n",
    "<document>\n",
    "<topos framename=\"moonlight lane\" type=\"road\">\n",
    "So, through the moonlight lane she goes,\n",
    "And far into the <toporef relation=\"direct\" role=\"active\">moonlight dale</toporef>;\n",
    "And how she ran, and how she walked, \n",
    "And all that to herself she talked, \n",
    "Would surely be a tedious tale.\n",
    "\n",
    "In high and low, above, below,\n",
    "In great and small, in round and square, \n",
    "In tree and tower was Johnny seen,\n",
    "In bush and brake, in black and green, \n",
    "’Twas Johnny, Johnny, every where.</topos>\n",
    "\n",
    "<connection source=\"moonlight lane\" target=\"bridge in the dale\" relation=\"direct\"></connection>\n",
    "\n",
    "<topos framename=\"bridge in the dale\" type=\"road\">\n",
    "She’s past the bridge that’s in the dale,\n",
    "And now the thought torments her sore, \n",
    "Johnny perhaps his horse forsook,\n",
    "To hunt the moon that's in the brook, \n",
    "And never will be heard of more.</topos>\n",
    "\n",
    "<connection source=\"bridge in the dale\" target=\"high upon the down\" relation=\"direct\"></connection>\n",
    "\n",
    "<topos framename=\"high upon the down\" type=\"road\">\n",
    "And now she’s high upon the down,\n",
    "Alone amid a prospect wide;\n",
    "There’s neither Johnny nor his horse,\n",
    "Among the fern or in the gorse;\n",
    "There’s neither doctor nor his guide.\n",
    "</topos>\n",
    "\n",
    "<connection source=\"high upon the down\" target=\"to the town\" relation=\"direct\"></connection>\n",
    "<connection source=\"high upon the down\" target=\"climbed into an oak?\" relation=\"metatextual\"></connection>\n",
    "\n",
    "<topos framename=\"climbed into an oak?\" type=\"metanarrative\">\n",
    "“Oh saints! what is become of him?\n",
    "“Perhaps he's climbed into an oak,\n",
    "“Where he will stay till he is dead;</topos>\n",
    "<connection source=\"climbed into an oak?\" target=\"joined the wandering gypsey-folk?\" relation=\"jump\"></connection>\n",
    "<topos framename=\"joined the wandering gypsey-folk?\" type=\"metanarrative\">\n",
    "“Or sadly he has been misled,\n",
    "“And joined the wandering gypsey-folk.</topos>\n",
    "\n",
    "<connection source=\"joined the wandering gypsey-folk?\" target=\"to the dark cave?\" relation=\"jump\"></connection>\n",
    "\n",
    "<topos framename=\"to the dark cave?\" type=\"metanarrative\">\n",
    "“Or him that wicked pony’s carried \n",
    "“To the dark cave, the goblins’ hall,</topos>\n",
    "\n",
    "<connection source=\"to the dark cave?\" target=\"in the castle?\" relation=\"jump\"></connection>\n",
    "\n",
    "<topos framename=\"in the castle?\" type=\"metanarrative\">\n",
    "“Or in the castle he’s pursuing,\n",
    "\"Among the ghosts, his own undoing;</topos>\n",
    "\n",
    "<connection source=\"in the castle?\" target=\"the waterfall?\" relation=\"jump\"></connection>\n",
    "\n",
    "<topos framename=\"the waterfall?\" type=\"metanarrative\">\n",
    "\"Or playing with the waterfall.\"\n",
    "</topos>\n",
    "\n",
    "<connection source=\"the waterfall?\" target=\"to the town\" relation=\"jump\"></connection>\n",
    "\n",
    "<topos framename=\"to the town\" type=\"road\">\n",
    "At poor old Susan then she railed, \n",
    "While to the town she posts away;\n",
    "“If Susan had not been so ill,\n",
    "“Alas! I should have had him still, \n",
    "\"My Johnny, till my dying day.\"\n",
    "\n",
    "Poor Betty! in this sad distemper,\n",
    "The doctor’s self would hardly spare, \n",
    "Unworthy things she talked and wild, \n",
    "Even he, of cattle the most mild,\n",
    "The pony had his share.\n",
    "</topos>\n",
    "\n",
    "<connection source=\"to the town\" target=\"the town\" relation=\"direct\"></connection>\n",
    "\n",
    "<topos framename=\"the town\" type=\"provincial town\">\n",
    "And now she’s got into the town,\n",
    "And to the doctor’s door she hies;\n",
    "’Tis silence all on every side;\n",
    "The town so long, the town so wide,\n",
    "Is silent as the skies.\n",
    "</topos>\n",
    "\n",
    "<connection source=\"the town\" target=\"the doctor's door\" relation=\"direct\"></connection>\n",
    "\n",
    "<topos framename=\"the doctor's door\" type=\"threshold\">\n",
    "And now she’s at the doctor's door,\n",
    "She lifts the knocker, rap, rap, rap,\n",
    "The doctor at the casement shews,\n",
    "His glimmering eyes that peep and doze; \n",
    "And one hand rubs his old night-cap.\n",
    "</topos>\n",
    "</document>\n",
    "\"\"\""
   ]
  },
  {
   "cell_type": "code",
   "execution_count": 22,
   "metadata": {},
   "outputs": [
    {
     "name": "stdout",
     "output_type": "stream",
     "text": [
      "XML is well-formed\n"
     ]
    }
   ],
   "source": [
    "check_xml_is_well_formed(StringIO(idiot_boy))"
   ]
  },
  {
   "cell_type": "code",
   "execution_count": 23,
   "metadata": {},
   "outputs": [
    {
     "name": "stdout",
     "output_type": "stream",
     "text": [
      "Errors:\n",
      "No errors found!\n",
      "Attribute typos:\n",
      "No attribute typos found!\n",
      "Source and Target mis-matches:\n",
      "No mismatches found!\n",
      "\n"
     ]
    }
   ],
   "source": [
    "validator = CCXMLValidator(file=StringIO(idiot_boy))\n",
    "validator.check_xml()"
   ]
  },
  {
   "cell_type": "code",
   "execution_count": 24,
   "metadata": {},
   "outputs": [],
   "source": [
    "from graph_generators import CompleteGraphGenerator"
   ]
  },
  {
   "cell_type": "code",
   "execution_count": 25,
   "metadata": {},
   "outputs": [],
   "source": [
    "generator = CompleteGraphGenerator(file=StringIO(idiot_boy), output_root=\"idiot_boy\")\n",
    "generator.generate()"
   ]
  },
  {
   "cell_type": "code",
   "execution_count": 26,
   "metadata": {},
   "outputs": [
    {
     "data": {
      "text/plain": [
       "'files/svg/idiot_boy-complete.svg'"
      ]
     },
     "execution_count": 26,
     "metadata": {},
     "output_type": "execute_result"
    }
   ],
   "source": [
    "generator.write_svg(algorithm='kamada', size=0.5, scale_correction=550)"
   ]
  },
  {
   "cell_type": "code",
   "execution_count": 28,
   "metadata": {},
   "outputs": [
    {
     "data": {
      "image/svg+xml": [
       "<svg baseProfile=\"full\" height=\"1000.0\" version=\"1.1\" width=\"1000.0\" xmlns=\"http://www.w3.org/2000/svg\" xmlns:ev=\"http://www.w3.org/2001/xml-events\" xmlns:xlink=\"http://www.w3.org/1999/xlink\"><defs/><rect fill=\"#525252\" height=\"1000.0\" width=\"1000.0\" x=\"0\" y=\"0\"/><g><path d=\"M813.0168973455042,184.49586730928172 Q725.0837980952168, 204.3147906758088 708.9296959857863,293.0180302668208\" fill=\"none\" stroke=\"#c686e9\" stroke-width=\"3\"/><path d=\"M813.0168973455042,184.49586730928172 Q725.0837980952168, 204.3147906758088 708.9296959857863,293.0180302668208\" fill=\"none\" stroke=\"#525252\" stroke-width=\"1\"/><polygon fill=\"#c686e9\" points=\"713.2125602016005,276.06646222553627 711.6886467083226,272.0133538301185 715.9606982896853,272.72016022947895\"/><path d=\"M813.0168973455042,184.49586730928172 Q867.7611259082277, 249.482030186398 829.3479755556914,325.2482033776837\" fill=\"none\" stroke=\"#c686e9\" stroke-width=\"3\"/><path d=\"M813.0168973455042,184.49586730928172 Q867.7611259082277, 249.482030186398 829.3479755556914,325.2482033776837\" fill=\"none\" stroke=\"#525252\" stroke-width=\"1\"/><polygon fill=\"#c686e9\" points=\"836.1133340777858,309.11304963658114 835.9588990811905,304.7856774741913 839.7837308037474,306.8156189251013\"/><path d=\"M708.9296959857863,293.0180302668208 Q612.6380770857529, 304.1163439032923 585.2605500673156,397.1295036448437\" fill=\"none\" stroke=\"#c686e9\" stroke-width=\"3\"/><path d=\"M708.9296959857863,293.0180302668208 Q612.6380770857529, 304.1163439032923 585.2605500673156,397.1295036448437\" fill=\"none\" stroke=\"#525252\" stroke-width=\"1\"/><polygon fill=\"#c686e9\" points=\"591.2132493865828,380.69185724884505 590.1386544941481,376.4971885113697 594.3086416274796,377.663896404482\"/><path d=\"M585.2605500673156,397.1295036448437 Q518.2042490344714, 494.1596010827614 581.2687351824875,593.7937633846104\" fill=\"none\" stroke=\"#c686e9\" stroke-width=\"3\"/><path d=\"M585.2605500673156,397.1295036448437 Q518.2042490344714, 494.1596010827614 581.2687351824875,593.7937633846104\" fill=\"none\" stroke=\"#525252\" stroke-width=\"1\"/><polygon fill=\"#c686e9\" points=\"572.6888715003262,578.560084927888 568.8360594612474,576.5837652696523 572.4740085108175,574.2352919969213\"/><path d=\"M585.2605500673156,397.1295036448437 Q470.84112788559554, 390.0400966178866 432.4993578082375,282.0127507368778\" fill=\"none\" stroke=\"#5fc613\" stroke-dasharray=\"2,8\" stroke-width=\"2\"/><polygon fill=\"#5fc613\" points=\"439.2064116892217,298.1740229233232 442.4744744075482,301.01475629150195 438.380295786164,302.4246149426442\"/><path d=\"M432.4993578082375,282.0127507368778 Q338.20142264570205, 260.2963202660484 281.27224606210416,338.5275781204439\" fill=\"none\" stroke=\"#ff7f33\" stroke-dasharray=\"40,10\" stroke-width=\"2\"/><polygon fill=\"#ff7f33\" points=\"292.69509132184453,324.7434364584426 293.08950228533723,320.43130937405874 296.6267084030142,322.9289428301665\"/><path d=\"M281.27224606210416,338.5275781204439 Q201.41454834160675, 393.2151224849781 220.65202444430867,488.1041383705117\" fill=\"none\" stroke=\"#ff7f33\" stroke-dasharray=\"40,10\" stroke-width=\"2\"/><polygon fill=\"#ff7f33\" points=\"218.09904360886986,468.89108875088607 215.17737307989094,465.6951786582683 219.40594767279848,464.76289280499316\"/><path d=\"M220.65202444430867,488.1041383705117 Q298.0825296334313, 546.0481634284484 275.1493019523919,640.0014873784966\" fill=\"none\" stroke=\"#ff7f33\" stroke-dasharray=\"40,10\" stroke-width=\"2\"/><polygon fill=\"#ff7f33\" points=\"278.29169109369064,622.3823005519565 277.1370503847962,618.2089559899339 281.3285931487007,619.295680084799\"/><path d=\"M275.1493019523919,640.0014873784966 Q370.288656638806, 621.9908636709405 423.9581997534142,702.6232012071885\" fill=\"none\" stroke=\"#ff7f33\" stroke-dasharray=\"40,10\" stroke-width=\"2\"/><polygon fill=\"#ff7f33\" points=\"413.39816487402487,688.6909631084163 409.544279918539,686.7167364877164 413.1809528026355,684.366287523353\"/><path d=\"M423.9581997534142,702.6232012071885 Q538.6149969642577, 700.282592122604 581.2687351824875,593.7937633846104\" fill=\"none\" stroke=\"#ff7f33\" stroke-dasharray=\"40,10\" stroke-width=\"2\"/><polygon fill=\"#ff7f33\" points=\"573.9286983946873,609.6609839527033 574.5844226797235,613.9411738622766 570.5498073424931,612.3689527962097\"/><path d=\"M581.2687351824875,593.7937633846104 Q676.9742251744592, 608.9012782710886 700.6097638337136,702.8605065600424\" fill=\"none\" stroke=\"#c686e9\" stroke-width=\"3\"/><path d=\"M581.2687351824875,593.7937633846104 Q676.9742251744592, 608.9012782710886 700.6097638337136,702.8605065600424\" fill=\"none\" stroke=\"#525252\" stroke-width=\"1\"/><polygon fill=\"#c686e9\" points=\"695.3084249606815,686.1802076889028 692.3361878059217,683.0312703608721 696.5493661043013,682.0317061427935\"/><path d=\"M700.6097638337136,702.8605065600424 Q787.6378642007425, 726.274174690646 800.2109586773408,815.5041326907183\" fill=\"none\" stroke=\"#c686e9\" stroke-width=\"3\"/><path d=\"M700.6097638337136,702.8605065600424 Q787.6378642007425, 726.274174690646 800.2109586773408,815.5041326907183\" fill=\"none\" stroke=\"#525252\" stroke-width=\"1\"/><polygon fill=\"#c686e9\" points=\"796.6053926730372,798.3723993842583 793.9940283598264,794.9183037828469 798.2910450543542,794.383843749776\"/></g><g><circle cx=\"829.3479755556914\" cy=\"325.2482033776837\" fill=\"#525252\" r=\"10.0\" stroke=\"none\"/><circle cx=\"813.0168973455042\" cy=\"184.49586730928172\" fill=\"#525252\" r=\"10.0\" stroke=\"none\"/><image height=\"20\" width=\"20\" x=\"803.0168973455042\" xlink:href=\"data:image/svg+xml;base64,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\" y=\"174.49586730928172\"/><circle cx=\"708.9296959857863\" cy=\"293.0180302668208\" fill=\"#525252\" r=\"10.0\" stroke=\"none\"/><image height=\"20\" width=\"20\" x=\"698.9296959857863\" xlink:href=\"data:image/svg+xml;base64,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\" y=\"283.0180302668208\"/><circle cx=\"585.2605500673156\" cy=\"397.1295036448437\" fill=\"#525252\" r=\"10.0\" stroke=\"none\"/><image height=\"20\" width=\"20\" x=\"575.2605500673156\" xlink:href=\"data:image/svg+xml;base64,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\" y=\"387.1295036448437\"/><circle cx=\"432.4993578082375\" cy=\"282.0127507368778\" fill=\"#525252\" r=\"10.0\" stroke=\"none\"/><image height=\"20\" width=\"20\" x=\"422.4993578082375\" xlink:href=\"data:image/svg+xml;base64,PHN2ZyB4bWxucz0iaHR0cDovL3d3dy53My5vcmcvMjAwMC9zdmciIHZpZXdCb3g9IjAgMCA3OS45IDgwLjE5Ij4KICA8ZGVmcz4KICAgIDxzdHlsZT4KICAgICAgLmNscy0xIHsKICAgICAgICBmaWxsOiAjNThjOGZhOwogICAgICB9CiAgICA8L3N0eWxlPgogIDwvZGVmcz4KICA8dGl0bGU+QXNzZXQgMzk8L3RpdGxlPgogIDxnIGlkPSJMYXllcl8yIiBkYXRhLW5hbWU9IkxheWVyIDIiPgogICAgPGcgaWQ9IkxheWVyXzEtMiIgZGF0YS1uYW1lPSJMYXllciAxIj4KICAgICAgPHBhdGggY2xhc3M9ImNscy0xIiBkPSJNMSw3Ny4wOUgzNC41YTYuMTQsNi4xNCwwLDAsMCw1LjMsMy4xLDYsNiwwLDAsMCw1LjMtMy4xSDc4LjlhLjk0Ljk0LDAsMCwwLDEtMVY2Ljc5YS45NC45NCwwLDAsMC0xLTFINzUuMXYtLjdhMSwxLDAsMCwwLS42LS45QzU1LjQtNSw0My4xLDMuNTksNDAsNi4wOWEyNywyNywwLDAsMC04LjYtNC43Yy01LjUtMS44LTE0LjQtMi43LTI2LDIuOGExLjE1LDEuMTUsMCwwLDAtLjYuOXYuN0gxYS45NC45NCwwLDAsMC0xLDF2NjkuM0ExLjA4LDEuMDgsMCwwLDAsMSw3Ny4wOVpNNzMuMiw1Ljc5djYyLjZjLTE2LjktNi45LTI4LjEtMS4xLTMyLjIsMS44LDAtMTksLjEtNTcuMSwwLTYyLjJDNDMsNi4wOSw1NC4yLTMsNzMuMiw1Ljc5Wk0zOSw3Ljg5Yy4xLDQuMSwwLDQwLjksMCw2Mi4yYTI1Ljg0LDI1Ljg0LDAsMCwwLTcuNS0zLjcsMzIsMzIsMCwwLDAtOS4xLTEuMyw0MC4xLDQwLjEsMCwwLDAtMTUuNiwzLjNWNi43OWgwdi0xQzI1LjktMy4xMSwzNy4yLDYuMTksMzksNy44OVpNMiw3Ljc5SDQuOHY2Mi4xYS44OS44OSwwLDAsMCwuNS44LDEuNjQsMS42NCwwLDAsMCwxLC4xYzExLjEtNC45LDE5LjUtNC4xLDI0LjYtMi41YTIyLjcyLDIyLjcyLDAsMCwxLDguNSw0LjZoMGMuMS4xLjIuMS4zLjJzLjIsMCwuMi4xaC4yYS4zNy4zNywwLDAsMCwuMy0uMS4yMi4yMiwwLDAsMCwuMi0uMi4xLjEsMCwwLDAsLjEtLjFoMGEyMy4xOSwyMy4xOSwwLDAsMSw4LjYtNC42YzUuMS0xLjYsMTMuNS0yLjQsMjQuNSwyLjVhLjk0Ljk0LDAsMCwwLC45LS4xLDEsMSwwLDAsMCwuNS0uOHYtNjJINzh2NjcuM0g0NC42YS44Ny44NywwLDAsMC0uOS42LDQuMTYsNC4xNiwwLDAsMS0zLjgsMi41LDQuMDYsNC4wNiwwLDAsMS0zLjgtMi41LDEsMSwwLDAsMC0uOS0uNkgyWiIvPgogICAgPC9nPgogIDwvZz4KPC9zdmc+Cg==\" y=\"272.0127507368778\"/><circle cx=\"281.27224606210416\" cy=\"338.5275781204439\" fill=\"#525252\" r=\"10.2\" stroke=\"none\"/><image height=\"20.4\" width=\"20.4\" x=\"271.07224606210417\" xlink:href=\"data:image/svg+xml;base64,PHN2ZyB4bWxucz0iaHR0cDovL3d3dy53My5vcmcvMjAwMC9zdmciIHZpZXdCb3g9IjAgMCA3OS45IDgwLjE5Ij4KICA8ZGVmcz4KICAgIDxzdHlsZT4KICAgICAgLmNscy0xIHsKICAgICAgICBmaWxsOiAjNThjOGZhOwogICAgICB9CiAgICA8L3N0eWxlPgogIDwvZGVmcz4KICA8dGl0bGU+QXNzZXQgMzk8L3RpdGxlPgogIDxnIGlkPSJMYXllcl8yIiBkYXRhLW5hbWU9IkxheWVyIDIiPgogICAgPGcgaWQ9IkxheWVyXzEtMiIgZGF0YS1uYW1lPSJMYXllciAxIj4KICAgICAgPHBhdGggY2xhc3M9ImNscy0xIiBkPSJNMSw3Ny4wOUgzNC41YTYuMTQsNi4xNCwwLDAsMCw1LjMsMy4xLDYsNiwwLDAsMCw1LjMtMy4xSDc4LjlhLjk0Ljk0LDAsMCwwLDEtMVY2Ljc5YS45NC45NCwwLDAsMC0xLTFINzUuMXYtLjdhMSwxLDAsMCwwLS42LS45QzU1LjQtNSw0My4xLDMuNTksNDAsNi4wOWEyNywyNywwLDAsMC04LjYtNC43Yy01LjUtMS44LTE0LjQtMi43LTI2LDIuOGExLjE1LDEuMTUsMCwwLDAtLjYuOXYuN0gxYS45NC45NCwwLDAsMC0xLDF2NjkuM0ExLjA4LDEuMDgsMCwwLDAsMSw3Ny4wOVpNNzMuMiw1Ljc5djYyLjZjLTE2LjktNi45LTI4LjEtMS4xLTMyLjIsMS44LDAtMTksLjEtNTcuMSwwLTYyLjJDNDMsNi4wOSw1NC4yLTMsNzMuMiw1Ljc5Wk0zOSw3Ljg5Yy4xLDQuMSwwLDQwLjksMCw2Mi4yYTI1Ljg0LDI1Ljg0LDAsMCwwLTcuNS0zLjcsMzIsMzIsMCwwLDAtOS4xLTEuMyw0MC4xLDQwLjEsMCwwLDAtMTUuNiwzLjNWNi43OWgwdi0xQzI1LjktMy4xMSwzNy4yLDYuMTksMzksNy44OVpNMiw3Ljc5SDQuOHY2Mi4xYS44OS44OSwwLDAsMCwuNS44LDEuNjQsMS42NCwwLDAsMCwxLC4xYzExLjEtNC45LDE5LjUtNC4xLDI0LjYtMi41YTIyLjcyLDIyLjcyLDAsMCwxLDguNSw0LjZoMGMuMS4xLjIuMS4zLjJzLjIsMCwuMi4xaC4yYS4zNy4zNywwLDAsMCwuMy0uMS4yMi4yMiwwLDAsMCwuMi0uMi4xLjEsMCwwLDAsLjEtLjFoMGEyMy4xOSwyMy4xOSwwLDAsMSw4LjYtNC42YzUuMS0xLjYsMTMuNS0yLjQsMjQuNSwyLjVhLjk0Ljk0LDAsMCwwLC45LS4xLDEsMSwwLDAsMCwuNS0uOHYtNjJINzh2NjcuM0g0NC42YS44Ny44NywwLDAsMC0uOS42LDQuMTYsNC4xNiwwLDAsMS0zLjgsMi41LDQuMDYsNC4wNiwwLDAsMS0zLjgtMi41LDEsMSwwLDAsMC0uOS0uNkgyWiIvPgogICAgPC9nPgogIDwvZz4KPC9zdmc+Cg==\" y=\"328.3275781204439\"/><circle cx=\"220.65202444430867\" cy=\"488.1041383705117\" fill=\"#525252\" r=\"10.95\" stroke=\"none\"/><image height=\"21.9\" width=\"21.9\" x=\"209.70202444430868\" xlink:href=\"data:image/svg+xml;base64,PHN2ZyB4bWxucz0iaHR0cDovL3d3dy53My5vcmcvMjAwMC9zdmciIHZpZXdCb3g9IjAgMCA3OS45IDgwLjE5Ij4KICA8ZGVmcz4KICAgIDxzdHlsZT4KICAgICAgLmNscy0xIHsKICAgICAgICBmaWxsOiAjNThjOGZhOwogICAgICB9CiAgICA8L3N0eWxlPgogIDwvZGVmcz4KICA8dGl0bGU+QXNzZXQgMzk8L3RpdGxlPgogIDxnIGlkPSJMYXllcl8yIiBkYXRhLW5hbWU9IkxheWVyIDIiPgogICAgPGcgaWQ9IkxheWVyXzEtMiIgZGF0YS1uYW1lPSJMYXllciAxIj4KICAgICAgPHBhdGggY2xhc3M9ImNscy0xIiBkPSJNMSw3Ny4wOUgzNC41YTYuMTQsNi4xNCwwLDAsMCw1LjMsMy4xLDYsNiwwLDAsMCw1LjMtMy4xSDc4LjlhLjk0Ljk0LDAsMCwwLDEtMVY2Ljc5YS45NC45NCwwLDAsMC0xLTFINzUuMXYtLjdhMSwxLDAsMCwwLS42LS45QzU1LjQtNSw0My4xLDMuNTksNDAsNi4wOWEyNywyNywwLDAsMC04LjYtNC43Yy01LjUtMS44LTE0LjQtMi43LTI2LDIuOGExLjE1LDEuMTUsMCwwLDAtLjYuOXYuN0gxYS45NC45NCwwLDAsMC0xLDF2NjkuM0ExLjA4LDEuMDgsMCwwLDAsMSw3Ny4wOVpNNzMuMiw1Ljc5djYyLjZjLTE2LjktNi45LTI4LjEtMS4xLTMyLjIsMS44LDAtMTksLjEtNTcuMSwwLTYyLjJDNDMsNi4wOSw1NC4yLTMsNzMuMiw1Ljc5Wk0zOSw3Ljg5Yy4xLDQuMSwwLDQwLjksMCw2Mi4yYTI1Ljg0LDI1Ljg0LDAsMCwwLTcuNS0zLjcsMzIsMzIsMCwwLDAtOS4xLTEuMyw0MC4xLDQwLjEsMCwwLDAtMTUuNiwzLjNWNi43OWgwdi0xQzI1LjktMy4xMSwzNy4yLDYuMTksMzksNy44OVpNMiw3Ljc5SDQuOHY2Mi4xYS44OS44OSwwLDAsMCwuNS44LDEuNjQsMS42NCwwLDAsMCwxLC4xYzExLjEtNC45LDE5LjUtNC4xLDI0LjYtMi41YTIyLjcyLDIyLjcyLDAsMCwxLDguNSw0LjZoMGMuMS4xLjIuMS4zLjJzLjIsMCwuMi4xaC4yYS4zNy4zNywwLDAsMCwuMy0uMS4yMi4yMiwwLDAsMCwuMi0uMi4xLjEsMCwwLDAsLjEtLjFoMGEyMy4xOSwyMy4xOSwwLDAsMSw4LjYtNC42YzUuMS0xLjYsMTMuNS0yLjQsMjQuNSwyLjVhLjk0Ljk0LDAsMCwwLC45LS4xLDEsMSwwLDAsMCwuNS0uOHYtNjJINzh2NjcuM0g0NC42YS44Ny44NywwLDAsMC0uOS42LDQuMTYsNC4xNiwwLDAsMS0zLjgsMi41LDQuMDYsNC4wNiwwLDAsMS0zLjgtMi41LDEsMSwwLDAsMC0uOS0uNkgyWiIvPgogICAgPC9nPgogIDwvZz4KPC9zdmc+Cg==\" y=\"477.1541383705117\"/><circle cx=\"275.1493019523919\" cy=\"640.0014873784966\" fill=\"#525252\" r=\"10.2\" stroke=\"none\"/><image height=\"20.4\" width=\"20.4\" x=\"264.9493019523919\" xlink:href=\"data:image/svg+xml;base64,PHN2ZyB4bWxucz0iaHR0cDovL3d3dy53My5vcmcvMjAwMC9zdmciIHZpZXdCb3g9IjAgMCA3OS45IDgwLjE5Ij4KICA8ZGVmcz4KICAgIDxzdHlsZT4KICAgICAgLmNscy0xIHsKICAgICAgICBmaWxsOiAjNThjOGZhOwogICAgICB9CiAgICA8L3N0eWxlPgogIDwvZGVmcz4KICA8dGl0bGU+QXNzZXQgMzk8L3RpdGxlPgogIDxnIGlkPSJMYXllcl8yIiBkYXRhLW5hbWU9IkxheWVyIDIiPgogICAgPGcgaWQ9IkxheWVyXzEtMiIgZGF0YS1uYW1lPSJMYXllciAxIj4KICAgICAgPHBhdGggY2xhc3M9ImNscy0xIiBkPSJNMSw3Ny4wOUgzNC41YTYuMTQsNi4xNCwwLDAsMCw1LjMsMy4xLDYsNiwwLDAsMCw1LjMtMy4xSDc4LjlhLjk0Ljk0LDAsMCwwLDEtMVY2Ljc5YS45NC45NCwwLDAsMC0xLTFINzUuMXYtLjdhMSwxLDAsMCwwLS42LS45QzU1LjQtNSw0My4xLDMuNTksNDAsNi4wOWEyNywyNywwLDAsMC04LjYtNC43Yy01LjUtMS44LTE0LjQtMi43LTI2LDIuOGExLjE1LDEuMTUsMCwwLDAtLjYuOXYuN0gxYS45NC45NCwwLDAsMC0xLDF2NjkuM0ExLjA4LDEuMDgsMCwwLDAsMSw3Ny4wOVpNNzMuMiw1Ljc5djYyLjZjLTE2LjktNi45LTI4LjEtMS4xLTMyLjIsMS44LDAtMTksLjEtNTcuMSwwLTYyLjJDNDMsNi4wOSw1NC4yLTMsNzMuMiw1Ljc5Wk0zOSw3Ljg5Yy4xLDQuMSwwLDQwLjksMCw2Mi4yYTI1Ljg0LDI1Ljg0LDAsMCwwLTcuNS0zLjcsMzIsMzIsMCwwLDAtOS4xLTEuMyw0MC4xLDQwLjEsMCwwLDAtMTUuNiwzLjNWNi43OWgwdi0xQzI1LjktMy4xMSwzNy4yLDYuMTksMzksNy44OVpNMiw3Ljc5SDQuOHY2Mi4xYS44OS44OSwwLDAsMCwuNS44LDEuNjQsMS42NCwwLDAsMCwxLC4xYzExLjEtNC45LDE5LjUtNC4xLDI0LjYtMi41YTIyLjcyLDIyLjcyLDAsMCwxLDguNSw0LjZoMGMuMS4xLjIuMS4zLjJzLjIsMCwuMi4xaC4yYS4zNy4zNywwLDAsMCwuMy0uMS4yMi4yMiwwLDAsMCwuMi0uMi4xLjEsMCwwLDAsLjEtLjFoMGEyMy4xOSwyMy4xOSwwLDAsMSw4LjYtNC42YzUuMS0xLjYsMTMuNS0yLjQsMjQuNSwyLjVhLjk0Ljk0LDAsMCwwLC45LS4xLDEsMSwwLDAsMCwuNS0uOHYtNjJINzh2NjcuM0g0NC42YS44Ny44NywwLDAsMC0uOS42LDQuMTYsNC4xNiwwLDAsMS0zLjgsMi41LDQuMDYsNC4wNiwwLDAsMS0zLjgtMi41LDEsMSwwLDAsMC0uOS0uNkgyWiIvPgogICAgPC9nPgogIDwvZz4KPC9zdmc+Cg==\" y=\"629.8014873784965\"/><circle cx=\"423.9581997534142\" cy=\"702.6232012071885\" fill=\"#525252\" r=\"10.0\" stroke=\"none\"/><image height=\"20\" width=\"20\" x=\"413.9581997534142\" xlink:href=\"data:image/svg+xml;base64,PHN2ZyB4bWxucz0iaHR0cDovL3d3dy53My5vcmcvMjAwMC9zdmciIHZpZXdCb3g9IjAgMCA3OS45IDgwLjE5Ij4KICA8ZGVmcz4KICAgIDxzdHlsZT4KICAgICAgLmNscy0xIHsKICAgICAgICBmaWxsOiAjNThjOGZhOwogICAgICB9CiAgICA8L3N0eWxlPgogIDwvZGVmcz4KICA8dGl0bGU+QXNzZXQgMzk8L3RpdGxlPgogIDxnIGlkPSJMYXllcl8yIiBkYXRhLW5hbWU9IkxheWVyIDIiPgogICAgPGcgaWQ9IkxheWVyXzEtMiIgZGF0YS1uYW1lPSJMYXllciAxIj4KICAgICAgPHBhdGggY2xhc3M9ImNscy0xIiBkPSJNMSw3Ny4wOUgzNC41YTYuMTQsNi4xNCwwLDAsMCw1LjMsMy4xLDYsNiwwLDAsMCw1LjMtMy4xSDc4LjlhLjk0Ljk0LDAsMCwwLDEtMVY2Ljc5YS45NC45NCwwLDAsMC0xLTFINzUuMXYtLjdhMSwxLDAsMCwwLS42LS45QzU1LjQtNSw0My4xLDMuNTksNDAsNi4wOWEyNywyNywwLDAsMC04LjYtNC43Yy01LjUtMS44LTE0LjQtMi43LTI2LDIuOGExLjE1LDEuMTUsMCwwLDAtLjYuOXYuN0gxYS45NC45NCwwLDAsMC0xLDF2NjkuM0ExLjA4LDEuMDgsMCwwLDAsMSw3Ny4wOVpNNzMuMiw1Ljc5djYyLjZjLTE2LjktNi45LTI4LjEtMS4xLTMyLjIsMS44LDAtMTksLjEtNTcuMSwwLTYyLjJDNDMsNi4wOSw1NC4yLTMsNzMuMiw1Ljc5Wk0zOSw3Ljg5Yy4xLDQuMSwwLDQwLjksMCw2Mi4yYTI1Ljg0LDI1Ljg0LDAsMCwwLTcuNS0zLjcsMzIsMzIsMCwwLDAtOS4xLTEuMyw0MC4xLDQwLjEsMCwwLDAtMTUuNiwzLjNWNi43OWgwdi0xQzI1LjktMy4xMSwzNy4yLDYuMTksMzksNy44OVpNMiw3Ljc5SDQuOHY2Mi4xYS44OS44OSwwLDAsMCwuNS44LDEuNjQsMS42NCwwLDAsMCwxLC4xYzExLjEtNC45LDE5LjUtNC4xLDI0LjYtMi41YTIyLjcyLDIyLjcyLDAsMCwxLDguNSw0LjZoMGMuMS4xLjIuMS4zLjJzLjIsMCwuMi4xaC4yYS4zNy4zNywwLDAsMCwuMy0uMS4yMi4yMiwwLDAsMCwuMi0uMi4xLjEsMCwwLDAsLjEtLjFoMGEyMy4xOSwyMy4xOSwwLDAsMSw4LjYtNC42YzUuMS0xLjYsMTMuNS0yLjQsMjQuNSwyLjVhLjk0Ljk0LDAsMCwwLC45LS4xLDEsMSwwLDAsMCwuNS0uOHYtNjJINzh2NjcuM0g0NC42YS44Ny44NywwLDAsMC0uOS42LDQuMTYsNC4xNiwwLDAsMS0zLjgsMi41LDQuMDYsNC4wNiwwLDAsMS0zLjgtMi41LDEsMSwwLDAsMC0uOS0uNkgyWiIvPgogICAgPC9nPgogIDwvZz4KPC9zdmc+Cg==\" y=\"692.6232012071885\"/><circle cx=\"581.2687351824875\" cy=\"593.7937633846104\" fill=\"#525252\" r=\"10.0\" stroke=\"none\"/><image height=\"20\" width=\"20\" x=\"571.2687351824875\" xlink:href=\"data:image/svg+xml;base64,PD94bWwgdmVyc2lvbj0iMS4wIiBlbmNvZGluZz0idXRmLTgiPz4KPCEtLSBHZW5lcmF0b3I6IEFkb2JlIElsbHVzdHJhdG9yIDIyLjAuMSwgU1ZHIEV4cG9ydCBQbHVnLUluIC4gU1ZHIFZlcnNpb246IDYuMDAgQnVpbGQgMCkgIC0tPgo8c3ZnIHZlcnNpb249IjEuMSIgaWQ9IkxheWVyXzEiIHhtbG5zPSJodHRwOi8vd3d3LnczLm9yZy8yMDAwL3N2ZyIgeG1sbnM6eGxpbms9Imh0dHA6Ly93d3cudzMub3JnLzE5OTkveGxpbmsiIHg9IjBweCIgeT0iMHB4IgoJIHdpZHRoPSI4MHB4IiBoZWlnaHQ9IjgwLjI1cHgiIHZpZXdCb3g9IjAgMCA4MCA4MC4yNSIgZW5hYmxlLWJhY2tncm91bmQ9Im5ldyAwIDAgODAgODAuMjUiIHhtbDpzcGFjZT0icHJlc2VydmUiPgo8dGl0bGU+QXNzZXQgNDQ8L3RpdGxlPgo8ZyBpZD0iTGF5ZXJfMl8xXyI+Cgk8ZyBpZD0iTGF5ZXJfMS0yIj4KCQk8Zz4KCQkJPHBhdGggZmlsbD0iIzU4QzhGQSIgZD0iTTM5LjksNzAuMjVjLTAuNTE4LTAuMDM0My0wLjk2NTcsMC4zNTc5LTEsMC44NzU5Yy0wLjAwMjcsMC4wNDEzLTAuMDAyNywwLjA4MjgsMCwwLjEyNDF2Ny45CgkJCQljMCwwLjU1MjMsMC40NDc3LDEsMSwxczEtMC40NDc3LDEtMXYtNy45QzQwLjg2MTYsNzAuNzE0NCw0MC40MzU2LDcwLjI4ODQsMzkuOSw3MC4yNXoiLz4KCQkJPHBhdGggZmlsbD0iIzU4QzhGQSIgZD0iTTM5LjksNTdjLTAuNTE4LTAuMDM0My0wLjk2NTcsMC4zNTc5LTEsMC44NzU5Yy0wLjAwMjcsMC4wNDEzLTAuMDAyNywwLjA4MjgsMCwwLjEyNDF2NS45CgkJCQljMCwwLjU1MjMsMC40NDc3LDEsMSwxczEtMC40NDc3LDEtMVY1OEM0MC45LDU3LjQ0NzcsNDAuNDUyMyw1NywzOS45LDU3eiIvPgoJCQk8cGF0aCBmaWxsPSIjNThDOEZBIiBkPSJNMzkuOSw0NS4yNWMtMC41MTgtMC4wMzQzLTAuOTY1NywwLjM1NzktMSwwLjg3NTljLTAuMDAyNywwLjA0MTMtMC4wMDI3LDAuMDgyOCwwLDAuMTI0MXYzLjkKCQkJCWMwLDAuNTUyMywwLjQ0NzcsMSwxLDFzMS0wLjQ0NzcsMS0xdi0zLjlDNDAuOSw0NS42OTc3LDQwLjQ1MjMsNDUuMjUsMzkuOSw0NS4yNXoiLz4KCQkJPHBhdGggZmlsbD0iIzU4QzhGQSIgZD0iTTQ2LjIsMzdjMCwwLjEsMCwwLjEsMC4xLDAuMmwyMy4yLDQyLjVjMC4xOTIxLDAuMzEyNCwwLjUzMzMsMC41MDE5LDAuOSwwLjUKCQkJCWMwLjE3MjgsMC4wMTU2LDAuMzQ2NS0wLjAxOTIsMC41LTAuMWMwLjQ5MDYtMC4yNTM2LDAuNjgyOC0wLjg1NjksMC40MjkyLTEuMzQ3NUM3MS4zMiw3OC43MzQ3LDcxLjMxMDIsNzguNzE3Miw3MS4zLDc4LjcKCQkJCUw0OC40LDM3aDIuNGMwLDAuMSwwLDAuMiwwLjEsMC4ybDI3LjIsNDIuNWMwLjE2NjQsMC4yODk5LDAuNDY2NSwwLjQ3NzUsMC44LDAuNWMwLjE4NTUtMC4wMDM0LDAuMzYzMy0wLjA3NDUsMC41LTAuMgoJCQkJYzAuNDY3NC0wLjI5NDIsMC42MDc4LTAuOTExNiwwLjMxMzYtMS4zNzlDNzkuNzA5Miw3OC42MTQsNzkuNzA0Niw3OC42MDcsNzkuNyw3OC42TDUzLjEsMzdINzljMC41NTIzLDAsMS0wLjQ0NzcsMS0xCgkJCQlzLTAuNDQ3Ny0xLTEtMWgtOC44TDUzLjEsNS40NWMtMC4yOTA5LTAuNDY5NC0wLjkwNzMtMC42MTQyLTEuMzc2OC0wLjMyMzJDNTEuNTkyLDUuMjA4MSw1MS40ODEzLDUuMzE4OCw1MS40LDUuNDVsLTguNSwxNC43CgkJCQlMMzEuNSwwLjQ1Yy0wLjI5MDktMC40Njk0LTAuOTA3My0wLjYxNDItMS4zNzY4LTAuMzIzMkMyOS45OTIsMC4yMDgxLDI5Ljg4MTMsMC4zMTg4LDI5LjgsMC40NUw5LjgsMzVIMWMtMC41NTIzLDAtMSwwLjQ0NzctMSwxCgkJCQlzMC40NDc3LDEsMSwxaDI1LjhMMC4yLDc4LjY1Yy0wLjMwNTgsMC40NTk5LTAuMTgwOSwxLjA4MDYsMC4yNzksMS4zODY0QzAuNDg1OSw4MC4wNDEsMC40OTI5LDgwLjA0NTYsMC41LDgwLjA1CgkJCQljMC4xNTQ5LDAuMDkzLDAuMzIzNywwLjE2MDUsMC41LDAuMmMwLjM0MDMsMCwwLjY1MDktMC4xOTQxLDAuOC0wLjVMMjksMzcuMjVjMC4wMTA2LTAuMDc1OCwwLjA0NTctMC4xNDYxLDAuMS0wLjJoMi40CgkJCQlMOC44LDc4LjY1Yy0wLjI4MjYsMC40NzQ1LTAuMTI3LDEuMDg4MywwLjM0NzUsMS4zNzA4YzAuMDE3MiwwLjAxMDIsMC4wMzQ3LDAuMDIsMC4wNTI1LDAuMDI5MgoJCQkJYzAuMTUzNSwwLjA4MDgsMC4zMjcyLDAuMTE1NiwwLjUsMC4xYzAuMzY2NywwLjAwMTksMC43MDc5LTAuMTg3NiwwLjktMC41bDIzLjItNDIuNWMwLTAuMSwwLTAuMSwwLjEtMC4ySDM5djIuNAoJCQkJYzAsMC41NTIzLDAuNDQ3NywxLDEsMXMxLTAuNDQ3NywxLTFWMzdINDYuMnogTTQ0LDIyLjE1TDUyLjIsOGwxNS42LDI3SDUxLjRMNDQsMjIuMTV6IE0zMC42LDNsMTguNSwzMmgtMzdMMzAuNiwzeiIvPgoJCTwvZz4KCTwvZz4KPC9nPgo8L3N2Zz4K\" y=\"583.7937633846104\"/><circle cx=\"700.6097638337136\" cy=\"702.8605065600424\" fill=\"#525252\" r=\"10.0\" stroke=\"none\"/><image height=\"20\" width=\"20\" x=\"690.6097638337136\" xlink:href=\"data:image/svg+xml;base64,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\" y=\"692.8605065600424\"/><circle cx=\"800.2109586773408\" cy=\"815.5041326907183\" fill=\"#525252\" r=\"10.0\" stroke=\"none\"/><image height=\"20\" width=\"20\" x=\"790.2109586773408\" xlink:href=\"data:image/svg+xml;base64,PD94bWwgdmVyc2lvbj0iMS4wIiBlbmNvZGluZz0idXRmLTgiPz4KPCEtLSBHZW5lcmF0b3I6IEFkb2JlIElsbHVzdHJhdG9yIDIyLjAuMSwgU1ZHIEV4cG9ydCBQbHVnLUluIC4gU1ZHIFZlcnNpb246IDYuMDAgQnVpbGQgMCkgIC0tPgo8c3ZnIHZlcnNpb249IjEuMSIgaWQ9IkxheWVyXzEiIHhtbG5zPSJodHRwOi8vd3d3LnczLm9yZy8yMDAwL3N2ZyIgeG1sbnM6eGxpbms9Imh0dHA6Ly93d3cudzMub3JnLzE5OTkveGxpbmsiIHg9IjBweCIgeT0iMHB4IgoJIHdpZHRoPSI4MHB4IiBoZWlnaHQ9Ijc5LjlweCIgdmlld0JveD0iMCAwIDgwIDc5LjkiIGVuYWJsZS1iYWNrZ3JvdW5kPSJuZXcgMCAwIDgwIDc5LjkiIHhtbDpzcGFjZT0icHJlc2VydmUiPgo8dGl0bGU+QXNzZXQgNDM8L3RpdGxlPgo8ZyBpZD0iTGF5ZXJfMl8xXyI+Cgk8ZyBpZD0iTGF5ZXJfMS0yIj4KCQk8Zz4KCQkJPHBhdGggZmlsbD0iIzU4QzhGQSIgZD0iTTc5LDc3LjlINjYuNFYxYzAuMDM0My0wLjUxOC0wLjM1NzktMC45NjU3LTAuODc1OS0xQzY1LjQ4MjgtMC4wMDI3LDY1LjQ0MTMtMC4wMDI3LDY1LjQsMGgtNTEKCQkJCWMtMC41MTgtMC4wMzQzLTAuOTY1NywwLjM1NzktMSwwLjg3NTlDMTMuMzk3MywwLjkxNzIsMTMuMzk3MywwLjk1ODcsMTMuNCwxdjc2LjlIMWMtMC41NTIzLDAtMSwwLjQ0NzctMSwxczAuNDQ3NywxLDEsMWg3OAoJCQkJYzAuNTUyMywwLDEtMC40NDc3LDEtMVM3OS41NTIzLDc3LjksNzksNzcuOXogTTE1LjQsMmg0OXY3NS45aC0zLjZ2LTcxYzAuMDM0My0wLjUxOC0wLjM1NzktMC45NjU3LTAuODc1OS0xCgkJCQljLTAuMDQxMy0wLjAwMjctMC4wODI4LTAuMDAyNy0wLjEyNDEsMEgyMGMtMC41MTgtMC4wMzQzLTAuOTY1NywwLjM1NzktMSwwLjg3NTlDMTguOTk3Myw2LjgxNzIsMTguOTk3Myw2Ljg1ODcsMTksNi45djcxaC0zLjYKCQkJCVYyeiBNNTguOCw3Ny45SDIxdi03MGgzNy44Vjc3Ljl6Ii8+CgkJCTxwYXRoIGZpbGw9IiM1OEM4RkEiIGQ9Ik0yNC40LDQ5LjdjMC41MTgsMC4wMzQzLDAuOTY1Ny0wLjM1NzksMS0wLjg3NTljMC4wMDI3LTAuMDQxMywwLjAwMjctMC4wODI4LDAtMC4xMjQxdi02LjUKCQkJCWMwLTAuNTUyMy0wLjQ0NzctMS0xLTFzLTEsMC40NDc3LTEsMXY2LjVDMjMuNCw0OS4yNTIzLDIzLjg0NzcsNDkuNywyNC40LDQ5Ljd6Ii8+CgkJPC9nPgoJPC9nPgo8L2c+Cjwvc3ZnPgo=\" y=\"805.5041326907183\"/><text fill=\"#dbdbdb\" font-family=\"'Helvetica Neue', sans-serif\" font-size=\"10.0\" text-anchor=\"middle\" x=\"829.3479755556914\" y=\"329.2482033776837\">&quot;moonlight dale&quot;</text><text fill=\"#dbdbdb\" font-family=\"'Helvetica Neue', sans-serif\" font-size=\"10\" text-anchor=\"middle\" x=\"813.0168973455042\" y=\"186.49586730928172\">moonlight lane</text><text fill=\"#dbdbdb\" font-family=\"'Helvetica Neue', sans-serif\" font-size=\"10\" text-anchor=\"middle\" x=\"708.9296959857863\" y=\"295.0180302668208\">bridge in the dale</text><text fill=\"#dbdbdb\" font-family=\"'Helvetica Neue', sans-serif\" font-size=\"10\" text-anchor=\"middle\" x=\"585.2605500673156\" y=\"399.1295036448437\">high upon the down</text><text fill=\"#dbdbdb\" font-family=\"'Helvetica Neue', sans-serif\" font-size=\"10\" text-anchor=\"middle\" x=\"432.4993578082375\" y=\"284.0127507368778\">climbed into an oak?</text><text fill=\"#dbdbdb\" font-family=\"'Helvetica Neue', sans-serif\" font-size=\"10\" text-anchor=\"middle\" x=\"281.27224606210416\" y=\"340.5675781204439\">joined the wandering gypsey-folk?</text><text fill=\"#dbdbdb\" font-family=\"'Helvetica Neue', sans-serif\" font-size=\"10\" text-anchor=\"middle\" x=\"220.65202444430867\" y=\"490.2941383705117\">to the dark cave?</text><text fill=\"#dbdbdb\" font-family=\"'Helvetica Neue', sans-serif\" font-size=\"10\" text-anchor=\"middle\" x=\"275.1493019523919\" y=\"642.0414873784965\">in the castle?</text><text fill=\"#dbdbdb\" font-family=\"'Helvetica Neue', sans-serif\" font-size=\"10\" text-anchor=\"middle\" x=\"423.9581997534142\" y=\"704.6232012071885\">the waterfall?</text><text fill=\"#dbdbdb\" font-family=\"'Helvetica Neue', sans-serif\" font-size=\"10\" text-anchor=\"middle\" x=\"581.2687351824875\" y=\"595.7937633846104\">to the town</text><text fill=\"#dbdbdb\" font-family=\"'Helvetica Neue', sans-serif\" font-size=\"10\" text-anchor=\"middle\" x=\"700.6097638337136\" y=\"704.8605065600424\">the town</text><text fill=\"#dbdbdb\" font-family=\"'Helvetica Neue', sans-serif\" font-size=\"10\" text-anchor=\"middle\" x=\"800.2109586773408\" y=\"817.5041326907183\">the doctor's door</text></g></svg>"
      ]
     },
     "metadata": {},
     "output_type": "display_data"
    }
   ],
   "source": [
    "from IPython.display import display_svg, SVG\n",
    "display_svg(SVG('files/svg/idiot_boy-complete.svg'))"
   ]
  },
  {
   "cell_type": "markdown",
   "metadata": {},
   "source": [
    "---\n",
    "## Complete Examples\n",
    "\n",
    "**Note: For a document to validate, it *must* include an encoding tag at the beginning and be enclosed in a document tag, as in the examples below.**\n",
    "\n",
    "### From *Ryme of the Ancyent Marinere*\n",
    "\n",
    "The example below shows a series of topoi, the connections between them, and their associated toporefs.\n",
    "\n",
    "```xml\n",
    "<?xml version=\"1.0\" encoding=\"UTF-8\"?>\n",
    "<document>\n",
    "<topos type=\"encounter\" framename=”Wedding”>\n",
    "It is an ancient Mariner,\n",
    "And he stoppeth one of three: \n",
    "\"By thy long grey beard and thy glittering eye \n",
    "\"Now wherefore stoppest me?\n",
    "    \n",
    "\"The Bridegroom's doors are open'd wide \n",
    "\"And I am next of kin; \n",
    "\"The Guests are met, the Feast is set,— \n",
    "\"May'st hear the merry din. \n",
    "But still he holds the wedding-guest— \n",
    "There was a Ship, quoth he— \n",
    "\"Nay, if thou'st got a laughsome tale, \n",
    "\"Marinere! come with me.\"  \n",
    "    \n",
    "He holds him with his skinny hand, \n",
    "Quoth he, there was a Ship— \n",
    "\"Now get thee hence, thou grey-beard Loon! \n",
    "\"Or my Staff shall make thee skip.  \n",
    "\n",
    "He holds him with his glittering eye— \n",
    "The wedding guest stood still \n",
    "And listens like a three year's child; \n",
    "The Marinere hath his will.\n",
    "    \n",
    "The wedding-guest sate on a stone, He cannot chuse but hear: \n",
    "<connection source=\"Wedding\" target=\"Harbour\" relation=\"charshift\"> And thus spake on that ancyent man. \n",
    "The bright-eyed Marinere</connection>.</topos>\n",
    "<topos type=\"threshold” framename=\"Harbour”>The Ship was cheer'd, the Harbour clear'd— \n",
    "Merrily did we drop \n",
    "Below <toporef role=\"active\" relation=\"indirect\"> the Kirk</toporef>, \n",
    "below <toporef role=\"active\" relation=\"indirect\"> the Hill</toporef>, \n",
    "Below <toporef role=\"active\" relation=\"indirect\"> the Light-house</toporef> top.  \n",
    "    \n",
    "The Sun came up upon the left, \n",
    "Out of the Sea came he: \n",
    "And he shone bright, and on the right \n",
    "Went down into the Sea.  \n",
    "\n",
    "Higher and higher every day, \n",
    "Till over the mast at noon— </topos>\n",
    "<topos lscape=\"encounter\" framename=”Wedding”>\n",
    "<connection source=\"Harbour\" target=\"Wedding\" relation=\"interrupt\"> The wedding-guest here beat his breast, \n",
    "For he heard the loud bassoon.</connection>  \n",
    "\n",
    "The Bride hath pac'd into the Hall,\n",
    "Red as a rose is she; \n",
    "Nodding their heads before her goes \n",
    "The merry Minstralsy. \n",
    "The wedding-guest he beat his breast, \n",
    "Yet he cannot cruise but hear: \n",
    "<connection source=\"Wedding\" target=\"Southern Ocean\" relation=\"charshift\"> And thus spake on that ancyent Man, \n",
    "The bright-eyed Marinere</connection>.</topos>\n",
    "\n",
    "<topos lscape=\"road\" framename=\"Southern Ocean\">\n",
    "Listen, Stranger! Storm and Wind, \n",
    "A Wind and Tempest strong  \n",
    "<connection source=\"Harbour\" target=\"Southern Ocean\" relation=\"jump\"> For days and weeks it play'd us freaks—</connection> \n",
    "Like Chaff we drove along.  \n",
    "\n",
    "Listen, Stranger! Mist and Snow, \n",
    "And it grew wond'rous cauld: \n",
    "And Ice mast-high came floating by \n",
    "As green as Emerauld.\n",
    "</document>\n",
    "```\n",
    "\n",
    "\n",
    "## From *Northanger Abbey*\n",
    "\n",
    "The following demonstrates the use of the 'metanarrative' spatial type to indicate where the authorial voice interjects explicitly:\n",
    "\n",
    "```xml\n",
    "<?xml version=\"1.0\" encoding=\"UTF-8\"?>\n",
    "<document>\n",
    "    <topos framename=\"They shut themselves up, to read novels together\" type=\"parlour\">The progress of the friendship between Catherine and Isabella was quick as its beginning had been warm […] if a rainy morning deprived them of other enjoyments, they were still resolute in meeting in defiance of wet and dirt, and shut themselves up, to read novels together.</topos>\n",
    "    <connection source=\"They shut themselves up, to read novels together\" target=\"paraspace\"></connection> \n",
    "    <topos type=\"metanarrative\" framename=\"paraspace\">Yes, novels; for I will not adopt that ungenerous and impolitic custom so common with novel-writers, of degrading by their contemptuous censure the very performances, to the number of which they are themselves adding—joining with their greatest enemies in bestowing the harshest epithets on such works, and scarcely ever permitting them to be read by their own heroine, who, if she accidentally take up a novel, is sure to turn over its insipid pages with disgust. Alas! If the heroine of one novel be not patronized by the heroine of another, from whom can she expect protection and regard? I cannot approve of it.</topos></document>\n",
    "```"
   ]
  }
 ],
 "metadata": {
  "kernelspec": {
   "display_name": "Python 3",
   "language": "python",
   "name": "python3"
  },
  "language_info": {
   "codemirror_mode": {
    "name": "ipython",
    "version": 3
   },
   "file_extension": ".py",
   "mimetype": "text/x-python",
   "name": "python",
   "nbconvert_exporter": "python",
   "pygments_lexer": "ipython3",
   "version": "3.6.6"
  }
 },
 "nbformat": 4,
 "nbformat_minor": 4
}

{
 "cells": [
  {
   "cell_type": "markdown",
   "metadata": {},
   "source": [
    "# Using the Chronotopic Cartographies Toolset\n",
    "\n",
    "The Chronotopic Cartographies spatial schema identifies three principal units of the literary text: *topoi*, or spatial frames; *toporefs*, or linguistic spatial references within a spatial frame; and *connections*, which are described or implied spatial connections between topoi.\n",
    "\n",
    "This notebook gives comprehensive instructions, with worked examples and excercises, on how to use these components to mark up a text using the schema. By the end of it, you will have marked up a text extract using the schema and produced a visualisation of it.\n",
    "\n",
    "### Prerequistes\n",
    "\n",
    "Whilst this notebook talks you through the full process for marking up a text, some experience of using XML is recommended. A good primer can be found here: https://www.ibm.com/developerworks/library/x-newxml/index.html. Wikipedia's [entry on markup languages](https://en.wikipedia.org/wiki/Markup_language) is also useful for an overview of what a markup language is and why they're useful for humanities scholarship.\n",
    "\n",
    "Whilst we won't be diving deep into Python, we will be using some simple commands to check our work and to make simple visualisations as we go along. If you don't have any familiarity with programming with Python, the sections on *functions*, *variables* and *types* on [this web page](https://automatetheboringstuff.com/2e/chapter1/) are worth a scan, but it's not essential.\n",
    "\n",
    "Conceptually, some familiarity with Mikhail Bakhtin's essay 'Forms of Time and the Chronotope in the Novel' in _The Dialogic Imagination_ and with [graph theory](https://en.wikipedia.org/wiki/Seven_Bridges_of_K%C3%B6nigsberg) would be useful.\n",
    "\n",
    "\n",
    "---\n",
    "## Topoi\n",
    "\n",
    "### Markup\n",
    "\n",
    "```xml\n",
    "<topos type=\"xx\" framename=\"yy\"> </topos>\n",
    "```\n",
    "\n",
    "### Definition\n",
    "A topos defines a spatial frame in both terms of narrative and chronotope: i.e., it indicates a place in which a section of narrative is set, and characterises that setting in terms of Bakhtin's terminology. In order to keep track of settings, they are given a unique name (the 'framename' attribute), ideally derived from the text. However, as long as the name is consistent across settings (ie., a setting within the text is always referred to in the ‘frame’ attribute with the same name) it is in effect arbitrary. If a chapter break occurs with the successor set in the same frame, a new identically-named frame will need to be opened, but no connection tag is needed.\n",
    "\n",
    "For example, in Coleridge's *Rime of the Ancyent Marinere*, the text moves between multiple identifiable settings: the Wedding at which the Mariner encounters the Guest; the Harbour from which the Mariner's ship departs; the Southern Ocean where the Mariner shoots the Albatross. Identifying these spaces and naming them allows us to track how much of the narrative is dedicated to each, their relative significance, and how they are connected with one another.\n",
    "\n",
    "Each topos is given a 'type' attribute, derived from Bakhtin's chronotope essay. Use the table of chronotopes below and choose which you think is most appropriate. Note that there is a  degree of subjectivity in both identifying the bounds of the topoi and their chronotopes! In the example below, the Wedding is coded ‘encounter’, as this best describes the nature of how the Guest meets the Mariner, whilst the Harbour is coded a ‘threshold’ as it marks the point at which the Mariner leaves the safety of his home port and begins his journey.\n",
    "\n",
    "#### Attributes\n",
    "\n",
    "**```framename:```** The name of the topos. This is arbitrary and at the coder's discretion, with two caveats: each topos in the text must have a unique framename; and if the text returns to a topos more than once, the corresponding text blocks must have the same framename attribute.\n",
    "\n",
    "**```type:```** The chronotopic archetype, as defined in the table below:\n",
    "\n",
    "Chronotope       | Definition \n",
    "---|---\n",
    "encounter | Can occur anywhere (but often on the road), unexpected diversion, sudden shift, any meeting\n",
    "road | Paths, travel, journey, options, coming and going, wandering\n",
    "castle | Confined, Imprisonment, static, discomfort, dark, visible traces of the past\n",
    "idyll | Familiarity, comfort, happiness, pleasure, peace, respite, self-contained, unified, stable, homely, known\n",
    "wilderness | the wild, openness, freedom, untouched, the earth, the natural world, unity\n",
    "anti-idyll | vast, abstract, egotistically sealed-off interior worlds, mechanical, the idyll destroyed, invaded/made alien\n",
    "threshold | The hall, the corridor, the staircase, the street, docks, stations, liminal, emotionally charged, intense, sublime, excess, contrasts \n",
    "parlour | Interior, room, defined, hosting guests, where the public and private merge, where dialogues happen, site of political and commercial intrigue\n",
    "provincial town | Community, locality, rustic, petty-bourgeois, specific locales, quaint little houses and rooms of the town, sleepy streets\n",
    "public square | Dynamic, crowd, forum, metropolitan, the internal externalized (the private/intimate becomes public), theatrical (place of the clown, the rogue, the fool)\n",
    "distortion | Elsewhere, miraculous, bewitched, dreamstates, (occurring on the vertical axis - ie. depth and height)\n",
    "metanarrative | For sections of text removed from the narrative and without a definable sense of space, could be internal (e.g. commentary, where the author inserts themselves, morals, etc) or external (e.g. glosses, framing statements, authorial/editorial notes, etc) to the narrative.\n",
    "\n",
    "\n",
    "### Example: From *Rime of the Ancyent Marinere*\n",
    "\n",
    "```xml\n",
    "\n",
    "<topos type=\"encounter\" framename=\"Wedding\">\n",
    "It is an ancient Mariner,\n",
    "And he stoppeth one of three.\n",
    "'By thy long beard and glittering eye,\n",
    "Now wherefore stopp'st thou me?\n",
    "\n",
    "The Bridegroom's doors are opened wide,\n",
    "And I am next of kin;\n",
    "The guests are met, the feast is set:\n",
    "May'st hear the merry din.'\n",
    "\n",
    "He holds him with his skinny hand,\n",
    "'There was a ship,' quoth he.\n",
    "'Hold off! unhand me, grey-beard loon!'\n",
    "Eftsoons his hand dropt he.\n",
    "\n",
    "He holds him with his glittering eye—\n",
    "The Wedding-Guest stood still,\n",
    "And listens like a three years' child:\n",
    "The Mariner hath his will.\n",
    "\n",
    "The Wedding-Guest sat on a stone:\n",
    "He cannot choose but hear;\n",
    "And thus spake on that ancient man,\n",
    "The bright-eyed Mariner.</topos>\n",
    "\n",
    "<topos type=\"threshold\" framename=\"Harbour\">'The ship was cheer'd, the harbour clear'd,\n",
    "Merrily did we drop\n",
    "Below the kirk, below the hill,\n",
    "Below the lighthouse top.\n",
    "\n",
    "The Sun came up upon the left,\n",
    "Out of the sea came he!\n",
    "And he shone bright, and on the right\n",
    "Went down into the sea.\n",
    "\n",
    "Higher and higher every day,\n",
    "Till over the mast at noon——'</topos>\n",
    "\n",
    "<topos type=\"encounter\" framename=\"Wedding\">The Wedding-Guest here beat his breast,\n",
    "For he heard the loud bassoon.\n",
    "\n",
    "The bride hath paced into the hall,\n",
    "Red as a rose is she;\n",
    "Nodding their heads before her goes\n",
    "The merry minstrelsy.\n",
    "\n",
    "The Wedding-Guest he beat his breast,\n",
    "Yet he cannot choose but hear;\n",
    "And thus spake on that ancient man,\n",
    "The bright-eyed Mariner.</topos>\n",
    "```"
   ]
  },
  {
   "cell_type": "markdown",
   "metadata": {},
   "source": [
    "## Exercise\n",
    "\n",
    "These instructions are contained in a Jupyter notebook, which is a way of combining *code*, ie. instructions to the computer, written in the Python programming language, with text and images in a web browser. A notebook is broken up into 'cells' of text (such as this one), and code, such as the one below.\n",
    "\n",
    "If you click on the cell below and then click on the 'play' button in the toolbar above, you'll see this in action:"
   ]
  },
  {
   "cell_type": "code",
   "execution_count": null,
   "metadata": {},
   "outputs": [],
   "source": [
    "1 + 1"
   ]
  },
  {
   "cell_type": "markdown",
   "metadata": {},
   "source": [
    "If everything worked as it should, you should see the result of the calculation printed below the cell.\n",
    "\n",
    "This allows practical exercises to be integrated with the schema documentation, so you can try using it and make sure you understand it before you go on to use it on a text of your own.\n",
    "\n",
    "Below is a short extract from William Wordsworth's comic ballad 'The Idiot Boy', which we'll use throughout this notebook as our example text. It describes the journey of Betty Foy, the mother of Johnny (the idiot boy of the title), as she looks for her son, who has got lost when tasked with fetching a doctor from the nearest town to tend to a sick neighbour.\n",
    "\n",
    "Over the course of this notebook we'll be progressively marking up the text until all of the topoi, the connections between them, and the toporefs within each are annotated. We'll then use some Python commands to create a graph representing them, and then create some simple visualisations. Doing this practically will give you a complete overview of the process of creating a visualistion from a text, and help you to understand how the markup and the visualisations are related.\n",
    "\n",
    "### Adding topoi\n",
    "\n",
    "The first stage of the process is to add ```topoi``` tags to our extract, marking the different spatial frames of the poem.\n",
    "\n",
    "To do this, double click on this cell to enter 'edit' mode, and then copy the blank topos tag below to your clipboard (without the backticks -  \\`\\`\\`). Then after the first ```</topos>``` tag, paste it into the passage below.\n",
    "\n",
    "Give it a suitable name (from the passage, 'the bridge' would be appropriate), and a spatial type (probably 'road' again). \n",
    "\n",
    "```<topos framename=\"\" type=\"\">```\n",
    "\n",
    "Read through, and when you identify the next spatial shift (to our reading at the end of the third stanza), close the block by adding a closing ```</topos>``` tag. In our reading of the text, we identified at least five.\n",
    "\n",
    "Keep going until the whole text is enclosed topoi blocks, ie. every space of the poem is identified and marked. When you're done, scroll down to the next cell to continue.\n",
    "\n",
    "\n",
    "\n",
    "```xml\n",
    "<document>\n",
    "<topos framename=\"moonlight lane\" type=\"road\">\n",
    "So, through the moonlight lane she goes,\n",
    "And far into the moonlight dale;\n",
    "And how she ran, and how she walked, \n",
    "And all that to herself she talked, \n",
    "Would surely be a tedious tale.\n",
    "\n",
    "In high and low, above, below,\n",
    "In great and small, in round and square, \n",
    "In tree and tower was Johnny seen,\n",
    "In bush and brake, in black and green, \n",
    "’Twas Johnny, Johnny, every where.</topos>\n",
    "\n",
    "She’s past the bridge that’s in the dale,\n",
    "And now the thought torments her sore, \n",
    "Johnny perhaps his horse forsook,\n",
    "To hunt the moon that's in the brook, \n",
    "And never will be heard of more.\n",
    "\n",
    "And now she’s high upon the down,\n",
    "Alone amid a prospect wide;\n",
    "There’s neither Johnny nor his horse,\n",
    "Among the fern or in the gorse;\n",
    "There’s neither doctor nor his guide.\n",
    "\n",
    "“Oh saints! what is become of him?\n",
    "“Perhaps he's climbed into an oak,\n",
    "“Where he will stay till he is dead;\n",
    "“Or sadly he has been misled,\n",
    "“And joined the wandering gypsey-folk.\n",
    "\n",
    "“Or him that wicked pony’s carried \n",
    "“To the dark cave, the goblins’ hall,\n",
    "“Or in the castle he’s pursuing,\n",
    "\"Among the ghosts, his own undoing;\n",
    "\"Or playing with the waterfall.\"\n",
    "\n",
    "At poor old Susan then she railed, \n",
    "While to the town she posts away;\n",
    "“If Susan had not been so ill,\n",
    "“Alas! I should have had him still, \n",
    "\"My Johnny, till my dying day.\"\n",
    "\n",
    "Poor Betty! in this sad distemper,\n",
    "The doctor’s self would hardly spare, \n",
    "Unworthy things she talked and wild, \n",
    "Even he, of cattle the most mild,\n",
    "The pony had his share.\n",
    "\n",
    "And now she’s got into the town,\n",
    "And to the doctor’s door she hies;\n",
    "’Tis silence all on every side;\n",
    "The town so long, the town so wide,\n",
    "Is silent as the skies.\n",
    "\n",
    "And now she’s at the doctor's door,\n",
    "She lifts the knocker, rap, rap, rap,\n",
    "The doctor at the casement shews,\n",
    "His glimmering eyes that peep and doze; \n",
    "And one hand rubs his old night-cap.\n",
    "</document>\n",
    "```"
   ]
  },
  {
   "cell_type": "markdown",
   "metadata": {},
   "source": [
    "### Validating your markup\n",
    "\n",
    "The next stage of the process is to test that your markup is correct and can be read by the computer to create the graphs and subsequent visualisations. To do this, your XML needs to be firstly 'well-formed' - that is, it does not contain any typos or errors which mean that it can't be read by the computer; and secondly that there aren't any errors in the way you've used the Chronotopic Cartographies schema.\n",
    "\n",
    "To do this, we're going to use some simple Python commands. You don't need to understand how these work, but you do need to be able to understand the messages that they produce, as they'll help you fix errors in your markup.\n",
    "\n",
    "Run the next cell for an example of how the process works:"
   ]
  },
  {
   "cell_type": "code",
   "execution_count": 3,
   "metadata": {},
   "outputs": [
    {
     "name": "stdout",
     "output_type": "stream",
     "text": [
      "XML is NOT well-formed! <unknown>:9:2: mismatched tag\n"
     ]
    }
   ],
   "source": [
    "faulty_xml = \"\"\"\n",
    "<document>\n",
    "<topos framename=\"moonlight lane\" type=\"\">\n",
    "So, through the moonlight lane she goes,\n",
    "And far into the moonlight dale;\n",
    "And how she ran, and how she walked, \n",
    "And all that to herself she talked, \n",
    "Would surely be a tedious tale.\n",
    "</document>\n",
    "\"\"\"\n",
    "\n",
    "from io import StringIO\n",
    "from parsefile import check_xml_is_well_formed\n",
    "\n",
    "check_xml_is_well_formed(StringIO(faulty_xml))"
   ]
  },
  {
   "cell_type": "markdown",
   "metadata": {},
   "source": [
    "What's going on here? \n",
    "\n",
    "At the top of the cell is a *variable* which contains a short section of XML, taken from 'The Idiot Boy'. Underneath are some statements which import some Python functions into this library (you don't need to worry about what this means, but if you'd like to find out more you can read about it [here](https://stackabuse.com/creating-and-importing-modules-in-python/)). The last line then runs a *function* called ```check_xml_is_well_formed()```, which tests whether the XML is readable by the computer.\n",
    "\n",
    "If everything worked as it should, when you ran the cell it will have displayed an error letting you know that the XML contained in the faulty_xml variable is not *well-formed*. This means that there's an error somewhere in the XML which will prevent the computer from understanding it.\n",
    "\n",
    "Happily, the error message tells you where the function detected the issue, and what you need to do to fix it. The numbers after ```<unknown>``` give you the *line* and *column* in the text where the issue is - in this case line 9, column 2. (**tip:** to see line numbers in this notebook, click on 'View' in the menu bar and then select 'Show Line Numbers'.) The message after the numbers tells you the problem - in this case, a mismatched tag.\n",
    "\n",
    "This error means that there's a tag that hasn't been closed. If you look at the faulty_xml variable and count nine lines down and two characters in (ie. line 9, column 2), this is the place that the function detected the missing tag. It was expecting to find another closing tag before ```</document>```. \n",
    "\n",
    "To fix the error, add a closing ```</topos>``` tag at the end of line eight, and then re-run the cell. The error should now be fixed.\n",
    "\n",
    "**It's very important to make sure your XML is well formed, and it's worth checking frequently as you mark up a text as it can be very long-winded to fix things in a lengthy novel! As well as the ```check_xml_is_well_formed()``` function in this notebook, you can also use the tool at [CodeBeautify](https://codebeautify.org/xmlvalidator).**"
   ]
  },
  {
   "cell_type": "markdown",
   "metadata": {},
   "source": [
    "We now have *well formed* XML in our faulty_xml variable (though strictly speaking we should probably change its name now). However, there is still an issue that will prevent us from creating our finished visualisation. To check this, we're going to use another function -- ```CCXMLValidator()``` to check whether the XML conforms to the Chronotopic Cartographies schema.\n",
    "\n",
    "To do this, run the cell below."
   ]
  },
  {
   "cell_type": "code",
   "execution_count": 4,
   "metadata": {},
   "outputs": [
    {
     "ename": "XMLSyntaxError",
     "evalue": "Opening and ending tag mismatch: topos line 3 and document, line 9, column 12 (<string>, line 9)",
     "output_type": "error",
     "traceback": [
      "Traceback \u001b[0;36m(most recent call last)\u001b[0m:\n",
      "  File \u001b[1;32m\"/Users/duncan/venv/jupyter/lib/python3.6/site-packages/IPython/core/interactiveshell.py\"\u001b[0m, line \u001b[1;32m3319\u001b[0m, in \u001b[1;35mrun_code\u001b[0m\n    exec(code_obj, self.user_global_ns, self.user_ns)\n",
      "  File \u001b[1;32m\"<ipython-input-4-9b88dadb0354>\"\u001b[0m, line \u001b[1;32m2\u001b[0m, in \u001b[1;35m<module>\u001b[0m\n    validator = CCXMLValidator(file=StringIO(faulty_xml))\n",
      "  File \u001b[1;32m\"/Users/duncan/Code/chronotopic_cartographies_visualisations/visualisation-generators/notebooks/graph_generators.py\"\u001b[0m, line \u001b[1;32m100\u001b[0m, in \u001b[1;35m__init__\u001b[0m\n    tree = etree.parse(file)\n",
      "  File \u001b[1;32m\"src/lxml/etree.pyx\"\u001b[0m, line \u001b[1;32m3469\u001b[0m, in \u001b[1;35mlxml.etree.parse\u001b[0m\n",
      "  File \u001b[1;32m\"src/lxml/parser.pxi\"\u001b[0m, line \u001b[1;32m1856\u001b[0m, in \u001b[1;35mlxml.etree._parseDocument\u001b[0m\n",
      "  File \u001b[1;32m\"src/lxml/parser.pxi\"\u001b[0m, line \u001b[1;32m1876\u001b[0m, in \u001b[1;35mlxml.etree._parseMemoryDocument\u001b[0m\n",
      "  File \u001b[1;32m\"src/lxml/parser.pxi\"\u001b[0m, line \u001b[1;32m1757\u001b[0m, in \u001b[1;35mlxml.etree._parseDoc\u001b[0m\n",
      "  File \u001b[1;32m\"src/lxml/parser.pxi\"\u001b[0m, line \u001b[1;32m1068\u001b[0m, in \u001b[1;35mlxml.etree._BaseParser._parseUnicodeDoc\u001b[0m\n",
      "  File \u001b[1;32m\"src/lxml/parser.pxi\"\u001b[0m, line \u001b[1;32m601\u001b[0m, in \u001b[1;35mlxml.etree._ParserContext._handleParseResultDoc\u001b[0m\n",
      "  File \u001b[1;32m\"src/lxml/parser.pxi\"\u001b[0m, line \u001b[1;32m711\u001b[0m, in \u001b[1;35mlxml.etree._handleParseResult\u001b[0m\n",
      "\u001b[0;36m  File \u001b[0;32m\"src/lxml/parser.pxi\"\u001b[0;36m, line \u001b[0;32m640\u001b[0;36m, in \u001b[0;35mlxml.etree._raiseParseError\u001b[0;36m\u001b[0m\n",
      "\u001b[0;36m  File \u001b[0;32m\"<string>\"\u001b[0;36m, line \u001b[0;32m9\u001b[0m\n\u001b[0;31mXMLSyntaxError\u001b[0m\u001b[0;31m:\u001b[0m Opening and ending tag mismatch: topos line 3 and document, line 9, column 12\n"
     ]
    }
   ],
   "source": [
    "from graph_generators import CCXMLValidator\n",
    "validator = CCXMLValidator(file=StringIO(faulty_xml))\n",
    "validator.check_xml()"
   ]
  },
  {
   "cell_type": "markdown",
   "metadata": {},
   "source": [
    "If everything worked as it should, the ```check_xml()``` function will have picked up a problem with the XML. Despite the fact that it's _well-formed_, you won't be able to make a visualisation from it becuase one of the nodes doesn't have a type attribute.\n",
    "\n",
    "To fix this, go back to the ```faulty_xml``` variable and edit it to add the type attribte to the 'moonlight lane' node, then run the two cells again. If you've fixed the problem, the message from ```check_xml()``` will tell you that there are no errors or typos."
   ]
  },
  {
   "cell_type": "markdown",
   "metadata": {},
   "source": [
    "#### Validating the excerpt from 'The Idiot Boy'\n",
    "\n",
    "With these two functions, ```check_xml_is_well_formed()``` and ```check_xml()```, you have everything you need to ensure that you'll be able to create visualisations from your own marked-up texts. To try this, copy your version of the exerpt from 'The Idiot Boy' into the ```idiot_boy``` variable below (between the ```\"\"\"``` marks) and run the next three cells. If you get an errors, go back and correct your markup and copy it into the ```idiot_boy``` variable, and run the cells again until you've cleared up any problems. (Alternatively, you can edit the XML in the cell below, but you won't get [syntax highlighting](https://en.wikipedia.org/wiki/Syntax_highlighting) to help you see what's going on in your markup)."
   ]
  },
  {
   "cell_type": "code",
   "execution_count": null,
   "metadata": {},
   "outputs": [],
   "source": [
    "idiot_boy = \"\"\"\n",
    "# Paste your excerpt here!\n",
    "\"\"\""
   ]
  },
  {
   "cell_type": "code",
   "execution_count": null,
   "metadata": {},
   "outputs": [],
   "source": [
    "check_xml_is_well_formed(StringIO(idiot_boy))"
   ]
  },
  {
   "cell_type": "code",
   "execution_count": null,
   "metadata": {},
   "outputs": [],
   "source": [
    "validator = CCXMLValidator(file=StringIO(idiot_boy))\n",
    "validator.check_xml()"
   ]
  },
  {
   "cell_type": "markdown",
   "metadata": {},
   "source": [
    "---\n",
    "## Connections\n",
    "\n",
    "### Markup\n",
    "\n",
    "```xml\n",
    "<connection source=\"xx\" target=\"yy\" relation=\"zz\"> </connection>\n",
    "```\n",
    "\n",
    "### Definition\n",
    "\n",
    "Connections indicate how one topos is connected to another. This tag should be included whenever an explicit connection is made between two frames, or a toporef (named space) is associated with a frame. For example, in Rime, the Mariner’s ship is described as travelling south to the Southern Ocean, rounding Cape Horn, and then sailing northwards again into the Pacific. These physical--or *direct*--connections are indicated in the poem by (for example), the points in which the ship is described as moving from one to another.\n",
    "\n",
    "\n",
    "#### Attributes\n",
    "\n",
    "**```source:```** The framename of the source topos\n",
    "\n",
    "**```target:```** The framename of the target topos\n",
    "\n",
    "**```relation:```** The spatial relationship between the two frames, as defined in the table below:\n",
    "\n",
    "Relation | Description\n",
    "---|---\n",
    "direct | When two topoi are implied to be physically connected with one another; ie characters move from one to another (for example, two rooms within a single building)\n",
    "indirect | Two topoi not immediately reachable from one another, eg. points viewed from afar, etc.\n",
    "projection | When the narrative movement is conducted through imagination, memory, dreams.\n",
    "interrupt | When the narrative movement reverts to a previous state\n",
    "jump | When the narrative movement is disconnected, typically broken by interrupts, and usually a sign of a significant shift that has bypassed several frames.\n",
    "intratextual | Where the narrative refers externally or draws attention to its own textuality (for metanarrative frames only).\n",
    "paratextual | Where the narrative contains a sub-narrative that is linked but could be separated from it (for metanarrative frames only).\n",
    "metatextual | Where the narrative refers externally to another pre-existing work.\n",
    "\n",
    "Place the tag at the point in which a text indicates that a connection or shift has been made: this can include white space or other non-text markers if such a shift is sudden and otherwise unexplained, e.g. when a chapter break occurs. In the example below, the text indicates a physical movement from one space to another. \n",
    "\n",
    "### Example: A Direct Connection (from *Rime of the Ancyent Marinere*)\n",
    "\n",
    "```xml\n",
    "<topos framename=\"Southern Ocean\" type=\"wilderness\">\n",
    "It ate the food it ne'er had eat,\n",
    "And round and round it flew.\n",
    "The ice did split with a thunder-fit;</topos>\n",
    "<connection source=\"Southern Ocean\" target=\"Northwards\" relation=\"direct\">The helmsman steer'd us through!\n",
    "\n",
    "And a good south wind sprung up behind;</connection>\n",
    "<topos framename=\"Northwards\" type=\"wilderness\">\n",
    "The Albatross did follow,\n",
    "And every day, for food or play,\n",
    "Came to the mariners' hollo!\n",
    "\n",
    "In mist or cloud, on mast or shroud,\n",
    "It perch'd for vespers nine;\n",
    "Whiles all the night, through fog-smoke white,\n",
    "Glimmer'd the white moonshine.'\n",
    "```"
   ]
  },
  {
   "cell_type": "markdown",
   "metadata": {},
   "source": [
    "## Exercise\n",
    "\n",
    "Double click on this cell to make it editable, and copy your marked-up excerpt from the idiot boy between the backticks (\\`\\`\\`). This will make the text easier to edit as the markup will be hightlighted. Go through the text and add connection tags between each topos block, making sure you give each one a source, a target and a relation attribute. (In our reading, all of the connections between the topoi are 'direct').\n",
    "\n",
    "When you've finished, copy the text into the ```idiot_boy``` variable below and run all three cells to validate your markup."
   ]
  },
  {
   "cell_type": "code",
   "execution_count": null,
   "metadata": {},
   "outputs": [],
   "source": [
    "idiot_boy = \"\"\"\n",
    "# Paste your excerpt here!\n",
    "\"\"\""
   ]
  },
  {
   "cell_type": "code",
   "execution_count": null,
   "metadata": {},
   "outputs": [],
   "source": [
    "check_xml_is_well_formed(StringIO(idiot_boy))"
   ]
  },
  {
   "cell_type": "code",
   "execution_count": null,
   "metadata": {},
   "outputs": [],
   "source": [
    "validator = CCXMLValidator(file=StringIO(idiot_boy))\n",
    "validator.check_xml()"
   ]
  },
  {
   "cell_type": "markdown",
   "metadata": {},
   "source": [
    "---\n",
    "# Your first visualisation\n",
    "\n",
    "Once you've validated your markup - ie. your XML is both well formed and there are no errors in your topoi or connections, you're now in a position to create one of our visualisation types: a topoi map. This is also a good way of checking to see if you're happy that your visualisation reflects your reading of the text.\n",
    "\n",
    "*Note: The Chronotopic Cartographies methodology is in this sense iterative and processual: whilst the finished visualisations are meaningful in themselves, the proess of making them reveals things about the spatiality of the text that may not initially have been evident.*\n",
    "\n",
    "The next cell uses a series of Python functions to create a graph from your marked-up text and then displays it in the notebook."
   ]
  },
  {
   "cell_type": "code",
   "execution_count": null,
   "metadata": {},
   "outputs": [],
   "source": [
    "from graph_generators import TopoiGraphGenerator\n",
    "generator = TopoiGraphGenerator(file=StringIO(idiot_boy), output_root=\"idiot_boy\")\n",
    "generator.generate()\n",
    "generator.write_svg(algorithm='kamada', size=0.5, scale_correction=550)\n",
    "from IPython.display import display_svg, SVG\n",
    "display_svg(SVG('files/svg/idiot_boy-topoi.svg'))"
   ]
  },
  {
   "cell_type": "markdown",
   "metadata": {},
   "source": [
    "---\n",
    "## Toporefs\n",
    "\n",
    "### Markup\n",
    "\n",
    "```xml\n",
    "<toporef role=\"xx\" relation=\"yy\" source=\"**optional**\"></toporef>\n",
    "```\n",
    "\n",
    "### Definition\n",
    "\n",
    "Toporefs indicate the named or otherwise defined places that form a ‘frame’ in the text and their role within it: ie., whether they refer to places within a given topos; another topos outside of the current one; or are being used figuratively. They also indicate how names are connected to topoi frame.  \n",
    "\n",
    "#### Attributes\n",
    "\n",
    "**```role:```** The semantic role of the toporef in context, as defined in the table below:\n",
    "\n",
    "Role       | Definition \n",
    "---|---\n",
    "active | An active toporef is a place part of the current topos or spatial frame, though not strictly speaking a separate setting.\n",
    "passive | A passive toporef is one which names a place which is not part of the current topos, but which does constitute a setting in the text.\n",
    "metaphor | Coding a toporef as metaphorical indicates that it is being used figuratively: the place name is not a setting within the text, but is being used for other rhetorical purposes. \n",
    "alt | If a place has been referred to by multiple names, use the ‘alt’ value for the role attribute.\n",
    "act | An ‘act’ toporef indicates an act of initial naming.\n",
    "\n",
    "**```relation:```** The manner in which the toporefs relates to its containing topoi, as per the 'connection' relations defined above, though not all values make sense for use with toporefs. Possible values therefore include ```direct```, ```indirect```, ```projection``` and ```jump```.\n",
    "\n",
    "**```source:```** *Optional: for use with alt and act toporef roles*. In order to associate one toporef with another when they either named or referred to by other names, the source attribute is used to identify the cardinal (or source) toporef. For example:\n",
    "\n",
    "```xml\n",
    "Jim thought back to <toporef role=\"alt\" relation=\"projection\" source=\"The Admiral Benbow Inn\">the tavern</toporef> with a wistful sigh.\n",
    "```\n",
    "\n",
    "Here, the ```source``` attribute connects the toporef 'the tavern' to another, 'The Admiral Benbow Inn', with the ```role``` 'alt' identifying it as an alternative name for that toporef.\n",
    "\n",
    "### Examples\n",
    "\n",
    "#### 1: Active\n",
    "\n",
    "```xml\n",
    "This Hermit good lives in <toporef role=\"active\" relation=\"direct\">that wood</toporef> \n",
    "Which slopes down to the sea\n",
    "```\n",
    "\n",
    "#### 1: Passive\n",
    "\n",
    "```xml\n",
    "So I must have lain for hours, continually beaten to and fro upon the billows, now and again wetted with flying sprays, and never ceasing to expect death at the next plunge. Gradually weariness grew upon me; a numbness, an occasional stupor, fell upon my mind even in the midst of my terrors, until sleep at last supervened and in my sea-tossed coracle I lay and dreamed of home and the old <toporef role=\"passive\" relation=\"projection\">Admiral Benbow</toporef>. \n",
    "```\n",
    "\n",
    "#### Metaphor\n",
    "\n",
    "```xml\n",
    "And pat he comes like the catastrophe of the old\n",
    "comedy: my cue is villanous melancholy, with a\n",
    "sigh like Tom o' <toporef role=\"metaphor\">Bedlam</toporef>. O, these eclipses do\n",
    "portend these divisions! fa, sol, la, mi.\n",
    "```\n",
    "\n",
    "In this example, there is no implied connection between Bedlam and the other places named in *King Lear* (the source text), so the ‘type’ attribute is omitted.\n",
    "\n"
   ]
  },
  {
   "cell_type": "markdown",
   "metadata": {},
   "source": [
    "---\n",
    "## Excercise: Adding Toporefs\n",
    "\n",
    "The final stage of the markup process is to add the toporefs. As with adding the connections above, copy your marked up extract into this cell between the backticks. Add topographic references as you see fit.\n",
    "\n",
    "When you're happy with your markup, copy it into the ```idiot_boy``` variable below and run the cells to validate it and produce a visualisation.\n",
    "\n",
    "```xml\n",
    "\n",
    "```"
   ]
  },
  {
   "cell_type": "code",
   "execution_count": 6,
   "metadata": {},
   "outputs": [],
   "source": [
    "idiot_boy = \"\"\"\n",
    "# Paste your XML here\n",
    "\"\"\""
   ]
  },
  {
   "cell_type": "code",
   "execution_count": 7,
   "metadata": {},
   "outputs": [
    {
     "name": "stdout",
     "output_type": "stream",
     "text": [
      "XML is well-formed\n"
     ]
    }
   ],
   "source": [
    "check_xml_is_well_formed(StringIO(idiot_boy))"
   ]
  },
  {
   "cell_type": "code",
   "execution_count": 8,
   "metadata": {},
   "outputs": [
    {
     "name": "stdout",
     "output_type": "stream",
     "text": [
      "Errors:\n",
      "No errors found!\n",
      "Attribute typos:\n",
      "No attribute typos found!\n",
      "Source and Target mis-matches:\n",
      "No mismatches found!\n",
      "\n"
     ]
    }
   ],
   "source": [
    "validator = CCXMLValidator(file=StringIO(idiot_boy))\n",
    "validator.check_xml()"
   ]
  },
  {
   "cell_type": "code",
   "execution_count": 9,
   "metadata": {},
   "outputs": [],
   "source": [
    "from graph_generators import CompleteGraphGenerator"
   ]
  },
  {
   "cell_type": "code",
   "execution_count": 10,
   "metadata": {},
   "outputs": [],
   "source": [
    "generator = CompleteGraphGenerator(file=StringIO(idiot_boy), output_root=\"idiot_boy\")\n",
    "generator.generate()"
   ]
  },
  {
   "cell_type": "code",
   "execution_count": 11,
   "metadata": {},
   "outputs": [
    {
     "data": {
      "text/plain": [
       "'files/svg/idiot_boy-complete.svg'"
      ]
     },
     "execution_count": 11,
     "metadata": {},
     "output_type": "execute_result"
    }
   ],
   "source": [
    "generator.write_svg(algorithm='kamada', size=0.5, scale_correction=550)"
   ]
  },
  {
   "cell_type": "code",
   "execution_count": 12,
   "metadata": {},
   "outputs": [
    {
     "data": {
      "image/svg+xml": [
       "<svg baseProfile=\"full\" height=\"1000.0\" version=\"1.1\" width=\"1000.0\" xmlns=\"http://www.w3.org/2000/svg\" xmlns:ev=\"http://www.w3.org/2001/xml-events\" xmlns:xlink=\"http://www.w3.org/1999/xlink\"><defs/><rect fill=\"#525252\" height=\"1000.0\" width=\"1000.0\" x=\"0\" y=\"0\"/><g><path d=\"M209.09675809258124,195.93479055026216 Q281.31797456118113, 236.56465419749205 272.14033199715766,318.94377192085835\" fill=\"none\" stroke=\"#c686e9\" stroke-width=\"3\"/><path d=\"M209.09675809258124,195.93479055026216 Q281.31797456118113, 236.56465419749205 272.14033199715766,318.94377192085835\" fill=\"none\" stroke=\"#525252\" stroke-width=\"1\"/><polygon fill=\"#c686e9\" points=\"272.78570825303154,301.4701595423767 271.12787061516013,297.4699627514104 275.4210614752096,298.03433163714686\"/><path d=\"M209.09675809258124,195.93479055026216 Q283.9499053069008, 173.89287923368573 333.41955580198714,234.27155035018973\" fill=\"none\" stroke=\"#c686e9\" stroke-width=\"3\"/><path d=\"M209.09675809258124,195.93479055026216 Q283.9499053069008, 173.89287923368573 333.41955580198714,234.27155035018973\" fill=\"none\" stroke=\"#525252\" stroke-width=\"1\"/><polygon fill=\"#c686e9\" points=\"321.306983428673,221.6550915592133 317.2912927322056,220.03514457541874 320.7020533211894,217.36742791043443\"/><path d=\"M209.09675809258124,195.93479055026216 Q283.40550320798246, 172.1961791821134 334.2932750640074,231.29335155640683\" fill=\"none\" stroke=\"#c686e9\" stroke-width=\"3\"/><path d=\"M209.09675809258124,195.93479055026216 Q283.40550320798246, 172.1961791821134 334.2932750640074,231.29335155640683\" fill=\"none\" stroke=\"#525252\" stroke-width=\"1\"/><polygon fill=\"#c686e9\" points=\"321.8645988428486,218.96835960149582 317.81056513587316,217.44690940424744 321.1551965107708,214.6967383248325\"/><path d=\"M209.09675809258124,195.93479055026216 Q282.4582240576001, 169.56048627269993 335.4918485262618,226.70741746019348\" fill=\"none\" stroke=\"#c686e9\" stroke-width=\"3\"/><path d=\"M209.09675809258124,195.93479055026216 Q282.4582240576001, 169.56048627269993 335.4918485262618,226.70741746019348\" fill=\"none\" stroke=\"#525252\" stroke-width=\"1\"/><polygon fill=\"#c686e9\" points=\"322.6237174384467,214.86018706305404 318.5158672597473,213.4906736789065 321.7558257305916,210.61792776128613\"/><path d=\"M272.14033199715766,318.94377192085835 Q343.9991482453122, 372.17494278221426 323.2107758102205,459.1578633027477\" fill=\"none\" stroke=\"#c686e9\" stroke-width=\"3\"/><path d=\"M272.14033199715766,318.94377192085835 Q343.9991482453122, 372.17494278221426 323.2107758102205,459.1578633027477\" fill=\"none\" stroke=\"#525252\" stroke-width=\"1\"/><polygon fill=\"#c686e9\" points=\"326.11148928499284,441.90740018185505 324.94610124873105,437.73704399503623 329.14042966747667,438.8129664437765\"/><path d=\"M272.14033199715766,318.94377192085835 Q227.9467768680456, 383.2321981642144 269.83773698891025,449.0184620083438\" fill=\"none\" stroke=\"#c686e9\" stroke-width=\"3\"/><path d=\"M272.14033199715766,318.94377192085835 Q227.9467768680456, 383.2321981642144 269.83773698891025,449.0184620083438\" fill=\"none\" stroke=\"#525252\" stroke-width=\"1\"/><polygon fill=\"#c686e9\" points=\"261.6264851555944,433.56184915837093 257.74158501932106,431.6493766929002 261.34028482659363,429.24119071645725\"/><path d=\"M323.2107758102205,459.1578633027477 Q429.7598419988473, 437.13472457644997 491.5994153584385,526.6126200818745\" fill=\"none\" stroke=\"#c686e9\" stroke-width=\"3\"/><path d=\"M323.2107758102205,459.1578633027477 Q429.7598419988473, 437.13472457644997 491.5994153584385,526.6126200818745\" fill=\"none\" stroke=\"#525252\" stroke-width=\"1\"/><polygon fill=\"#c686e9\" points=\"480.8967558081401,512.7896238030849 477.0030206077857,510.8952040529975 480.59050383696956,508.4703403289246\"/><path d=\"M323.2107758102205,459.1578633027477 Q215.51984376106677, 453.38295629280816 167.9795445073417,550.196578354755\" fill=\"none\" stroke=\"#5fc613\" stroke-dasharray=\"2,8\" stroke-width=\"2\"/><polygon fill=\"#5fc613\" points=\"176.5319236242372,534.9351701833511 176.19604410463828,530.6180895785542 180.10268533837697,532.4857496843691\"/><path d=\"M323.2107758102205,459.1578633027477 Q400.394100041547, 447.83482651587104 441.08173545896915,514.3963707644526\" fill=\"none\" stroke=\"#c686e9\" stroke-width=\"3\"/><path d=\"M323.2107758102205,459.1578633027477 Q400.394100041547, 447.83482651587104 441.08173545896915,514.3963707644526\" fill=\"none\" stroke=\"#525252\" stroke-width=\"1\"/><polygon fill=\"#c686e9\" points=\"430.8152579119219,500.233314194529 427.06004275161837,498.07730883743295 430.80480574171065,495.90319979048166\"/><path d=\"M323.2107758102205,459.1578633027477 Q400.39096476826563, 447.72673987283184 441.1762144591003,514.2446508559909\" fill=\"none\" stroke=\"#c686e9\" stroke-width=\"3\"/><path d=\"M323.2107758102205,459.1578633027477 Q400.39096476826563, 447.72673987283184 441.1762144591003,514.2446508559909\" fill=\"none\" stroke=\"#525252\" stroke-width=\"1\"/><polygon fill=\"#c686e9\" points=\"430.89107582694487,500.09590835009243 427.13291138600005,497.94504804899947 430.87469326721043,495.7658123220884\"/><path d=\"M167.9795445073417,550.196578354755 Q117.06454302765174, 623.119042952948 164.2291923546304,698.4976969320319\" fill=\"none\" stroke=\"#ff7f33\" stroke-dasharray=\"40,10\" stroke-width=\"2\"/><polygon fill=\"#ff7f33\" points=\"155.81738699652135,682.6971495123857 151.9577698259322,680.7341530028388 155.58758325603458,678.3731247389994\"/><path d=\"M164.2291923546304,698.4976969320319 Q251.91748178186927, 713.314065989943 272.6470351525526,799.7817319320898\" fill=\"none\" stroke=\"#ff7f33\" stroke-dasharray=\"40,10\" stroke-width=\"2\"/><polygon fill=\"#ff7f33\" points=\"266.7316127882683,781.2997844576514 263.81779476220805,778.0967133515087 268.0486447232857,777.1748084720068\"/><path d=\"M272.6470351525526,799.7817319320898 Q348.1803113254446, 752.9115243517738 420.9024128920597,804.0652094497378\" fill=\"none\" stroke=\"#ff7f33\" stroke-dasharray=\"40,10\" stroke-width=\"2\"/><polygon fill=\"#ff7f33\" points=\"405.59110414831025,794.8204920799078 401.2857267960304,794.358187143231 403.8387832916274,790.8607734516169\"/><path d=\"M420.9024128920597,804.0652094497378 Q507.98802479499255, 786.1924495572381 525.4368433771507,699.0006458841782\" fill=\"none\" stroke=\"#ff7f33\" stroke-dasharray=\"40,10\" stroke-width=\"2\"/><polygon fill=\"#ff7f33\" points=\"520.8396272917673,715.8703126835474 522.2952574484806,719.9484422605552 518.0356785565104,719.1699901662797\"/><path d=\"M525.4368433771507,699.0006458841782 Q451.3776651041567, 624.0369143379679 491.5994153584385,526.6126200818745\" fill=\"none\" stroke=\"#ff7f33\" stroke-dasharray=\"40,10\" stroke-width=\"2\"/><polygon fill=\"#ff7f33\" points=\"485.82895786228073,543.1134219032082 486.3521103167066,547.4118299235604 482.3680035480379,545.7156892289693\"/><path d=\"M491.5994153584385,526.6126200818745 Q580.2336060454566, 539.1849158019503 626.560517566003,462.58398957120824\" fill=\"none\" stroke=\"#c686e9\" stroke-width=\"3\"/><path d=\"M491.5994153584385,526.6126200818745 Q580.2336060454566, 539.1849158019503 626.560517566003,462.58398957120824\" fill=\"none\" stroke=\"#525252\" stroke-width=\"1\"/><polygon fill=\"#c686e9\" points=\"616.5101633162159,476.90683761498616 616.4934983828812,481.2369325654459 612.7518586216516,479.0574528345957\"/><path d=\"M626.560517566003,462.58398957120824 Q707.4179579933636, 482.7500715232473 757.6813296894356,416.2761593211453\" fill=\"none\" stroke=\"#c686e9\" stroke-width=\"3\"/><path d=\"M626.560517566003,462.58398957120824 Q707.4179579933636, 482.7500715232473 757.6813296894356,416.2761593211453\" fill=\"none\" stroke=\"#525252\" stroke-width=\"1\"/><polygon fill=\"#c686e9\" points=\"746.133647924888,429.4155372199687 745.6828300008791,433.72213253406454 742.1786180170575,431.1784151023436\"/><path d=\"M757.6813296894356,416.2761593211453 Q835.1009062951182, 438.4804709677711 885.7708076453696,375.84336960825294\" fill=\"none\" stroke=\"#c686e9\" stroke-width=\"3\"/><path d=\"M757.6813296894356,416.2761593211453 Q835.1009062951182, 438.4804709677711 885.7708076453696,375.84336960825294\" fill=\"none\" stroke=\"#525252\" stroke-width=\"1\"/><polygon fill=\"#c686e9\" points=\"873.7695411830944,388.56189124605936 873.1846771278069,392.8523380802286 869.7614732034735,390.20060753350475\"/></g><g><circle cx=\"333.41955580198714\" cy=\"234.27155035018973\" fill=\"#525252\" r=\"10.0\" stroke=\"none\"/><circle cx=\"334.2932750640074\" cy=\"231.29335155640683\" fill=\"#525252\" r=\"10.0\" stroke=\"none\"/><circle cx=\"335.4918485262618\" cy=\"226.70741746019348\" fill=\"#525252\" r=\"10.0\" stroke=\"none\"/><circle cx=\"269.83773698891025\" cy=\"449.0184620083438\" fill=\"#525252\" r=\"10.0\" stroke=\"none\"/><circle cx=\"441.08173545896915\" cy=\"514.3963707644526\" fill=\"#525252\" r=\"10.0\" stroke=\"none\"/><circle cx=\"441.1762144591003\" cy=\"514.2446508559909\" fill=\"#525252\" r=\"10.0\" stroke=\"none\"/><circle cx=\"885.7708076453696\" cy=\"375.84336960825294\" fill=\"#525252\" r=\"10.0\" stroke=\"none\"/><circle cx=\"209.09675809258124\" cy=\"195.93479055026216\" fill=\"#525252\" r=\"10.0\" stroke=\"none\"/><image height=\"20\" width=\"20\" x=\"199.09675809258124\" xlink:href=\"data:image/svg+xml;base64,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\" y=\"185.93479055026216\"/><circle cx=\"272.14033199715766\" cy=\"318.94377192085835\" fill=\"#525252\" r=\"10.0\" stroke=\"none\"/><image height=\"20\" width=\"20\" x=\"262.14033199715766\" xlink:href=\"data:image/svg+xml;base64,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\" y=\"308.94377192085835\"/><circle cx=\"323.2107758102205\" cy=\"459.1578633027477\" fill=\"#525252\" r=\"10.0\" stroke=\"none\"/><image height=\"20\" width=\"20\" x=\"313.2107758102205\" xlink:href=\"data:image/svg+xml;base64,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\" y=\"449.1578633027477\"/><circle cx=\"167.9795445073417\" cy=\"550.196578354755\" fill=\"#525252\" r=\"10.0\" stroke=\"none\"/><image height=\"20\" width=\"20\" x=\"157.9795445073417\" xlink:href=\"data:image/svg+xml;base64,PHN2ZyB4bWxucz0iaHR0cDovL3d3dy53My5vcmcvMjAwMC9zdmciIHZpZXdCb3g9IjAgMCA3OS45IDgwLjE5Ij4KICA8ZGVmcz4KICAgIDxzdHlsZT4KICAgICAgLmNscy0xIHsKICAgICAgICBmaWxsOiAjNThjOGZhOwogICAgICB9CiAgICA8L3N0eWxlPgogIDwvZGVmcz4KICA8dGl0bGU+QXNzZXQgMzk8L3RpdGxlPgogIDxnIGlkPSJMYXllcl8yIiBkYXRhLW5hbWU9IkxheWVyIDIiPgogICAgPGcgaWQ9IkxheWVyXzEtMiIgZGF0YS1uYW1lPSJMYXllciAxIj4KICAgICAgPHBhdGggY2xhc3M9ImNscy0xIiBkPSJNMSw3Ny4wOUgzNC41YTYuMTQsNi4xNCwwLDAsMCw1LjMsMy4xLDYsNiwwLDAsMCw1LjMtMy4xSDc4LjlhLjk0Ljk0LDAsMCwwLDEtMVY2Ljc5YS45NC45NCwwLDAsMC0xLTFINzUuMXYtLjdhMSwxLDAsMCwwLS42LS45QzU1LjQtNSw0My4xLDMuNTksNDAsNi4wOWEyNywyNywwLDAsMC04LjYtNC43Yy01LjUtMS44LTE0LjQtMi43LTI2LDIuOGExLjE1LDEuMTUsMCwwLDAtLjYuOXYuN0gxYS45NC45NCwwLDAsMC0xLDF2NjkuM0ExLjA4LDEuMDgsMCwwLDAsMSw3Ny4wOVpNNzMuMiw1Ljc5djYyLjZjLTE2LjktNi45LTI4LjEtMS4xLTMyLjIsMS44LDAtMTksLjEtNTcuMSwwLTYyLjJDNDMsNi4wOSw1NC4yLTMsNzMuMiw1Ljc5Wk0zOSw3Ljg5Yy4xLDQuMSwwLDQwLjksMCw2Mi4yYTI1Ljg0LDI1Ljg0LDAsMCwwLTcuNS0zLjcsMzIsMzIsMCwwLDAtOS4xLTEuMyw0MC4xLDQwLjEsMCwwLDAtMTUuNiwzLjNWNi43OWgwdi0xQzI1LjktMy4xMSwzNy4yLDYuMTksMzksNy44OVpNMiw3Ljc5SDQuOHY2Mi4xYS44OS44OSwwLDAsMCwuNS44LDEuNjQsMS42NCwwLDAsMCwxLC4xYzExLjEtNC45LDE5LjUtNC4xLDI0LjYtMi41YTIyLjcyLDIyLjcyLDAsMCwxLDguNSw0LjZoMGMuMS4xLjIuMS4zLjJzLjIsMCwuMi4xaC4yYS4zNy4zNywwLDAsMCwuMy0uMS4yMi4yMiwwLDAsMCwuMi0uMi4xLjEsMCwwLDAsLjEtLjFoMGEyMy4xOSwyMy4xOSwwLDAsMSw4LjYtNC42YzUuMS0xLjYsMTMuNS0yLjQsMjQuNSwyLjVhLjk0Ljk0LDAsMCwwLC45LS4xLDEsMSwwLDAsMCwuNS0uOHYtNjJINzh2NjcuM0g0NC42YS44Ny44NywwLDAsMC0uOS42LDQuMTYsNC4xNiwwLDAsMS0zLjgsMi41LDQuMDYsNC4wNiwwLDAsMS0zLjgtMi41LDEsMSwwLDAsMC0uOS0uNkgyWiIvPgogICAgPC9nPgogIDwvZz4KPC9zdmc+Cg==\" y=\"540.196578354755\"/><circle cx=\"164.2291923546304\" cy=\"698.4976969320319\" fill=\"#525252\" r=\"10.2\" stroke=\"none\"/><image height=\"20.4\" width=\"20.4\" x=\"154.02919235463042\" xlink:href=\"data:image/svg+xml;base64,PHN2ZyB4bWxucz0iaHR0cDovL3d3dy53My5vcmcvMjAwMC9zdmciIHZpZXdCb3g9IjAgMCA3OS45IDgwLjE5Ij4KICA8ZGVmcz4KICAgIDxzdHlsZT4KICAgICAgLmNscy0xIHsKICAgICAgICBmaWxsOiAjNThjOGZhOwogICAgICB9CiAgICA8L3N0eWxlPgogIDwvZGVmcz4KICA8dGl0bGU+QXNzZXQgMzk8L3RpdGxlPgogIDxnIGlkPSJMYXllcl8yIiBkYXRhLW5hbWU9IkxheWVyIDIiPgogICAgPGcgaWQ9IkxheWVyXzEtMiIgZGF0YS1uYW1lPSJMYXllciAxIj4KICAgICAgPHBhdGggY2xhc3M9ImNscy0xIiBkPSJNMSw3Ny4wOUgzNC41YTYuMTQsNi4xNCwwLDAsMCw1LjMsMy4xLDYsNiwwLDAsMCw1LjMtMy4xSDc4LjlhLjk0Ljk0LDAsMCwwLDEtMVY2Ljc5YS45NC45NCwwLDAsMC0xLTFINzUuMXYtLjdhMSwxLDAsMCwwLS42LS45QzU1LjQtNSw0My4xLDMuNTksNDAsNi4wOWEyNywyNywwLDAsMC04LjYtNC43Yy01LjUtMS44LTE0LjQtMi43LTI2LDIuOGExLjE1LDEuMTUsMCwwLDAtLjYuOXYuN0gxYS45NC45NCwwLDAsMC0xLDF2NjkuM0ExLjA4LDEuMDgsMCwwLDAsMSw3Ny4wOVpNNzMuMiw1Ljc5djYyLjZjLTE2LjktNi45LTI4LjEtMS4xLTMyLjIsMS44LDAtMTksLjEtNTcuMSwwLTYyLjJDNDMsNi4wOSw1NC4yLTMsNzMuMiw1Ljc5Wk0zOSw3Ljg5Yy4xLDQuMSwwLDQwLjksMCw2Mi4yYTI1Ljg0LDI1Ljg0LDAsMCwwLTcuNS0zLjcsMzIsMzIsMCwwLDAtOS4xLTEuMyw0MC4xLDQwLjEsMCwwLDAtMTUuNiwzLjNWNi43OWgwdi0xQzI1LjktMy4xMSwzNy4yLDYuMTksMzksNy44OVpNMiw3Ljc5SDQuOHY2Mi4xYS44OS44OSwwLDAsMCwuNS44LDEuNjQsMS42NCwwLDAsMCwxLC4xYzExLjEtNC45LDE5LjUtNC4xLDI0LjYtMi41YTIyLjcyLDIyLjcyLDAsMCwxLDguNSw0LjZoMGMuMS4xLjIuMS4zLjJzLjIsMCwuMi4xaC4yYS4zNy4zNywwLDAsMCwuMy0uMS4yMi4yMiwwLDAsMCwuMi0uMi4xLjEsMCwwLDAsLjEtLjFoMGEyMy4xOSwyMy4xOSwwLDAsMSw4LjYtNC42YzUuMS0xLjYsMTMuNS0yLjQsMjQuNSwyLjVhLjk0Ljk0LDAsMCwwLC45LS4xLDEsMSwwLDAsMCwuNS0uOHYtNjJINzh2NjcuM0g0NC42YS44Ny44NywwLDAsMC0uOS42LDQuMTYsNC4xNiwwLDAsMS0zLjgsMi41LDQuMDYsNC4wNiwwLDAsMS0zLjgtMi41LDEsMSwwLDAsMC0uOS0uNkgyWiIvPgogICAgPC9nPgogIDwvZz4KPC9zdmc+Cg==\" y=\"688.2976969320318\"/><circle cx=\"272.6470351525526\" cy=\"799.7817319320898\" fill=\"#525252\" r=\"10.95\" stroke=\"none\"/><image height=\"21.9\" width=\"21.9\" x=\"261.6970351525526\" xlink:href=\"data:image/svg+xml;base64,PHN2ZyB4bWxucz0iaHR0cDovL3d3dy53My5vcmcvMjAwMC9zdmciIHZpZXdCb3g9IjAgMCA3OS45IDgwLjE5Ij4KICA8ZGVmcz4KICAgIDxzdHlsZT4KICAgICAgLmNscy0xIHsKICAgICAgICBmaWxsOiAjNThjOGZhOwogICAgICB9CiAgICA8L3N0eWxlPgogIDwvZGVmcz4KICA8dGl0bGU+QXNzZXQgMzk8L3RpdGxlPgogIDxnIGlkPSJMYXllcl8yIiBkYXRhLW5hbWU9IkxheWVyIDIiPgogICAgPGcgaWQ9IkxheWVyXzEtMiIgZGF0YS1uYW1lPSJMYXllciAxIj4KICAgICAgPHBhdGggY2xhc3M9ImNscy0xIiBkPSJNMSw3Ny4wOUgzNC41YTYuMTQsNi4xNCwwLDAsMCw1LjMsMy4xLDYsNiwwLDAsMCw1LjMtMy4xSDc4LjlhLjk0Ljk0LDAsMCwwLDEtMVY2Ljc5YS45NC45NCwwLDAsMC0xLTFINzUuMXYtLjdhMSwxLDAsMCwwLS42LS45QzU1LjQtNSw0My4xLDMuNTksNDAsNi4wOWEyNywyNywwLDAsMC04LjYtNC43Yy01LjUtMS44LTE0LjQtMi43LTI2LDIuOGExLjE1LDEuMTUsMCwwLDAtLjYuOXYuN0gxYS45NC45NCwwLDAsMC0xLDF2NjkuM0ExLjA4LDEuMDgsMCwwLDAsMSw3Ny4wOVpNNzMuMiw1Ljc5djYyLjZjLTE2LjktNi45LTI4LjEtMS4xLTMyLjIsMS44LDAtMTksLjEtNTcuMSwwLTYyLjJDNDMsNi4wOSw1NC4yLTMsNzMuMiw1Ljc5Wk0zOSw3Ljg5Yy4xLDQuMSwwLDQwLjksMCw2Mi4yYTI1Ljg0LDI1Ljg0LDAsMCwwLTcuNS0zLjcsMzIsMzIsMCwwLDAtOS4xLTEuMyw0MC4xLDQwLjEsMCwwLDAtMTUuNiwzLjNWNi43OWgwdi0xQzI1LjktMy4xMSwzNy4yLDYuMTksMzksNy44OVpNMiw3Ljc5SDQuOHY2Mi4xYS44OS44OSwwLDAsMCwuNS44LDEuNjQsMS42NCwwLDAsMCwxLC4xYzExLjEtNC45LDE5LjUtNC4xLDI0LjYtMi41YTIyLjcyLDIyLjcyLDAsMCwxLDguNSw0LjZoMGMuMS4xLjIuMS4zLjJzLjIsMCwuMi4xaC4yYS4zNy4zNywwLDAsMCwuMy0uMS4yMi4yMiwwLDAsMCwuMi0uMi4xLjEsMCwwLDAsLjEtLjFoMGEyMy4xOSwyMy4xOSwwLDAsMSw4LjYtNC42YzUuMS0xLjYsMTMuNS0yLjQsMjQuNSwyLjVhLjk0Ljk0LDAsMCwwLC45LS4xLDEsMSwwLDAsMCwuNS0uOHYtNjJINzh2NjcuM0g0NC42YS44Ny44NywwLDAsMC0uOS42LDQuMTYsNC4xNiwwLDAsMS0zLjgsMi41LDQuMDYsNC4wNiwwLDAsMS0zLjgtMi41LDEsMSwwLDAsMC0uOS0uNkgyWiIvPgogICAgPC9nPgogIDwvZz4KPC9zdmc+Cg==\" y=\"788.8317319320897\"/><circle cx=\"420.9024128920597\" cy=\"804.0652094497378\" fill=\"#525252\" r=\"10.2\" stroke=\"none\"/><image height=\"20.4\" width=\"20.4\" x=\"410.7024128920597\" xlink:href=\"data:image/svg+xml;base64,PHN2ZyB4bWxucz0iaHR0cDovL3d3dy53My5vcmcvMjAwMC9zdmciIHZpZXdCb3g9IjAgMCA3OS45IDgwLjE5Ij4KICA8ZGVmcz4KICAgIDxzdHlsZT4KICAgICAgLmNscy0xIHsKICAgICAgICBmaWxsOiAjNThjOGZhOwogICAgICB9CiAgICA8L3N0eWxlPgogIDwvZGVmcz4KICA8dGl0bGU+QXNzZXQgMzk8L3RpdGxlPgogIDxnIGlkPSJMYXllcl8yIiBkYXRhLW5hbWU9IkxheWVyIDIiPgogICAgPGcgaWQ9IkxheWVyXzEtMiIgZGF0YS1uYW1lPSJMYXllciAxIj4KICAgICAgPHBhdGggY2xhc3M9ImNscy0xIiBkPSJNMSw3Ny4wOUgzNC41YTYuMTQsNi4xNCwwLDAsMCw1LjMsMy4xLDYsNiwwLDAsMCw1LjMtMy4xSDc4LjlhLjk0Ljk0LDAsMCwwLDEtMVY2Ljc5YS45NC45NCwwLDAsMC0xLTFINzUuMXYtLjdhMSwxLDAsMCwwLS42LS45QzU1LjQtNSw0My4xLDMuNTksNDAsNi4wOWEyNywyNywwLDAsMC04LjYtNC43Yy01LjUtMS44LTE0LjQtMi43LTI2LDIuOGExLjE1LDEuMTUsMCwwLDAtLjYuOXYuN0gxYS45NC45NCwwLDAsMC0xLDF2NjkuM0ExLjA4LDEuMDgsMCwwLDAsMSw3Ny4wOVpNNzMuMiw1Ljc5djYyLjZjLTE2LjktNi45LTI4LjEtMS4xLTMyLjIsMS44LDAtMTksLjEtNTcuMSwwLTYyLjJDNDMsNi4wOSw1NC4yLTMsNzMuMiw1Ljc5Wk0zOSw3Ljg5Yy4xLDQuMSwwLDQwLjksMCw2Mi4yYTI1Ljg0LDI1Ljg0LDAsMCwwLTcuNS0zLjcsMzIsMzIsMCwwLDAtOS4xLTEuMyw0MC4xLDQwLjEsMCwwLDAtMTUuNiwzLjNWNi43OWgwdi0xQzI1LjktMy4xMSwzNy4yLDYuMTksMzksNy44OVpNMiw3Ljc5SDQuOHY2Mi4xYS44OS44OSwwLDAsMCwuNS44LDEuNjQsMS42NCwwLDAsMCwxLC4xYzExLjEtNC45LDE5LjUtNC4xLDI0LjYtMi41YTIyLjcyLDIyLjcyLDAsMCwxLDguNSw0LjZoMGMuMS4xLjIuMS4zLjJzLjIsMCwuMi4xaC4yYS4zNy4zNywwLDAsMCwuMy0uMS4yMi4yMiwwLDAsMCwuMi0uMi4xLjEsMCwwLDAsLjEtLjFoMGEyMy4xOSwyMy4xOSwwLDAsMSw4LjYtNC42YzUuMS0xLjYsMTMuNS0yLjQsMjQuNSwyLjVhLjk0Ljk0LDAsMCwwLC45LS4xLDEsMSwwLDAsMCwuNS0uOHYtNjJINzh2NjcuM0g0NC42YS44Ny44NywwLDAsMC0uOS42LDQuMTYsNC4xNiwwLDAsMS0zLjgsMi41LDQuMDYsNC4wNiwwLDAsMS0zLjgtMi41LDEsMSwwLDAsMC0uOS0uNkgyWiIvPgogICAgPC9nPgogIDwvZz4KPC9zdmc+Cg==\" y=\"793.8652094497378\"/><circle cx=\"525.4368433771507\" cy=\"699.0006458841782\" fill=\"#525252\" r=\"10.0\" stroke=\"none\"/><image height=\"20\" width=\"20\" x=\"515.4368433771507\" xlink:href=\"data:image/svg+xml;base64,PHN2ZyB4bWxucz0iaHR0cDovL3d3dy53My5vcmcvMjAwMC9zdmciIHZpZXdCb3g9IjAgMCA3OS45IDgwLjE5Ij4KICA8ZGVmcz4KICAgIDxzdHlsZT4KICAgICAgLmNscy0xIHsKICAgICAgICBmaWxsOiAjNThjOGZhOwogICAgICB9CiAgICA8L3N0eWxlPgogIDwvZGVmcz4KICA8dGl0bGU+QXNzZXQgMzk8L3RpdGxlPgogIDxnIGlkPSJMYXllcl8yIiBkYXRhLW5hbWU9IkxheWVyIDIiPgogICAgPGcgaWQ9IkxheWVyXzEtMiIgZGF0YS1uYW1lPSJMYXllciAxIj4KICAgICAgPHBhdGggY2xhc3M9ImNscy0xIiBkPSJNMSw3Ny4wOUgzNC41YTYuMTQsNi4xNCwwLDAsMCw1LjMsMy4xLDYsNiwwLDAsMCw1LjMtMy4xSDc4LjlhLjk0Ljk0LDAsMCwwLDEtMVY2Ljc5YS45NC45NCwwLDAsMC0xLTFINzUuMXYtLjdhMSwxLDAsMCwwLS42LS45QzU1LjQtNSw0My4xLDMuNTksNDAsNi4wOWEyNywyNywwLDAsMC04LjYtNC43Yy01LjUtMS44LTE0LjQtMi43LTI2LDIuOGExLjE1LDEuMTUsMCwwLDAtLjYuOXYuN0gxYS45NC45NCwwLDAsMC0xLDF2NjkuM0ExLjA4LDEuMDgsMCwwLDAsMSw3Ny4wOVpNNzMuMiw1Ljc5djYyLjZjLTE2LjktNi45LTI4LjEtMS4xLTMyLjIsMS44LDAtMTksLjEtNTcuMSwwLTYyLjJDNDMsNi4wOSw1NC4yLTMsNzMuMiw1Ljc5Wk0zOSw3Ljg5Yy4xLDQuMSwwLDQwLjksMCw2Mi4yYTI1Ljg0LDI1Ljg0LDAsMCwwLTcuNS0zLjcsMzIsMzIsMCwwLDAtOS4xLTEuMyw0MC4xLDQwLjEsMCwwLDAtMTUuNiwzLjNWNi43OWgwdi0xQzI1LjktMy4xMSwzNy4yLDYuMTksMzksNy44OVpNMiw3Ljc5SDQuOHY2Mi4xYS44OS44OSwwLDAsMCwuNS44LDEuNjQsMS42NCwwLDAsMCwxLC4xYzExLjEtNC45LDE5LjUtNC4xLDI0LjYtMi41YTIyLjcyLDIyLjcyLDAsMCwxLDguNSw0LjZoMGMuMS4xLjIuMS4zLjJzLjIsMCwuMi4xaC4yYS4zNy4zNywwLDAsMCwuMy0uMS4yMi4yMiwwLDAsMCwuMi0uMi4xLjEsMCwwLDAsLjEtLjFoMGEyMy4xOSwyMy4xOSwwLDAsMSw4LjYtNC42YzUuMS0xLjYsMTMuNS0yLjQsMjQuNSwyLjVhLjk0Ljk0LDAsMCwwLC45LS4xLDEsMSwwLDAsMCwuNS0uOHYtNjJINzh2NjcuM0g0NC42YS44Ny44NywwLDAsMC0uOS42LDQuMTYsNC4xNiwwLDAsMS0zLjgsMi41LDQuMDYsNC4wNiwwLDAsMS0zLjgtMi41LDEsMSwwLDAsMC0uOS0uNkgyWiIvPgogICAgPC9nPgogIDwvZz4KPC9zdmc+Cg==\" y=\"689.0006458841782\"/><circle cx=\"491.5994153584385\" cy=\"526.6126200818745\" fill=\"#525252\" r=\"10.0\" stroke=\"none\"/><image height=\"20\" width=\"20\" x=\"481.5994153584385\" xlink:href=\"data:image/svg+xml;base64,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\" y=\"516.6126200818745\"/><circle cx=\"626.560517566003\" cy=\"462.58398957120824\" fill=\"#525252\" r=\"10.0\" stroke=\"none\"/><image height=\"20\" width=\"20\" x=\"616.560517566003\" xlink:href=\"data:image/svg+xml;base64,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\" y=\"452.58398957120824\"/><circle cx=\"757.6813296894356\" cy=\"416.2761593211453\" fill=\"#525252\" r=\"10.0\" stroke=\"none\"/><image height=\"20\" width=\"20\" x=\"747.6813296894356\" xlink:href=\"data:image/svg+xml;base64,PD94bWwgdmVyc2lvbj0iMS4wIiBlbmNvZGluZz0idXRmLTgiPz4KPCEtLSBHZW5lcmF0b3I6IEFkb2JlIElsbHVzdHJhdG9yIDIyLjAuMSwgU1ZHIEV4cG9ydCBQbHVnLUluIC4gU1ZHIFZlcnNpb246IDYuMDAgQnVpbGQgMCkgIC0tPgo8c3ZnIHZlcnNpb249IjEuMSIgaWQ9IkxheWVyXzEiIHhtbG5zPSJodHRwOi8vd3d3LnczLm9yZy8yMDAwL3N2ZyIgeG1sbnM6eGxpbms9Imh0dHA6Ly93d3cudzMub3JnLzE5OTkveGxpbmsiIHg9IjBweCIgeT0iMHB4IgoJIHdpZHRoPSI4MHB4IiBoZWlnaHQ9Ijc5LjlweCIgdmlld0JveD0iMCAwIDgwIDc5LjkiIGVuYWJsZS1iYWNrZ3JvdW5kPSJuZXcgMCAwIDgwIDc5LjkiIHhtbDpzcGFjZT0icHJlc2VydmUiPgo8dGl0bGU+QXNzZXQgNDM8L3RpdGxlPgo8ZyBpZD0iTGF5ZXJfMl8xXyI+Cgk8ZyBpZD0iTGF5ZXJfMS0yIj4KCQk8Zz4KCQkJPHBhdGggZmlsbD0iIzU4QzhGQSIgZD0iTTc5LDc3LjlINjYuNFYxYzAuMDM0My0wLjUxOC0wLjM1NzktMC45NjU3LTAuODc1OS0xQzY1LjQ4MjgtMC4wMDI3LDY1LjQ0MTMtMC4wMDI3LDY1LjQsMGgtNTEKCQkJCWMtMC41MTgtMC4wMzQzLTAuOTY1NywwLjM1NzktMSwwLjg3NTlDMTMuMzk3MywwLjkxNzIsMTMuMzk3MywwLjk1ODcsMTMuNCwxdjc2LjlIMWMtMC41NTIzLDAtMSwwLjQ0NzctMSwxczAuNDQ3NywxLDEsMWg3OAoJCQkJYzAuNTUyMywwLDEtMC40NDc3LDEtMVM3OS41NTIzLDc3LjksNzksNzcuOXogTTE1LjQsMmg0OXY3NS45aC0zLjZ2LTcxYzAuMDM0My0wLjUxOC0wLjM1NzktMC45NjU3LTAuODc1OS0xCgkJCQljLTAuMDQxMy0wLjAwMjctMC4wODI4LTAuMDAyNy0wLjEyNDEsMEgyMGMtMC41MTgtMC4wMzQzLTAuOTY1NywwLjM1NzktMSwwLjg3NTlDMTguOTk3Myw2LjgxNzIsMTguOTk3Myw2Ljg1ODcsMTksNi45djcxaC0zLjYKCQkJCVYyeiBNNTguOCw3Ny45SDIxdi03MGgzNy44Vjc3Ljl6Ii8+CgkJCTxwYXRoIGZpbGw9IiM1OEM4RkEiIGQ9Ik0yNC40LDQ5LjdjMC41MTgsMC4wMzQzLDAuOTY1Ny0wLjM1NzksMS0wLjg3NTljMC4wMDI3LTAuMDQxMywwLjAwMjctMC4wODI4LDAtMC4xMjQxdi02LjUKCQkJCWMwLTAuNTUyMy0wLjQ0NzctMS0xLTFzLTEsMC40NDc3LTEsMXY2LjVDMjMuNCw0OS4yNTIzLDIzLjg0NzcsNDkuNywyNC40LDQ5Ljd6Ii8+CgkJPC9nPgoJPC9nPgo8L2c+Cjwvc3ZnPgo=\" y=\"406.2761593211453\"/><text fill=\"#dbdbdb\" font-family=\"'Helvetica Neue', sans-serif\" font-size=\"10.0\" text-anchor=\"middle\" x=\"333.41955580198714\" y=\"238.27155035018973\">&quot;moonlight dale&quot;</text><text fill=\"#dbdbdb\" font-family=\"'Helvetica Neue', sans-serif\" font-size=\"10.0\" text-anchor=\"middle\" x=\"334.2932750640074\" y=\"235.29335155640683\">&quot;tree and tower&quot;</text><text fill=\"#dbdbdb\" font-family=\"'Helvetica Neue', sans-serif\" font-size=\"10.0\" text-anchor=\"middle\" x=\"335.4918485262618\" y=\"230.70741746019348\">&quot;bush and brake&quot;</text><text fill=\"#dbdbdb\" font-family=\"'Helvetica Neue', sans-serif\" font-size=\"10.0\" text-anchor=\"middle\" x=\"269.83773698891025\" y=\"453.0184620083438\">&quot;the moon that's in the brook&quot;</text><text fill=\"#dbdbdb\" font-family=\"'Helvetica Neue', sans-serif\" font-size=\"10.0\" text-anchor=\"middle\" x=\"441.08173545896915\" y=\"518.3963707644526\">&quot;amid a prospect wide&quot;</text><text fill=\"#dbdbdb\" font-family=\"'Helvetica Neue', sans-serif\" font-size=\"10.0\" text-anchor=\"middle\" x=\"441.1762144591003\" y=\"518.2446508559909\">&quot;Among the fern or in the gorse&quot;</text><text fill=\"#dbdbdb\" font-family=\"'Helvetica Neue', sans-serif\" font-size=\"10.0\" text-anchor=\"middle\" x=\"885.7708076453696\" y=\"379.84336960825294\">&quot;at the casement&quot;</text><text fill=\"#dbdbdb\" font-family=\"'Helvetica Neue', sans-serif\" font-size=\"10\" text-anchor=\"middle\" x=\"209.09675809258124\" y=\"197.93479055026216\">moonlight lane</text><text fill=\"#dbdbdb\" font-family=\"'Helvetica Neue', sans-serif\" font-size=\"10\" text-anchor=\"middle\" x=\"272.14033199715766\" y=\"320.94377192085835\">bridge in the dale</text><text fill=\"#dbdbdb\" font-family=\"'Helvetica Neue', sans-serif\" font-size=\"10\" text-anchor=\"middle\" x=\"323.2107758102205\" y=\"461.1578633027477\">high upon the down</text><text fill=\"#dbdbdb\" font-family=\"'Helvetica Neue', sans-serif\" font-size=\"10\" text-anchor=\"middle\" x=\"167.9795445073417\" y=\"552.196578354755\">climbed into an oak?</text><text fill=\"#dbdbdb\" font-family=\"'Helvetica Neue', sans-serif\" font-size=\"10\" text-anchor=\"middle\" x=\"164.2291923546304\" y=\"700.5376969320318\">joined the wandering gypsey-folk?</text><text fill=\"#dbdbdb\" font-family=\"'Helvetica Neue', sans-serif\" font-size=\"10\" text-anchor=\"middle\" x=\"272.6470351525526\" y=\"801.9717319320898\">to the dark cave?</text><text fill=\"#dbdbdb\" font-family=\"'Helvetica Neue', sans-serif\" font-size=\"10\" text-anchor=\"middle\" x=\"420.9024128920597\" y=\"806.1052094497378\">in the castle?</text><text fill=\"#dbdbdb\" font-family=\"'Helvetica Neue', sans-serif\" font-size=\"10\" text-anchor=\"middle\" x=\"525.4368433771507\" y=\"701.0006458841782\">the waterfall?</text><text fill=\"#dbdbdb\" font-family=\"'Helvetica Neue', sans-serif\" font-size=\"10\" text-anchor=\"middle\" x=\"491.5994153584385\" y=\"528.6126200818745\">to the town</text><text fill=\"#dbdbdb\" font-family=\"'Helvetica Neue', sans-serif\" font-size=\"10\" text-anchor=\"middle\" x=\"626.560517566003\" y=\"464.58398957120824\">the town</text><text fill=\"#dbdbdb\" font-family=\"'Helvetica Neue', sans-serif\" font-size=\"10\" text-anchor=\"middle\" x=\"757.6813296894356\" y=\"418.2761593211453\">the doctor's door</text></g></svg>"
      ]
     },
     "metadata": {},
     "output_type": "display_data"
    }
   ],
   "source": [
    "from IPython.display import display_svg, SVG\n",
    "display_svg(SVG('files/svg/idiot_boy-complete.svg'))"
   ]
  },
  {
   "cell_type": "markdown",
   "metadata": {},
   "source": [
    "---\n",
    "## Complete Examples\n",
    "\n",
    "**Note: For an XML _file_ (as opposed to the fragments we've been working with in this notebook) to validate, it *must* include an encoding tag at the beginning and be enclosed in a document tag, as shown in the examples below.**\n",
    "\n",
    "### From *Ryme of the Ancyent Marinere*\n",
    "\n",
    "The example below shows a series of topoi, the connections between them, and their associated toporefs.\n",
    "\n",
    "```xml\n",
    "<?xml version=\"1.0\" encoding=\"UTF-8\"?>\n",
    "<document>\n",
    "<topos type=\"encounter\" framename=”Wedding”>\n",
    "It is an ancient Mariner,\n",
    "And he stoppeth one of three: \n",
    "\"By thy long grey beard and thy glittering eye \n",
    "\"Now wherefore stoppest me?\n",
    "    \n",
    "\"The Bridegroom's doors are open'd wide \n",
    "\"And I am next of kin; \n",
    "\"The Guests are met, the Feast is set,— \n",
    "\"May'st hear the merry din. \n",
    "But still he holds the wedding-guest— \n",
    "There was a Ship, quoth he— \n",
    "\"Nay, if thou'st got a laughsome tale, \n",
    "\"Marinere! come with me.\"  \n",
    "    \n",
    "He holds him with his skinny hand, \n",
    "Quoth he, there was a Ship— \n",
    "\"Now get thee hence, thou grey-beard Loon! \n",
    "\"Or my Staff shall make thee skip.  \n",
    "\n",
    "He holds him with his glittering eye— \n",
    "The wedding guest stood still \n",
    "And listens like a three year's child; \n",
    "The Marinere hath his will.\n",
    "    \n",
    "The wedding-guest sate on a stone, He cannot chuse but hear: \n",
    "<connection source=\"Wedding\" target=\"Harbour\" relation=\"charshift\"> And thus spake on that ancyent man. \n",
    "The bright-eyed Marinere</connection>.</topos>\n",
    "<topos type=\"threshold” framename=\"Harbour”>The Ship was cheer'd, the Harbour clear'd— \n",
    "Merrily did we drop \n",
    "Below <toporef role=\"active\" relation=\"indirect\"> the Kirk</toporef>, \n",
    "below <toporef role=\"active\" relation=\"indirect\"> the Hill</toporef>, \n",
    "Below <toporef role=\"active\" relation=\"indirect\"> the Light-house</toporef> top.  \n",
    "    \n",
    "The Sun came up upon the left, \n",
    "Out of the Sea came he: \n",
    "And he shone bright, and on the right \n",
    "Went down into the Sea.  \n",
    "\n",
    "Higher and higher every day, \n",
    "Till over the mast at noon— </topos>\n",
    "<topos lscape=\"encounter\" framename=”Wedding”>\n",
    "<connection source=\"Harbour\" target=\"Wedding\" relation=\"interrupt\"> The wedding-guest here beat his breast, \n",
    "For he heard the loud bassoon.</connection>  \n",
    "\n",
    "The Bride hath pac'd into the Hall,\n",
    "Red as a rose is she; \n",
    "Nodding their heads before her goes \n",
    "The merry Minstralsy. \n",
    "The wedding-guest he beat his breast, \n",
    "Yet he cannot cruise but hear: \n",
    "<connection source=\"Wedding\" target=\"Southern Ocean\" relation=\"charshift\"> And thus spake on that ancyent Man, \n",
    "The bright-eyed Marinere</connection>.</topos>\n",
    "\n",
    "<topos lscape=\"road\" framename=\"Southern Ocean\">\n",
    "Listen, Stranger! Storm and Wind, \n",
    "A Wind and Tempest strong  \n",
    "<connection source=\"Harbour\" target=\"Southern Ocean\" relation=\"jump\"> For days and weeks it play'd us freaks—</connection> \n",
    "Like Chaff we drove along.  \n",
    "\n",
    "Listen, Stranger! Mist and Snow, \n",
    "And it grew wond'rous cauld: \n",
    "And Ice mast-high came floating by \n",
    "As green as Emerauld.\n",
    "</document>\n",
    "```\n",
    "\n",
    "\n",
    "## From *Northanger Abbey*\n",
    "\n",
    "The following demonstrates the use of the 'metanarrative' spatial type to indicate where the authorial voice interjects explicitly:\n",
    "\n",
    "```xml\n",
    "<?xml version=\"1.0\" encoding=\"UTF-8\"?>\n",
    "<document>\n",
    "    <topos framename=\"They shut themselves up, to read novels together\" type=\"parlour\">The progress of the friendship between Catherine and Isabella was quick as its beginning had been warm […] if a rainy morning deprived them of other enjoyments, they were still resolute in meeting in defiance of wet and dirt, and shut themselves up, to read novels together.</topos>\n",
    "    <connection source=\"They shut themselves up, to read novels together\" target=\"paraspace\"></connection> \n",
    "    <topos type=\"metanarrative\" framename=\"paraspace\">Yes, novels; for I will not adopt that ungenerous and impolitic custom so common with novel-writers, of degrading by their contemptuous censure the very performances, to the number of which they are themselves adding—joining with their greatest enemies in bestowing the harshest epithets on such works, and scarcely ever permitting them to be read by their own heroine, who, if she accidentally take up a novel, is sure to turn over its insipid pages with disgust. Alas! If the heroine of one novel be not patronized by the heroine of another, from whom can she expect protection and regard? I cannot approve of it.</topos></document>\n",
    "```"
   ]
  },
  {
   "cell_type": "code",
   "execution_count": null,
   "metadata": {},
   "outputs": [],
   "source": []
  }
 ],
 "metadata": {
  "kernelspec": {
   "display_name": "Python 3",
   "language": "python",
   "name": "python3"
  },
  "language_info": {
   "codemirror_mode": {
    "name": "ipython",
    "version": 3
   },
   "file_extension": ".py",
   "mimetype": "text/x-python",
   "name": "python",
   "nbconvert_exporter": "python",
   "pygments_lexer": "ipython3",
   "version": "3.6.6"
  }
 },
 "nbformat": 4,
 "nbformat_minor": 4
}

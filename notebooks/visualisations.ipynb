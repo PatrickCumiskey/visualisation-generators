{
 "cells": [
  {
   "cell_type": "markdown",
   "metadata": {},
   "source": [
    "# Visualisation Generation\n",
    "\n",
    "Follow the steps below to create your visualisations:\n",
    "\n",
    "1. Upload a graphml file into the 'files/graphs/' folder of this library.\n",
    "2. Edit the 'graphml_file' variable below to match the name of your file.\n",
    "3. Run all the cells. The svg will be output below and saved to the files 'files/svg/' folder in this library.\n",
    "\n",
    "## Things you can tweak\n",
    "\n",
    "- You can change the size of the output image by changing the 'size' argument (it needs to be a floating point number, so if you want your visualisation twice the size, change it to 2.0).\n",
    "- If your visualisation is too small relative to the size of the image, or overflows the boundaries, tweak the 'scale_correction' argument in increments +- 100\n",
    "- Change the 'curved' argument to True to add curved connections\n",
    "- Tweak the position of the labels up and down by adjusting 'label_correction' between 0.1 and 1.0\n",
    "- Tweak the size of the nodes relative the image using node_scale - int or float values between 0.5 and 5 tend to work okay\n",
    "- You can add a background image by uploading an .svg to the 'background_svgs' folder and editing the 'colour_style' dictionary above - more details if you scroll up!\n",
    "- By default, the graph is centred on the background - this might not look right if you have a background image. Pass a tuple of (x, y) values (eg. (120, 100)) to offset the graph relative to the backround.\n",
    "\n",
    "## Viewing and Downloading your Visualisation\n",
    "\n",
    "You can download your image from the 'files/svg/' folder. Your computer will probably try to open the file in a text editor; don't do this - open it in a web browser instead.\n",
    "\n",
    "## Errors\n",
    "\n",
    "If the script breaks, the most likely cause is your nodes are too close together - the solution is to tweak your graph layout in Gephi, and is more likely to be triggered if you have the 'curved' argument set to 'True'."
   ]
  },
  {
   "cell_type": "code",
   "execution_count": null,
   "metadata": {},
   "outputs": [],
   "source": [
    "from styles import print_style, colour_style\n",
    "from visualisation_generators import SvgGrapher\n",
    "from IPython.display import display_svg, SVG"
   ]
  },
  {
   "cell_type": "code",
   "execution_count": null,
   "metadata": {},
   "outputs": [],
   "source": [
    "graphml_file = '.graphml'\n",
    "\n",
    "svg_file = graphml_file.replace('graphml', 'svg')\n",
    "\n",
    "visualisation = SvgGrapher('files/graphs/' + graphml_file)\n",
    "\n",
    "visualisation.draw_graph('files/svg/' + svg_file, style=colour_style, size=1, scale_correction=370, curved=True, label_correction=0.8, node_scale=0.8, offset=(0,0))\n",
    "\n",
    "# Display the graph\n",
    "display_svg(SVG('files/svg/' + svg_file))"
   ]
  }
 ],
 "metadata": {
  "kernelspec": {
   "display_name": "Python 3",
   "language": "python",
   "name": "python3"
  },
  "language_info": {
   "codemirror_mode": {
    "name": "ipython",
    "version": 3
   },
   "file_extension": ".py",
   "mimetype": "text/x-python",
   "name": "python",
   "nbconvert_exporter": "python",
   "pygments_lexer": "ipython3",
   "version": "3.6.6"
  }
 },
 "nbformat": 4,
 "nbformat_minor": 4
}

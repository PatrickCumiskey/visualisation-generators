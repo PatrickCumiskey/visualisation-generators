{
 "cells": [
  {
   "cell_type": "markdown",
   "metadata": {},
   "source": [
    "# Visualisation Generation\n",
    "\n",
    "Follow the steps below to create your visualisations:\n",
    "\n",
    "1. Upload a graphml file into the 'files/graphs/' folder of this library.\n",
    "2. Edit the 'graphml_file' variable below to match the name of your file.\n",
    "3. Run all the cells. The svg will be output below and saved to the files 'files/svg/' folder in this library.\n",
    "\n",
    "## Things you can tweak\n",
    "\n",
    "- You can change the size of the output image by changing the 'size' argument (it needs to be a floating point number, so if you want your visualisation twice the size, change it to 2.0).\n",
    "- If your visualisation is too small relative to the size of the image, or overflows the boundaries, tweak the 'scale_correction' argument in increments +- 100\n",
    "- Change the 'curved' argument to True to add curved connections\n",
    "- Tweak the position of the labels up and down by adjusting 'label_correction' between 0.1 and 1.0\n",
    "- Tweak the size of the nodes relative the image using node_scale - int or float values between 0.5 and 5 tend to work okay\n",
    "- You can add a background image by uploading an .svg to the 'background_svgs' folder and editing the 'colour_style' dictionary above - more details if you scroll up!\n",
    "- By default, the graph is centred on the background - this might not look right if you have a background image. Pass a tuple of (x, y) values (eg. (120, 100)) to offset the graph relative to the backround.\n",
    "\n",
    "## Viewing and Downloading your Visualisation\n",
    "\n",
    "You can download your image from the 'files/svg/' folder. Your computer will probably try to open the file in a text editor; don't do this - open it in a web browser instead.\n",
    "\n",
    "## Errors\n",
    "\n",
    "If the script breaks, the most likely cause is your nodes are too close together - the solution is to tweak your graph layout in Gephi, and is more likely to be triggered if you have the 'curved' argument set to 'True'."
   ]
  },
  {
   "cell_type": "code",
   "execution_count": 2,
   "metadata": {},
   "outputs": [],
   "source": [
    "from styles import print_style, colour_style\n",
    "from visualisation_generators import SvgGrapher\n",
    "from IPython.display import display_svg, SVG"
   ]
  },
  {
   "cell_type": "code",
   "execution_count": 4,
   "metadata": {},
   "outputs": [
    {
     "ename": "KeyError",
     "evalue": "'id'",
     "output_type": "error",
     "traceback": [
      "\u001b[0;31m---------------------------------------------------------------------------\u001b[0m",
      "\u001b[0;31mKeyError\u001b[0m                                  Traceback (most recent call last)",
      "\u001b[0;32m<ipython-input-4-c855f236f66a>\u001b[0m in \u001b[0;36m<module>\u001b[0;34m\u001b[0m\n\u001b[1;32m      3\u001b[0m \u001b[0msvg_file\u001b[0m \u001b[0;34m=\u001b[0m \u001b[0mgraphml_file\u001b[0m\u001b[0;34m.\u001b[0m\u001b[0mreplace\u001b[0m\u001b[0;34m(\u001b[0m\u001b[0;34m'graphml'\u001b[0m\u001b[0;34m,\u001b[0m \u001b[0;34m'svg'\u001b[0m\u001b[0;34m)\u001b[0m\u001b[0;34m\u001b[0m\u001b[0m\n\u001b[1;32m      4\u001b[0m \u001b[0;34m\u001b[0m\u001b[0m\n\u001b[0;32m----> 5\u001b[0;31m \u001b[0mvisualisation\u001b[0m \u001b[0;34m=\u001b[0m \u001b[0mSvgGrapher\u001b[0m\u001b[0;34m(\u001b[0m\u001b[0;34m'files/graphs/'\u001b[0m \u001b[0;34m+\u001b[0m \u001b[0mgraphml_file\u001b[0m\u001b[0;34m)\u001b[0m\u001b[0;34m\u001b[0m\u001b[0m\n\u001b[0m\u001b[1;32m      6\u001b[0m \u001b[0;34m\u001b[0m\u001b[0m\n\u001b[1;32m      7\u001b[0m \u001b[0mvisualisation\u001b[0m\u001b[0;34m.\u001b[0m\u001b[0mdraw_graph\u001b[0m\u001b[0;34m(\u001b[0m\u001b[0;34m'files/svg/'\u001b[0m \u001b[0;34m+\u001b[0m \u001b[0msvg_file\u001b[0m\u001b[0;34m,\u001b[0m \u001b[0mstyle\u001b[0m\u001b[0;34m=\u001b[0m\u001b[0mcolour_style\u001b[0m\u001b[0;34m,\u001b[0m \u001b[0msize\u001b[0m\u001b[0;34m=\u001b[0m\u001b[0;36m1\u001b[0m\u001b[0;34m,\u001b[0m \u001b[0mscale_correction\u001b[0m\u001b[0;34m=\u001b[0m\u001b[0;36m370\u001b[0m\u001b[0;34m,\u001b[0m \u001b[0mcurved\u001b[0m\u001b[0;34m=\u001b[0m\u001b[0;32mTrue\u001b[0m\u001b[0;34m,\u001b[0m \u001b[0mlabel_correction\u001b[0m\u001b[0;34m=\u001b[0m\u001b[0;36m0.8\u001b[0m\u001b[0;34m,\u001b[0m \u001b[0mnode_scale\u001b[0m\u001b[0;34m=\u001b[0m\u001b[0;36m0.8\u001b[0m\u001b[0;34m,\u001b[0m \u001b[0moffset\u001b[0m\u001b[0;34m=\u001b[0m\u001b[0;34m(\u001b[0m\u001b[0;36m0\u001b[0m\u001b[0;34m,\u001b[0m\u001b[0;36m0\u001b[0m\u001b[0;34m)\u001b[0m\u001b[0;34m)\u001b[0m\u001b[0;34m\u001b[0m\u001b[0m\n",
      "\u001b[0;32m~/Code/chronotopic_cartographies_visualisations/visualisation-generators/notebooks/visualisation_generators.py\u001b[0m in \u001b[0;36m__init__\u001b[0;34m(self, input_file)\u001b[0m\n\u001b[1;32m    177\u001b[0m                 \u001b[0medge_data\u001b[0m\u001b[0;34m[\u001b[0m\u001b[0mkey_item\u001b[0m\u001b[0;34m]\u001b[0m \u001b[0;34m=\u001b[0m \u001b[0mdata\u001b[0m\u001b[0;34m.\u001b[0m\u001b[0mtext\u001b[0m\u001b[0;34m\u001b[0m\u001b[0m\n\u001b[1;32m    178\u001b[0m \u001b[0;34m\u001b[0m\u001b[0m\n\u001b[0;32m--> 179\u001b[0;31m             \u001b[0mself\u001b[0m\u001b[0;34m.\u001b[0m\u001b[0medges\u001b[0m\u001b[0;34m[\u001b[0m\u001b[0medge\u001b[0m\u001b[0;34m.\u001b[0m\u001b[0mattrib\u001b[0m\u001b[0;34m[\u001b[0m\u001b[0;34m'id'\u001b[0m\u001b[0;34m]\u001b[0m\u001b[0;34m]\u001b[0m \u001b[0;34m=\u001b[0m \u001b[0medge_data\u001b[0m\u001b[0;34m\u001b[0m\u001b[0m\n\u001b[0m\u001b[1;32m    180\u001b[0m \u001b[0;34m\u001b[0m\u001b[0m\n\u001b[1;32m    181\u001b[0m         \u001b[0;31m# Find the coordinates of each source and target\u001b[0m\u001b[0;34m\u001b[0m\u001b[0;34m\u001b[0m\u001b[0m\n",
      "\u001b[0;32msrc/lxml/etree.pyx\u001b[0m in \u001b[0;36mlxml.etree._Attrib.__getitem__\u001b[0;34m()\u001b[0m\n",
      "\u001b[0;31mKeyError\u001b[0m: 'id'"
     ]
    }
   ],
   "source": [
    "graphml_file = 'war-of-the-worlds-topoi..graphml'\n",
    "\n",
    "svg_file = graphml_file.replace('graphml', 'svg')\n",
    "\n",
    "visualisation = SvgGrapher('files/graphs/' + graphml_file)\n",
    "\n",
    "visualisation.draw_graph('files/svg/' + svg_file, style=colour_style, size=1, scale_correction=370, curved=True, label_correction=0.8, node_scale=0.8, offset=(0,0))\n",
    "\n",
    "# Display the graph\n",
    "display_svg(SVG('files/svg/' + svg_file))"
   ]
  },
  {
   "cell_type": "code",
   "execution_count": null,
   "metadata": {},
   "outputs": [],
   "source": []
  }
 ],
 "metadata": {
  "kernelspec": {
   "display_name": "Python 3",
   "language": "python",
   "name": "python3"
  },
  "language_info": {
   "codemirror_mode": {
    "name": "ipython",
    "version": 3
   },
   "file_extension": ".py",
   "mimetype": "text/x-python",
   "name": "python",
   "nbconvert_exporter": "python",
   "pygments_lexer": "ipython3",
   "version": "3.6.6"
  }
 },
 "nbformat": 4,
 "nbformat_minor": 4
}

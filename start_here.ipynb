{
 "cells": [
  {
   "cell_type": "markdown",
   "metadata": {},
   "source": [
    "# Start Here\n",
    "\n",
    "This repository contains marked up texts, visualisations, and Python scripts for generating visualisations related to the AHRC-funded *Chronotopic Cartographies for Literature* project at Lancaster University. \n",
    "\n",
    "This notebook file contains a complete explanation of the XML schema designed by the research team, documentation of the visualisations themselves, and a step-by-step guide to creating your own visualisations."
   ]
  },
  {
   "cell_type": "markdown",
   "metadata": {},
   "source": [
    "---\n",
    "## Literary Topology: An Explanation of the Map Types\n",
    "Each individual marked-up XML text when processed using a custom Python script generates not one map but a map series.  These present different kinds of spatial relations in the text. We call these graphs “maps” because, although they are topological forms, this is their primary function in relation to a literary text.  They allow for the relative mapping of the internal contents of a text (as opposed to the absolute mapping of the literary world onto the real). We are calling this “literary topology”.  The map types are described below.\n",
    "\n",
    "### Complete Map\n",
    "This is a full map of a text showing the topoi (nodes), their associated toporefs (place-names referenced in a node), and the connections between them (lines/arrows). This graph shows the full spatial extent of a text.  The map is helpful for shorter texts (e.g. poems) but becomes overloaded in relation to highly complex texts (e.g. nineteenth-century novels). In such cases it is necessary to show details alongside the master map or to code up and  generate maps for certain sections of the text.  \n",
    "\n",
    "### Topoi Map\n",
    "This privileges the topoi (nodes) and the connections between them without displaying their associated toporefs (within a node). Whilst this loses the detail of the complete map, the spatial structure is considerably clearer, and it is therefore useful for visualising longer texts. The map shows place names for nodes but not chronotopic types.\n",
    "\n",
    "### Topoi and Chronotopic Archetypes\n",
    "This shows the relationship between the topoi as place-names and their underlying chronotopic types (e.g. “Geneva”/ “Prison”).   Since there is no spatial relationship between the topoi and their underlying chronotopes the connections between them are not coloured.  For many texts this graph therefore appears as disconnected clusters. However, chronotopes become interconnected where the same place name (e.g. “Geneva”) shifts from being identified chronotopically as “Prison” (chronotopic identity 1) to “Idyll” (chronotopic identity 2). Now the clusters become interlinked.  As well as showing the relationship between the chronotopes and the topoi, this therefore also shows how chronotopes can shift dynamically over the course of a text.  Some texts do this far more than others. \n",
    "\n",
    "### Deep Chronotope Map\n",
    "This is the simplest map to understand.  It represents each chronotope as a single node. The size of the nodes reflects the percentage of the text dedicated to each chronotope. This is useful for showing the balance of chronotopic spatio-temporal forms across a text.\n",
    "\n",
    "### Toporefs and Chronotopic Archetypes\n",
    "This map shows which toporefs (detailed place names) are associated with a chronotopic archetype (e.g. “road”) showing how a text correlates different places with each spatio-temporal form.\n",
    "\n",
    "### Syuzhet Map \n",
    "This shows the topoi and their connections as they appear sequentially across the text. This is a spatialised visualisation of the “syuzhet” as defined in Proppian narratology: the plot or  narrative as it is told (i.e. may be disordered, fragmented involve flashback etc.). \n",
    "\n",
    "### Fabula Map\n",
    "Partnering with the Syuzhet Map above, the Fabula Map shows the topoi and connections in the order of the story: that is, the order in which events occurred (not necessarily the order as narrated).  This is difficult to achieve for a complex text, so at present fabula maps only exist for shorter poems with the Fabula constructed by re-ordering the Syuzhet rather than generated directly. "
   ]
  },
  {
   "cell_type": "markdown",
   "metadata": {},
   "source": [
    "---\n",
    "## Guide to Generating Visualisations\n",
    "\n",
    "### Overview\n",
    "\n",
    "Generating a Chronotopic Cartographies visualisation is a five step process:\n",
    "\n",
    "1.  Marking up a text [using the CC XML schema – see separate Guide]\n",
    "2.  Validating the marked up text\n",
    "3.  Generating the graph from the XML\n",
    "4.  Laying out the graph in Gephi\n",
    "5.  Generating the final visualisation\n",
    "\n",
    "This document provides instructions for steps 2, 3 and 4.  It assumes that you already have a text marked up using the schema.\n",
    "\n",
    "**For details of how to use the schema (with examples) see the 'schema.ipynb' notebook in this folder.**"
   ]
  },
  {
   "cell_type": "code",
   "execution_count": null,
   "metadata": {},
   "outputs": [],
   "source": []
  }
 ],
 "metadata": {
  "kernelspec": {
   "display_name": "Python 3",
   "language": "python",
   "name": "python3"
  },
  "language_info": {
   "codemirror_mode": {
    "name": "ipython",
    "version": 3
   },
   "file_extension": ".py",
   "mimetype": "text/x-python",
   "name": "python",
   "nbconvert_exporter": "python",
   "pygments_lexer": "ipython3",
   "version": "3.6.6"
  }
 },
 "nbformat": 4,
 "nbformat_minor": 4
}

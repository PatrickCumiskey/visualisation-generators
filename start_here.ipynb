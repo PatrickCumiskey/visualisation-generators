{
 "cells": [
  {
   "cell_type": "markdown",
   "metadata": {},
   "source": [
    "# Start Here\n",
    "\n",
    "This repository contains marked up texts, visualisations, and Python scripts for generating visualisations related to the AHRC-funded [*Chronotopic Cartographies for Literature*](https://www.lancaster.ac.uk/chronotopic-cartographies/) project at Lancaster University. \n",
    "\n",
    "Before you start, you should have some basic familiarity with Jupyter Notebooks. If you've not used Notebooks before, you can find a tutorial showing you how to use them [here](https://mybinder.org/v2/gh/ipython/ipython-in-depth/master?filepath=binder/Index.ipynb).\n",
    "\n",
    "If this is the first time you've run these notebooks, you also need to click on the cell below and press the 'play' button in the toolbar. This will install the necessary Python libraries to create the visualisations."
   ]
  },
  {
   "cell_type": "code",
   "execution_count": null,
   "metadata": {},
   "outputs": [],
   "source": [
    "!pip install -r requirements.txt"
   ]
  },
  {
   "cell_type": "markdown",
   "metadata": {},
   "source": [
    "---\n",
    "## Learning\n",
    "\n",
    "### Overview\n",
    "\n",
    "Generating a Chronotopic Cartographies visualisation is a five step process: marking up a text using the Chronotopic Cartographies XML schema; validating and checking your markup; generating the graph files; laying out the graphs in Gephi; and generating the final visualisations.\n",
    "\n",
    "To get you started, we've provided a learning notebook which walks you through each stage:\n",
    "\n",
    "- [Using the Toolset](notebooks/using_the_toolset.ipynb)\n",
    "\n",
    "If you follow the instructions in this notebook, you'll be able to mark up a text, generate graphs from the text and edit them in Gephi, and create visualisations.\n",
    "\n",
    "---\n",
    "\n",
    "## The Tools\n",
    "Once you're comfortable using the tools, you can use the following notebooks for generating the graphs and producing the finished visualisations directly:\n",
    "\n",
    "- [Graph Generator](notebooks/graphs.ipynb)\n",
    "- [Visualisation Generator](notebooks/visualisations.ipynb)"
   ]
  },
  {
   "cell_type": "markdown",
   "metadata": {},
   "source": []
  }
 ],
 "metadata": {
  "kernelspec": {
   "display_name": "Python 3",
   "language": "python",
   "name": "python3"
  },
  "language_info": {
   "codemirror_mode": {
    "name": "ipython",
    "version": 3
   },
   "file_extension": ".py",
   "mimetype": "text/x-python",
   "name": "python",
   "nbconvert_exporter": "python",
   "pygments_lexer": "ipython3",
   "version": "3.6.6"
  }
 },
 "nbformat": 4,
 "nbformat_minor": 4
}
